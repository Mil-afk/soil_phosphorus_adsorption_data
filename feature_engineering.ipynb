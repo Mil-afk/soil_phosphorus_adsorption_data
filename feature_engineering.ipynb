{
 "cells": [
  {
   "metadata": {
    "ExecuteTime": {
     "end_time": "2025-07-09T07:16:54.960559Z",
     "start_time": "2025-07-09T07:16:54.944461Z"
    }
   },
   "cell_type": "code",
   "source": [
    "import xgboost as xgb\n",
    "import numpy as np\n",
    "import pandas as pd\n",
    "import matplotlib.pyplot as plt\n",
    "from scipy.optimize import curve_fit\n",
    "from sklearn.model_selection import train_test_split"
   ],
   "id": "272d60934d805a1e",
   "outputs": [],
   "execution_count": 2
  },
  {
   "metadata": {
    "ExecuteTime": {
     "end_time": "2025-07-09T07:19:19.323785Z",
     "start_time": "2025-07-09T07:19:18.001519Z"
    }
   },
   "cell_type": "code",
   "source": [
    "url = \"https://zenodo.org/record/15854383/files/soil_phosphorus_adsorption_data.xlsx\"\n",
    "df = pd.read_excel(url)\n",
    "\n",
    "df.head()"
   ],
   "id": "63fadab3298386d6",
   "outputs": [
    {
     "data": {
      "text/plain": [
       "   id  code Soil Classification Soil texture   C  Si   S    pH     EC  CaCO3  \\\n",
       "0   4  1053               Loamy          SCL  24  24  52  4.54  0.336    0.0   \n",
       "1   5  1055               Loamy           SL  20  28  52  5.76  0.449    0.0   \n",
       "2   6  1057               Loamy           CL  32  24  44  4.95  0.244    0.0   \n",
       "3   7  1059               Loamy          SCL  28  24  48  4.80  0.265    0.0   \n",
       "4  51  1069               Loamy            L  18  34  48  7.48  0.397   20.8   \n",
       "\n",
       "   ...  1ppm_applied  2ppm_applied  4ppm_applied  6ppm_applied  10ppm_applied  \\\n",
       "0  ...       5.35860       10.7172       21.4344       32.1516        53.5860   \n",
       "1  ...       5.39295       10.7859       21.5718       32.3577        53.9295   \n",
       "2  ...       5.15250       10.3050       20.6100       30.9150        51.5250   \n",
       "3  ...       5.22120       10.4424       20.8848       31.3272        52.2120   \n",
       "4  ...       5.11815       10.2363       20.4726       30.7089        51.1815   \n",
       "\n",
       "   1ppm_adsorbed  2ppm_adsorbed  4ppm_adsorbed  6ppm_adsorbed  10ppm_adsorbed  \n",
       "0       5.216276      10.311822      20.682160      31.260304       52.135641  \n",
       "1       5.341016      10.336667      20.503187      30.689553       50.442041  \n",
       "2       5.058673      10.213389      20.295749      30.403460       50.937100  \n",
       "3       5.174940      10.246448      20.405650      30.795369       50.953534  \n",
       "4       4.479507       9.494015      18.376922      26.764393       39.527575  \n",
       "\n",
       "[5 rows x 31 columns]"
      ],
      "text/html": [
       "<div>\n",
       "<style scoped>\n",
       "    .dataframe tbody tr th:only-of-type {\n",
       "        vertical-align: middle;\n",
       "    }\n",
       "\n",
       "    .dataframe tbody tr th {\n",
       "        vertical-align: top;\n",
       "    }\n",
       "\n",
       "    .dataframe thead th {\n",
       "        text-align: right;\n",
       "    }\n",
       "</style>\n",
       "<table border=\"1\" class=\"dataframe\">\n",
       "  <thead>\n",
       "    <tr style=\"text-align: right;\">\n",
       "      <th></th>\n",
       "      <th>id</th>\n",
       "      <th>code</th>\n",
       "      <th>Soil Classification</th>\n",
       "      <th>Soil texture</th>\n",
       "      <th>C</th>\n",
       "      <th>Si</th>\n",
       "      <th>S</th>\n",
       "      <th>pH</th>\n",
       "      <th>EC</th>\n",
       "      <th>CaCO3</th>\n",
       "      <th>...</th>\n",
       "      <th>1ppm_applied</th>\n",
       "      <th>2ppm_applied</th>\n",
       "      <th>4ppm_applied</th>\n",
       "      <th>6ppm_applied</th>\n",
       "      <th>10ppm_applied</th>\n",
       "      <th>1ppm_adsorbed</th>\n",
       "      <th>2ppm_adsorbed</th>\n",
       "      <th>4ppm_adsorbed</th>\n",
       "      <th>6ppm_adsorbed</th>\n",
       "      <th>10ppm_adsorbed</th>\n",
       "    </tr>\n",
       "  </thead>\n",
       "  <tbody>\n",
       "    <tr>\n",
       "      <th>0</th>\n",
       "      <td>4</td>\n",
       "      <td>1053</td>\n",
       "      <td>Loamy</td>\n",
       "      <td>SCL</td>\n",
       "      <td>24</td>\n",
       "      <td>24</td>\n",
       "      <td>52</td>\n",
       "      <td>4.54</td>\n",
       "      <td>0.336</td>\n",
       "      <td>0.0</td>\n",
       "      <td>...</td>\n",
       "      <td>5.35860</td>\n",
       "      <td>10.7172</td>\n",
       "      <td>21.4344</td>\n",
       "      <td>32.1516</td>\n",
       "      <td>53.5860</td>\n",
       "      <td>5.216276</td>\n",
       "      <td>10.311822</td>\n",
       "      <td>20.682160</td>\n",
       "      <td>31.260304</td>\n",
       "      <td>52.135641</td>\n",
       "    </tr>\n",
       "    <tr>\n",
       "      <th>1</th>\n",
       "      <td>5</td>\n",
       "      <td>1055</td>\n",
       "      <td>Loamy</td>\n",
       "      <td>SL</td>\n",
       "      <td>20</td>\n",
       "      <td>28</td>\n",
       "      <td>52</td>\n",
       "      <td>5.76</td>\n",
       "      <td>0.449</td>\n",
       "      <td>0.0</td>\n",
       "      <td>...</td>\n",
       "      <td>5.39295</td>\n",
       "      <td>10.7859</td>\n",
       "      <td>21.5718</td>\n",
       "      <td>32.3577</td>\n",
       "      <td>53.9295</td>\n",
       "      <td>5.341016</td>\n",
       "      <td>10.336667</td>\n",
       "      <td>20.503187</td>\n",
       "      <td>30.689553</td>\n",
       "      <td>50.442041</td>\n",
       "    </tr>\n",
       "    <tr>\n",
       "      <th>2</th>\n",
       "      <td>6</td>\n",
       "      <td>1057</td>\n",
       "      <td>Loamy</td>\n",
       "      <td>CL</td>\n",
       "      <td>32</td>\n",
       "      <td>24</td>\n",
       "      <td>44</td>\n",
       "      <td>4.95</td>\n",
       "      <td>0.244</td>\n",
       "      <td>0.0</td>\n",
       "      <td>...</td>\n",
       "      <td>5.15250</td>\n",
       "      <td>10.3050</td>\n",
       "      <td>20.6100</td>\n",
       "      <td>30.9150</td>\n",
       "      <td>51.5250</td>\n",
       "      <td>5.058673</td>\n",
       "      <td>10.213389</td>\n",
       "      <td>20.295749</td>\n",
       "      <td>30.403460</td>\n",
       "      <td>50.937100</td>\n",
       "    </tr>\n",
       "    <tr>\n",
       "      <th>3</th>\n",
       "      <td>7</td>\n",
       "      <td>1059</td>\n",
       "      <td>Loamy</td>\n",
       "      <td>SCL</td>\n",
       "      <td>28</td>\n",
       "      <td>24</td>\n",
       "      <td>48</td>\n",
       "      <td>4.80</td>\n",
       "      <td>0.265</td>\n",
       "      <td>0.0</td>\n",
       "      <td>...</td>\n",
       "      <td>5.22120</td>\n",
       "      <td>10.4424</td>\n",
       "      <td>20.8848</td>\n",
       "      <td>31.3272</td>\n",
       "      <td>52.2120</td>\n",
       "      <td>5.174940</td>\n",
       "      <td>10.246448</td>\n",
       "      <td>20.405650</td>\n",
       "      <td>30.795369</td>\n",
       "      <td>50.953534</td>\n",
       "    </tr>\n",
       "    <tr>\n",
       "      <th>4</th>\n",
       "      <td>51</td>\n",
       "      <td>1069</td>\n",
       "      <td>Loamy</td>\n",
       "      <td>L</td>\n",
       "      <td>18</td>\n",
       "      <td>34</td>\n",
       "      <td>48</td>\n",
       "      <td>7.48</td>\n",
       "      <td>0.397</td>\n",
       "      <td>20.8</td>\n",
       "      <td>...</td>\n",
       "      <td>5.11815</td>\n",
       "      <td>10.2363</td>\n",
       "      <td>20.4726</td>\n",
       "      <td>30.7089</td>\n",
       "      <td>51.1815</td>\n",
       "      <td>4.479507</td>\n",
       "      <td>9.494015</td>\n",
       "      <td>18.376922</td>\n",
       "      <td>26.764393</td>\n",
       "      <td>39.527575</td>\n",
       "    </tr>\n",
       "  </tbody>\n",
       "</table>\n",
       "<p>5 rows × 31 columns</p>\n",
       "</div>"
      ]
     },
     "execution_count": 4,
     "metadata": {},
     "output_type": "execute_result"
    }
   ],
   "execution_count": 4
  },
  {
   "metadata": {},
   "cell_type": "markdown",
   "source": "Phosphorus applied and adsorbed is expressed in kg/stremma",
   "id": "b8b1800a375c3799"
  },
  {
   "metadata": {
    "ExecuteTime": {
     "end_time": "2025-07-09T07:24:26.799923Z",
     "start_time": "2025-07-09T07:24:26.784639Z"
    }
   },
   "cell_type": "code",
   "source": [
    "#convert to kg/ha\n",
    "df['1ppm_adsorbed'] = 10 * df['1ppm_adsorbed']\n",
    "df['2ppm_adsorbed'] = 10 * df['2ppm_adsorbed']\n",
    "df['4ppm_adsorbed'] = 10 * df['4ppm_adsorbed']\n",
    "df['6ppm_adsorbed'] = 10 * df['6ppm_adsorbed']\n",
    "df['10ppm_adsorbed'] = 10 * df['10ppm_adsorbed']"
   ],
   "id": "63dc23f0947aa66d",
   "outputs": [],
   "execution_count": 5
  },
  {
   "metadata": {
    "ExecuteTime": {
     "end_time": "2025-07-09T07:25:42.391885Z",
     "start_time": "2025-07-09T07:25:42.375896Z"
    }
   },
   "cell_type": "code",
   "source": [
    "# convert absorbed P to mg/kg of soil\n",
    "df['1ppm_adsorbed'] = (df['1ppm_adsorbed']*0.4364*1000000)/(df['ΦΕΒ']*15*10000)\n",
    "df['2ppm_adsorbed'] = (df['2ppm_adsorbed']*0.4364*1000000)/(df['ΦΕΒ']*15*10000)\n",
    "df['4ppm_adsorbed'] = (df['4ppm_adsorbed']*0.4364*1000000)/(df['ΦΕΒ']*15*10000)\n",
    "df['6ppm_adsorbed'] = (df['6ppm_adsorbed']*0.4364*1000000)/(df['ΦΕΒ']*15*10000)\n",
    "df['10ppm_adsorbed'] = (df['10ppm_adsorbed']*0.4364*1000000)/(df['ΦΕΒ']*15*10000)"
   ],
   "id": "7c2aebbf2ba956d1",
   "outputs": [],
   "execution_count": 6
  },
  {
   "metadata": {
    "ExecuteTime": {
     "end_time": "2025-07-09T07:27:58.318419Z",
     "start_time": "2025-07-09T07:27:58.302335Z"
    }
   },
   "cell_type": "code",
   "source": [
    "# Select only the necessary columns\n",
    "df_final = df[['S', 'C', 'Si', 'pH', 'EC', 'Organic matter', 'CaCO3',\n",
    "       'NO3', 'P', 'K', 'Mg', 'Fe', 'Zn', 'Mn', 'Cu', 'B',\n",
    "        '1ppm_adsorbed', '2ppm_adsorbed', '4ppm_adsorbed', '6ppm_adsorbed', '10ppm_adsorbed']]"
   ],
   "id": "65b4c7f6c9cf0c4a",
   "outputs": [],
   "execution_count": 8
  },
  {
   "metadata": {
    "ExecuteTime": {
     "end_time": "2025-07-09T08:06:18.549511Z",
     "start_time": "2025-07-09T08:06:18.432825Z"
    }
   },
   "cell_type": "code",
   "source": [
    "# data wrangling\n",
    "from dslectures.core import (\n",
    "    get_dataset,\n",
    "    display_large,\n",
    "    convert_strings_to_categories,\n",
    "    rf_feature_importance,\n",
    "    plot_feature_importance,\n",
    "    plot_dendogram,\n",
    ")\n",
    "from dslectures.structured import proc_df\n",
    "from pathlib import Path\n",
    "\n",
    "# data viz\n",
    "import matplotlib.pyplot as plt\n",
    "import seaborn as sns\n",
    "from sklearn.metrics import ConfusionMatrixDisplay , RocCurveDisplay\n",
    "from sklearn.tree import plot_tree\n",
    "\n",
    "sns.set(color_codes=True)\n",
    "sns.set_palette(sns.color_palette(\"muted\"))\n",
    "\n",
    "# ml magic\n",
    "from sklearn.model_selection import train_test_split\n",
    "from sklearn.metrics import ConfusionMatrixDisplay , accuracy_score, roc_auc_score\n",
    "from sklearn.ensemble import RandomForestClassifier\n",
    "import scipy\n",
    "from scipy.cluster import hierarchy as hc"
   ],
   "id": "8c295c604e1b95ac",
   "outputs": [],
   "execution_count": 23
  },
  {
   "metadata": {
    "ExecuteTime": {
     "end_time": "2025-07-09T08:42:57.146617Z",
     "start_time": "2025-07-09T08:42:57.117314Z"
    }
   },
   "cell_type": "code",
   "source": [
    "df2 = df_final.drop(columns=['1ppm_adsorbed', '2ppm_adsorbed',\n",
    "       '4ppm_adsorbed', '6ppm_adsorbed', '10ppm_adsorbed'])"
   ],
   "id": "38940e51ee7ed455",
   "outputs": [],
   "execution_count": 25
  },
  {
   "metadata": {
    "ExecuteTime": {
     "end_time": "2025-07-09T08:43:11.553222Z",
     "start_time": "2025-07-09T08:43:11.407800Z"
    }
   },
   "cell_type": "code",
   "source": "plot_dendogram(df2)",
   "id": "fa887907d200daec",
   "outputs": [
    {
     "data": {
      "text/plain": [
       "<Figure size 1600x1000 with 1 Axes>"
      ],
      "image/png": "[encoded data removed]"
     },
     "metadata": {},
     "output_type": "display_data"
    }
   ],
   "execution_count": 26
  },
  {
   "metadata": {
    "ExecuteTime": {
     "end_time": "2025-07-09T08:44:37.646279Z",
     "start_time": "2025-07-09T08:44:37.594014Z"
    }
   },
   "cell_type": "code",
   "source": [
    "# Create a new dataset by pairing each set of soil features with each Ce level (1, 2, 4, 6, 10 mg/L)\n",
    "# and the corresponding adsorbed phosphorus value (q). This transforms the original wide-format data\n",
    "# into a long-format dataset suitable for supervised learning or regression (e.g., modeling q as a function of soil features and Ce).\n",
    "\n",
    "Ce_values = [1, 2, 4, 6, 10]\n",
    "q_columns = ['1ppm_adsorbed', '2ppm_adsorbed', '4ppm_adsorbed', '6ppm_adsorbed', '10ppm_adsorbed']\n",
    "soil_feature_names = ['S', 'C', 'Si', 'pH', 'EC', 'Organic matter', 'CaCO3', 'NO3', 'P', 'K',\n",
    "       'Mg', 'Fe', 'Zn', 'Mn', 'Cu', 'B',]\n",
    "\n",
    "#'Fe', 'NO3', 'B', 'C', 'Si', pH, 'EC','Cu',\n",
    "\n",
    "rows = []\n",
    "\n",
    "for _, row in df_final.iterrows():\n",
    "    soil_features = row[soil_feature_names].values.astype(float)\n",
    "    for i, Ce in enumerate(Ce_values):\n",
    "        q = row[q_columns[i]]\n",
    "        combined = list(soil_features) + [Ce]\n",
    "        rows.append(combined + [q])\n",
    "\n",
    "# Create DataFrame\n",
    "columns = soil_feature_names + ['Ce'] + ['q']\n",
    "df_seq = pd.DataFrame(rows, columns=columns)"
   ],
   "id": "2bcfb452f875b1bb",
   "outputs": [],
   "execution_count": 30
  },
  {
   "metadata": {
    "ExecuteTime": {
     "end_time": "2025-07-09T08:44:40.768037Z",
     "start_time": "2025-07-09T08:44:40.752180Z"
    }
   },
   "cell_type": "code",
   "source": "from fastai.tabular.all import *",
   "id": "96bd7d6c69064e32",
   "outputs": [],
   "execution_count": 31
  },
  {
   "metadata": {
    "ExecuteTime": {
     "end_time": "2025-07-09T08:44:41.222901Z",
     "start_time": "2025-07-09T08:44:41.209454Z"
    }
   },
   "cell_type": "code",
   "source": "pd.options.mode.chained_assignment = None  # default='warn'",
   "id": "b765fb635152aaf0",
   "outputs": [],
   "execution_count": 32
  },
  {
   "metadata": {
    "ExecuteTime": {
     "end_time": "2025-07-09T08:44:41.747421Z",
     "start_time": "2025-07-09T08:44:41.717528Z"
    }
   },
   "cell_type": "code",
   "source": "cat_vars = []",
   "id": "891188cf045654eb",
   "outputs": [],
   "execution_count": 33
  },
  {
   "metadata": {
    "ExecuteTime": {
     "end_time": "2025-07-09T08:44:43.662321Z",
     "start_time": "2025-07-09T08:44:43.646604Z"
    }
   },
   "cell_type": "code",
   "source": [
    "cont_vars = ['S', 'C', 'Si', 'pH', 'EC', 'Organic matter', 'CaCO3', 'NO3', 'P', 'K',\n",
    "       'Mg', 'Fe', 'Zn', 'Mn', 'Cu', 'B', 'Ce', ]"
   ],
   "id": "8e3c4950b3e99551",
   "outputs": [],
   "execution_count": 34
  },
  {
   "metadata": {
    "ExecuteTime": {
     "end_time": "2025-07-09T08:45:17.575807Z",
     "start_time": "2025-07-09T08:45:17.564897Z"
    }
   },
   "cell_type": "code",
   "source": "df_seq.columns",
   "id": "89094ba5ba7da5d9",
   "outputs": [
    {
     "data": {
      "text/plain": [
       "Index(['S', 'C', 'Si', 'pH', 'EC', 'Organic matter', 'CaCO3', 'NO3', 'P', 'K',\n",
       "       'Mg', 'Fe', 'Zn', 'Mn', 'Cu', 'B', 'Ce', 'q'],\n",
       "      dtype='object')"
      ]
     },
     "execution_count": 36,
     "metadata": {},
     "output_type": "execute_result"
    }
   ],
   "execution_count": 36
  },
  {
   "metadata": {
    "ExecuteTime": {
     "end_time": "2025-07-09T08:45:29.016497Z",
     "start_time": "2025-07-09T08:45:29.000810Z"
    }
   },
   "cell_type": "code",
   "source": "df_seq.shape",
   "id": "1e716eb79b2eb7fb",
   "outputs": [
    {
     "data": {
      "text/plain": [
       "(735, 18)"
      ]
     },
     "execution_count": 37,
     "metadata": {},
     "output_type": "execute_result"
    }
   ],
   "execution_count": 37
  },
  {
   "metadata": {
    "ExecuteTime": {
     "end_time": "2025-07-09T08:45:38.162782Z",
     "start_time": "2025-07-09T08:45:38.146952Z"
    }
   },
   "cell_type": "code",
   "source": "dep_var =  'q'",
   "id": "a1f03e522141e58e",
   "outputs": [],
   "execution_count": 38
  },
  {
   "metadata": {
    "ExecuteTime": {
     "end_time": "2025-07-09T09:29:32.471180Z",
     "start_time": "2025-07-09T09:29:32.453202Z"
    }
   },
   "cell_type": "code",
   "source": "splits = RandomSplitter(valid_pct=0.2, seed=2)(range_of(df_seq))",
   "id": "a58b59e5ed6a14d6",
   "outputs": [],
   "execution_count": 94
  },
  {
   "metadata": {
    "ExecuteTime": {
     "end_time": "2025-07-09T09:29:33.162009Z",
     "start_time": "2025-07-09T09:29:33.154764Z"
    }
   },
   "cell_type": "code",
   "source": "procs = [Categorify, FillMissing]",
   "id": "3e7043398827e71b",
   "outputs": [],
   "execution_count": 95
  },
  {
   "metadata": {
    "ExecuteTime": {
     "end_time": "2025-07-09T09:29:36.074392Z",
     "start_time": "2025-07-09T09:29:36.061116Z"
    }
   },
   "cell_type": "code",
   "source": [
    "to = TabularPandas(df_seq, procs, cat_vars, cont_vars, dep_var, y_block=RegressionBlock(),\n",
    "                   splits=splits, inplace=True, reduce_memory=True)"
   ],
   "id": "2cf8581ec14f205e",
   "outputs": [],
   "execution_count": 96
  },
  {
   "metadata": {
    "ExecuteTime": {
     "end_time": "2025-07-09T09:29:38.019424Z",
     "start_time": "2025-07-09T09:29:38.011312Z"
    }
   },
   "cell_type": "code",
   "source": [
    "xs, y = to.train.xs, to.train.y\n",
    "valid_xs, valid_y = to.valid.xs, to.valid.y"
   ],
   "id": "70f20fc75ace00e3",
   "outputs": [],
   "execution_count": 97
  },
  {
   "metadata": {
    "ExecuteTime": {
     "end_time": "2025-07-09T09:29:43.628334Z",
     "start_time": "2025-07-09T09:29:43.622360Z"
    }
   },
   "cell_type": "code",
   "source": "from sklearn.feature_selection import SelectKBest, chi2, f_classif",
   "id": "a19cab3c226d422b",
   "outputs": [],
   "execution_count": 98
  },
  {
   "metadata": {
    "ExecuteTime": {
     "end_time": "2025-07-09T09:29:44.281821Z",
     "start_time": "2025-07-09T09:29:44.250017Z"
    }
   },
   "cell_type": "code",
   "source": [
    "# compute the ANOVA F-statistic for each column\n",
    "select = SelectKBest(f_classif, k=5)\n",
    "fit = select.fit(xs, y)"
   ],
   "id": "677357a2184e9708",
   "outputs": [
    {
     "name": "stderr",
     "output_type": "stream",
     "text": [
      "divide by zero encountered in divide\n"
     ]
    }
   ],
   "execution_count": 99
  },
  {
   "metadata": {
    "ExecuteTime": {
     "end_time": "2025-07-09T09:29:44.774432Z",
     "start_time": "2025-07-09T09:29:44.767946Z"
    }
   },
   "cell_type": "code",
   "source": "p_values = {col: np.round(p_value, 4) for col, p_value in zip(xs.columns, fit.pvalues_)}",
   "id": "b5dd5d16126803b5",
   "outputs": [],
   "execution_count": 100
  },
  {
   "metadata": {
    "ExecuteTime": {
     "end_time": "2025-07-09T09:29:45.278160Z",
     "start_time": "2025-07-09T09:29:45.262113Z"
    }
   },
   "cell_type": "code",
   "source": "print(p_values)",
   "id": "6ae515ee2c6b96ea",
   "outputs": [
    {
     "name": "stdout",
     "output_type": "stream",
     "text": [
      "{'S': 0.064, 'C': 0.0005, 'Si': 0.0462, 'pH': 0.0, 'EC': 0.0, 'Organic matter': 0.5172, 'CaCO3': 0.7098, 'NO3': 0.0, 'P': 0.0, 'K': 0.0376, 'Mg': 0.5951, 'Fe': 1e-04, 'Zn': 0.0315, 'Mn': 0.0011, 'Cu': 0.0009, 'B': 0.7114, 'Ce': 0.0}\n"
     ]
    }
   ],
   "execution_count": 101
  },
  {
   "metadata": {
    "ExecuteTime": {
     "end_time": "2025-07-09T09:29:47.681582Z",
     "start_time": "2025-07-09T09:29:47.666201Z"
    }
   },
   "cell_type": "code",
   "source": "from sklearn.ensemble import RandomForestRegressor",
   "id": "12195154024aa217",
   "outputs": [],
   "execution_count": 102
  },
  {
   "metadata": {
    "ExecuteTime": {
     "end_time": "2025-07-09T09:29:48.381252Z",
     "start_time": "2025-07-09T09:29:48.365583Z"
    }
   },
   "cell_type": "code",
   "source": "def r_mse(pred, y): return round(math.sqrt(((pred-y)**2).mean()),6)",
   "id": "d83ccdfc92af817f",
   "outputs": [],
   "execution_count": 103
  },
  {
   "metadata": {
    "ExecuteTime": {
     "end_time": "2025-07-09T09:29:48.889967Z",
     "start_time": "2025-07-09T09:29:48.874319Z"
    }
   },
   "cell_type": "code",
   "source": "def m_rmse(m, xs, y): return r_mse(m.predict(xs), y)",
   "id": "cd1e6cc6f1213aa8",
   "outputs": [],
   "execution_count": 104
  },
  {
   "metadata": {
    "ExecuteTime": {
     "end_time": "2025-07-09T09:29:49.413384Z",
     "start_time": "2025-07-09T09:29:49.401269Z"
    }
   },
   "cell_type": "code",
   "source": [
    "def rf(xs, y, n_estimators = 15, max_features = 0.5, min_samples_leaf = 5, **kwargs):\n",
    "    return  RandomForestRegressor(n_jobs = -1, n_estimators = n_estimators, max_features = max_features, min_samples_leaf = min_samples_leaf, oob_score = True, **kwargs).fit(xs,y)"
   ],
   "id": "3bcdabe3f4696fce",
   "outputs": [],
   "execution_count": 105
  },
  {
   "metadata": {
    "ExecuteTime": {
     "end_time": "2025-07-09T09:29:50.003143Z",
     "start_time": "2025-07-09T09:29:49.955351Z"
    }
   },
   "cell_type": "code",
   "source": "m = rf(xs, y)",
   "id": "e81b69ee5d333b50",
   "outputs": [],
   "execution_count": 106
  },
  {
   "metadata": {
    "ExecuteTime": {
     "end_time": "2025-07-09T09:29:50.603849Z",
     "start_time": "2025-07-09T09:29:50.536669Z"
    }
   },
   "cell_type": "code",
   "source": "m_rmse(m, xs, y), m_rmse(m, valid_xs, valid_y)",
   "id": "4d8e0fad280f7d21",
   "outputs": [
    {
     "data": {
      "text/plain": [
       "(56.975486, 67.239682)"
      ]
     },
     "execution_count": 107,
     "metadata": {},
     "output_type": "execute_result"
    }
   ],
   "execution_count": 107
  },
  {
   "metadata": {
    "ExecuteTime": {
     "end_time": "2025-07-09T09:29:53.429940Z",
     "start_time": "2025-07-09T09:29:53.413969Z"
    }
   },
   "cell_type": "code",
   "source": "preds = np.stack([t.predict(valid_xs) for t in m.estimators_])",
   "id": "a47926585509cfa6",
   "outputs": [
    {
     "name": "stderr",
     "output_type": "stream",
     "text": [
      "X has feature names, but DecisionTreeRegressor was fitted without feature names\n",
      "X has feature names, but DecisionTreeRegressor was fitted without feature names\n",
      "X has feature names, but DecisionTreeRegressor was fitted without feature names\n",
      "X has feature names, but DecisionTreeRegressor was fitted without feature names\n",
      "X has feature names, but DecisionTreeRegressor was fitted without feature names\n",
      "X has feature names, but DecisionTreeRegressor was fitted without feature names\n",
      "X has feature names, but DecisionTreeRegressor was fitted without feature names\n",
      "X has feature names, but DecisionTreeRegressor was fitted without feature names\n",
      "X has feature names, but DecisionTreeRegressor was fitted without feature names\n",
      "X has feature names, but DecisionTreeRegressor was fitted without feature names\n",
      "X has feature names, but DecisionTreeRegressor was fitted without feature names\n",
      "X has feature names, but DecisionTreeRegressor was fitted without feature names\n",
      "X has feature names, but DecisionTreeRegressor was fitted without feature names\n",
      "X has feature names, but DecisionTreeRegressor was fitted without feature names\n",
      "X has feature names, but DecisionTreeRegressor was fitted without feature names\n"
     ]
    }
   ],
   "execution_count": 108
  },
  {
   "metadata": {
    "ExecuteTime": {
     "end_time": "2025-07-09T09:29:54.876303Z",
     "start_time": "2025-07-09T09:29:54.744130Z"
    }
   },
   "cell_type": "code",
   "source": "plt.plot([r_mse(preds[:i+1].mean(0), valid_y) for i in range(40)])",
   "id": "d37df7bec2e93314",
   "outputs": [
    {
     "data": {
      "text/plain": [
       "[<matplotlib.lines.Line2D at 0x1fcd3c6c2e0>]"
      ]
     },
     "execution_count": 109,
     "metadata": {},
     "output_type": "execute_result"
    },
    {
     "data": {
      "text/plain": [
       "<Figure size 640x480 with 1 Axes>"
      ],
      "image/png": "[encoded data removed]"
     },
     "metadata": {},
     "output_type": "display_data"
    }
   ],
   "execution_count": 109
  },
  {
   "metadata": {
    "ExecuteTime": {
     "end_time": "2025-07-09T09:29:58.293493Z",
     "start_time": "2025-07-09T09:29:58.278592Z"
    }
   },
   "cell_type": "code",
   "source": [
    "def rf_feat_importance(m, df):\n",
    "    return pd.DataFrame({'cols':df.columns, 'imp':m.feature_importances_}\n",
    "                       ).sort_values('imp', ascending=False)"
   ],
   "id": "f2f567387e966a2a",
   "outputs": [],
   "execution_count": 110
  },
  {
   "metadata": {
    "ExecuteTime": {
     "end_time": "2025-07-09T09:29:59.590336Z",
     "start_time": "2025-07-09T09:29:59.582270Z"
    }
   },
   "cell_type": "code",
   "source": [
    "regressor = RandomForestRegressor(criterion= 'absolute_error',\n",
    " bootstrap= True,\n",
    " max_depth= 35,\n",
    " max_features= None,\n",
    " max_leaf_nodes= 22,\n",
    " n_estimators= 317,\n",
    " n_jobs=2)"
   ],
   "id": "8ceaa4749289342a",
   "outputs": [],
   "execution_count": 111
  },
  {
   "metadata": {
    "ExecuteTime": {
     "end_time": "2025-07-09T09:30:02.449316Z",
     "start_time": "2025-07-09T09:30:00.183477Z"
    }
   },
   "cell_type": "code",
   "source": "regressor.fit(xs ,y)",
   "id": "b15972d124b7a23a",
   "outputs": [
    {
     "data": {
      "text/plain": [
       "RandomForestRegressor(criterion='absolute_error', max_depth=35,\n",
       "                      max_features=None, max_leaf_nodes=22, n_estimators=317,\n",
       "                      n_jobs=2)"
      ],
      "text/html": [
       "<style>#sk-container-id-6 {\n",
       "  /* Definition of color scheme common for light and dark mode */\n",
       "  --sklearn-color-text: black;\n",
       "  --sklearn-color-line: gray;\n",
       "  /* Definition of color scheme for unfitted estimators */\n",
       "  --sklearn-color-unfitted-level-0: #fff5e6;\n",
       "  --sklearn-color-unfitted-level-1: #f6e4d2;\n",
       "  --sklearn-color-unfitted-level-2: #ffe0b3;\n",
       "  --sklearn-color-unfitted-level-3: chocolate;\n",
       "  /* Definition of color scheme for fitted estimators */\n",
       "  --sklearn-color-fitted-level-0: #f0f8ff;\n",
       "  --sklearn-color-fitted-level-1: #d4ebff;\n",
       "  --sklearn-color-fitted-level-2: #b3dbfd;\n",
       "  --sklearn-color-fitted-level-3: cornflowerblue;\n",
       "\n",
       "  /* Specific color for light theme */\n",
       "  --sklearn-color-text-on-default-background: var(--sg-text-color, var(--theme-code-foreground, var(--jp-content-font-color1, black)));\n",
       "  --sklearn-color-background: var(--sg-background-color, var(--theme-background, var(--jp-layout-color0, white)));\n",
       "  --sklearn-color-border-box: var(--sg-text-color, var(--theme-code-foreground, var(--jp-content-font-color1, black)));\n",
       "  --sklearn-color-icon: #696969;\n",
       "\n",
       "  @media (prefers-color-scheme: dark) {\n",
       "    /* Redefinition of color scheme for dark theme */\n",
       "    --sklearn-color-text-on-default-background: var(--sg-text-color, var(--theme-code-foreground, var(--jp-content-font-color1, white)));\n",
       "    --sklearn-color-background: var(--sg-background-color, var(--theme-background, var(--jp-layout-color0, #111)));\n",
       "    --sklearn-color-border-box: var(--sg-text-color, var(--theme-code-foreground, var(--jp-content-font-color1, white)));\n",
       "    --sklearn-color-icon: #878787;\n",
       "  }\n",
       "}\n",
       "\n",
       "#sk-container-id-6 {\n",
       "  color: var(--sklearn-color-text);\n",
       "}\n",
       "\n",
       "#sk-container-id-6 pre {\n",
       "  padding: 0;\n",
       "}\n",
       "\n",
       "#sk-container-id-6 input.sk-hidden--visually {\n",
       "  border: 0;\n",
       "  clip: rect(1px 1px 1px 1px);\n",
       "  clip: rect(1px, 1px, 1px, 1px);\n",
       "  height: 1px;\n",
       "  margin: -1px;\n",
       "  overflow: hidden;\n",
       "  padding: 0;\n",
       "  position: absolute;\n",
       "  width: 1px;\n",
       "}\n",
       "\n",
       "#sk-container-id-6 div.sk-dashed-wrapped {\n",
       "  border: 1px dashed var(--sklearn-color-line);\n",
       "  margin: 0 0.4em 0.5em 0.4em;\n",
       "  box-sizing: border-box;\n",
       "  padding-bottom: 0.4em;\n",
       "  background-color: var(--sklearn-color-background);\n",
       "}\n",
       "\n",
       "#sk-container-id-6 div.sk-container {\n",
       "  /* jupyter's `normalize.less` sets `[hidden] { display: none; }`\n",
       "     but bootstrap.min.css set `[hidden] { display: none !important; }`\n",
       "     so we also need the `!important` here to be able to override the\n",
       "     default hidden behavior on the sphinx rendered scikit-learn.org.\n",
       "     See: https://github.com/scikit-learn/scikit-learn/issues/21755 */\n",
       "  display: inline-block !important;\n",
       "  position: relative;\n",
       "}\n",
       "\n",
       "#sk-container-id-6 div.sk-text-repr-fallback {\n",
       "  display: none;\n",
       "}\n",
       "\n",
       "div.sk-parallel-item,\n",
       "div.sk-serial,\n",
       "div.sk-item {\n",
       "  /* draw centered vertical line to link estimators */\n",
       "  background-image: linear-gradient(var(--sklearn-color-text-on-default-background), var(--sklearn-color-text-on-default-background));\n",
       "  background-size: 2px 100%;\n",
       "  background-repeat: no-repeat;\n",
       "  background-position: center center;\n",
       "}\n",
       "\n",
       "/* Parallel-specific style estimator block */\n",
       "\n",
       "#sk-container-id-6 div.sk-parallel-item::after {\n",
       "  content: \"\";\n",
       "  width: 100%;\n",
       "  border-bottom: 2px solid var(--sklearn-color-text-on-default-background);\n",
       "  flex-grow: 1;\n",
       "}\n",
       "\n",
       "#sk-container-id-6 div.sk-parallel {\n",
       "  display: flex;\n",
       "  align-items: stretch;\n",
       "  justify-content: center;\n",
       "  background-color: var(--sklearn-color-background);\n",
       "  position: relative;\n",
       "}\n",
       "\n",
       "#sk-container-id-6 div.sk-parallel-item {\n",
       "  display: flex;\n",
       "  flex-direction: column;\n",
       "}\n",
       "\n",
       "#sk-container-id-6 div.sk-parallel-item:first-child::after {\n",
       "  align-self: flex-end;\n",
       "  width: 50%;\n",
       "}\n",
       "\n",
       "#sk-container-id-6 div.sk-parallel-item:last-child::after {\n",
       "  align-self: flex-start;\n",
       "  width: 50%;\n",
       "}\n",
       "\n",
       "#sk-container-id-6 div.sk-parallel-item:only-child::after {\n",
       "  width: 0;\n",
       "}\n",
       "\n",
       "/* Serial-specific style estimator block */\n",
       "\n",
       "#sk-container-id-6 div.sk-serial {\n",
       "  display: flex;\n",
       "  flex-direction: column;\n",
       "  align-items: center;\n",
       "  background-color: var(--sklearn-color-background);\n",
       "  padding-right: 1em;\n",
       "  padding-left: 1em;\n",
       "}\n",
       "\n",
       "\n",
       "/* Toggleable style: style used for estimator/Pipeline/ColumnTransformer box that is\n",
       "clickable and can be expanded/collapsed.\n",
       "- Pipeline and ColumnTransformer use this feature and define the default style\n",
       "- Estimators will overwrite some part of the style using the `sk-estimator` class\n",
       "*/\n",
       "\n",
       "/* Pipeline and ColumnTransformer style (default) */\n",
       "\n",
       "#sk-container-id-6 div.sk-toggleable {\n",
       "  /* Default theme specific background. It is overwritten whether we have a\n",
       "  specific estimator or a Pipeline/ColumnTransformer */\n",
       "  background-color: var(--sklearn-color-background);\n",
       "}\n",
       "\n",
       "/* Toggleable label */\n",
       "#sk-container-id-6 label.sk-toggleable__label {\n",
       "  cursor: pointer;\n",
       "  display: block;\n",
       "  width: 100%;\n",
       "  margin-bottom: 0;\n",
       "  padding: 0.5em;\n",
       "  box-sizing: border-box;\n",
       "  text-align: center;\n",
       "}\n",
       "\n",
       "#sk-container-id-6 label.sk-toggleable__label-arrow:before {\n",
       "  /* Arrow on the left of the label */\n",
       "  content: \"▸\";\n",
       "  float: left;\n",
       "  margin-right: 0.25em;\n",
       "  color: var(--sklearn-color-icon);\n",
       "}\n",
       "\n",
       "#sk-container-id-6 label.sk-toggleable__label-arrow:hover:before {\n",
       "  color: var(--sklearn-color-text);\n",
       "}\n",
       "\n",
       "/* Toggleable content - dropdown */\n",
       "\n",
       "#sk-container-id-6 div.sk-toggleable__content {\n",
       "  max-height: 0;\n",
       "  max-width: 0;\n",
       "  overflow: hidden;\n",
       "  text-align: left;\n",
       "  /* unfitted */\n",
       "  background-color: var(--sklearn-color-unfitted-level-0);\n",
       "}\n",
       "\n",
       "#sk-container-id-6 div.sk-toggleable__content.fitted {\n",
       "  /* fitted */\n",
       "  background-color: var(--sklearn-color-fitted-level-0);\n",
       "}\n",
       "\n",
       "#sk-container-id-6 div.sk-toggleable__content pre {\n",
       "  margin: 0.2em;\n",
       "  border-radius: 0.25em;\n",
       "  color: var(--sklearn-color-text);\n",
       "  /* unfitted */\n",
       "  background-color: var(--sklearn-color-unfitted-level-0);\n",
       "}\n",
       "\n",
       "#sk-container-id-6 div.sk-toggleable__content.fitted pre {\n",
       "  /* unfitted */\n",
       "  background-color: var(--sklearn-color-fitted-level-0);\n",
       "}\n",
       "\n",
       "#sk-container-id-6 input.sk-toggleable__control:checked~div.sk-toggleable__content {\n",
       "  /* Expand drop-down */\n",
       "  max-height: 200px;\n",
       "  max-width: 100%;\n",
       "  overflow: auto;\n",
       "}\n",
       "\n",
       "#sk-container-id-6 input.sk-toggleable__control:checked~label.sk-toggleable__label-arrow:before {\n",
       "  content: \"▾\";\n",
       "}\n",
       "\n",
       "/* Pipeline/ColumnTransformer-specific style */\n",
       "\n",
       "#sk-container-id-6 div.sk-label input.sk-toggleable__control:checked~label.sk-toggleable__label {\n",
       "  color: var(--sklearn-color-text);\n",
       "  background-color: var(--sklearn-color-unfitted-level-2);\n",
       "}\n",
       "\n",
       "#sk-container-id-6 div.sk-label.fitted input.sk-toggleable__control:checked~label.sk-toggleable__label {\n",
       "  background-color: var(--sklearn-color-fitted-level-2);\n",
       "}\n",
       "\n",
       "/* Estimator-specific style */\n",
       "\n",
       "/* Colorize estimator box */\n",
       "#sk-container-id-6 div.sk-estimator input.sk-toggleable__control:checked~label.sk-toggleable__label {\n",
       "  /* unfitted */\n",
       "  background-color: var(--sklearn-color-unfitted-level-2);\n",
       "}\n",
       "\n",
       "#sk-container-id-6 div.sk-estimator.fitted input.sk-toggleable__control:checked~label.sk-toggleable__label {\n",
       "  /* fitted */\n",
       "  background-color: var(--sklearn-color-fitted-level-2);\n",
       "}\n",
       "\n",
       "#sk-container-id-6 div.sk-label label.sk-toggleable__label,\n",
       "#sk-container-id-6 div.sk-label label {\n",
       "  /* The background is the default theme color */\n",
       "  color: var(--sklearn-color-text-on-default-background);\n",
       "}\n",
       "\n",
       "/* On hover, darken the color of the background */\n",
       "#sk-container-id-6 div.sk-label:hover label.sk-toggleable__label {\n",
       "  color: var(--sklearn-color-text);\n",
       "  background-color: var(--sklearn-color-unfitted-level-2);\n",
       "}\n",
       "\n",
       "/* Label box, darken color on hover, fitted */\n",
       "#sk-container-id-6 div.sk-label.fitted:hover label.sk-toggleable__label.fitted {\n",
       "  color: var(--sklearn-color-text);\n",
       "  background-color: var(--sklearn-color-fitted-level-2);\n",
       "}\n",
       "\n",
       "/* Estimator label */\n",
       "\n",
       "#sk-container-id-6 div.sk-label label {\n",
       "  font-family: monospace;\n",
       "  font-weight: bold;\n",
       "  display: inline-block;\n",
       "  line-height: 1.2em;\n",
       "}\n",
       "\n",
       "#sk-container-id-6 div.sk-label-container {\n",
       "  text-align: center;\n",
       "}\n",
       "\n",
       "/* Estimator-specific */\n",
       "#sk-container-id-6 div.sk-estimator {\n",
       "  font-family: monospace;\n",
       "  border: 1px dotted var(--sklearn-color-border-box);\n",
       "  border-radius: 0.25em;\n",
       "  box-sizing: border-box;\n",
       "  margin-bottom: 0.5em;\n",
       "  /* unfitted */\n",
       "  background-color: var(--sklearn-color-unfitted-level-0);\n",
       "}\n",
       "\n",
       "#sk-container-id-6 div.sk-estimator.fitted {\n",
       "  /* fitted */\n",
       "  background-color: var(--sklearn-color-fitted-level-0);\n",
       "}\n",
       "\n",
       "/* on hover */\n",
       "#sk-container-id-6 div.sk-estimator:hover {\n",
       "  /* unfitted */\n",
       "  background-color: var(--sklearn-color-unfitted-level-2);\n",
       "}\n",
       "\n",
       "#sk-container-id-6 div.sk-estimator.fitted:hover {\n",
       "  /* fitted */\n",
       "  background-color: var(--sklearn-color-fitted-level-2);\n",
       "}\n",
       "\n",
       "/* Specification for estimator info (e.g. \"i\" and \"?\") */\n",
       "\n",
       "/* Common style for \"i\" and \"?\" */\n",
       "\n",
       ".sk-estimator-doc-link,\n",
       "a:link.sk-estimator-doc-link,\n",
       "a:visited.sk-estimator-doc-link {\n",
       "  float: right;\n",
       "  font-size: smaller;\n",
       "  line-height: 1em;\n",
       "  font-family: monospace;\n",
       "  background-color: var(--sklearn-color-background);\n",
       "  border-radius: 1em;\n",
       "  height: 1em;\n",
       "  width: 1em;\n",
       "  text-decoration: none !important;\n",
       "  margin-left: 1ex;\n",
       "  /* unfitted */\n",
       "  border: var(--sklearn-color-unfitted-level-1) 1pt solid;\n",
       "  color: var(--sklearn-color-unfitted-level-1);\n",
       "}\n",
       "\n",
       ".sk-estimator-doc-link.fitted,\n",
       "a:link.sk-estimator-doc-link.fitted,\n",
       "a:visited.sk-estimator-doc-link.fitted {\n",
       "  /* fitted */\n",
       "  border: var(--sklearn-color-fitted-level-1) 1pt solid;\n",
       "  color: var(--sklearn-color-fitted-level-1);\n",
       "}\n",
       "\n",
       "/* On hover */\n",
       "div.sk-estimator:hover .sk-estimator-doc-link:hover,\n",
       ".sk-estimator-doc-link:hover,\n",
       "div.sk-label-container:hover .sk-estimator-doc-link:hover,\n",
       ".sk-estimator-doc-link:hover {\n",
       "  /* unfitted */\n",
       "  background-color: var(--sklearn-color-unfitted-level-3);\n",
       "  color: var(--sklearn-color-background);\n",
       "  text-decoration: none;\n",
       "}\n",
       "\n",
       "div.sk-estimator.fitted:hover .sk-estimator-doc-link.fitted:hover,\n",
       ".sk-estimator-doc-link.fitted:hover,\n",
       "div.sk-label-container:hover .sk-estimator-doc-link.fitted:hover,\n",
       ".sk-estimator-doc-link.fitted:hover {\n",
       "  /* fitted */\n",
       "  background-color: var(--sklearn-color-fitted-level-3);\n",
       "  color: var(--sklearn-color-background);\n",
       "  text-decoration: none;\n",
       "}\n",
       "\n",
       "/* Span, style for the box shown on hovering the info icon */\n",
       ".sk-estimator-doc-link span {\n",
       "  display: none;\n",
       "  z-index: 9999;\n",
       "  position: relative;\n",
       "  font-weight: normal;\n",
       "  right: .2ex;\n",
       "  padding: .5ex;\n",
       "  margin: .5ex;\n",
       "  width: min-content;\n",
       "  min-width: 20ex;\n",
       "  max-width: 50ex;\n",
       "  color: var(--sklearn-color-text);\n",
       "  box-shadow: 2pt 2pt 4pt #999;\n",
       "  /* unfitted */\n",
       "  background: var(--sklearn-color-unfitted-level-0);\n",
       "  border: .5pt solid var(--sklearn-color-unfitted-level-3);\n",
       "}\n",
       "\n",
       ".sk-estimator-doc-link.fitted span {\n",
       "  /* fitted */\n",
       "  background: var(--sklearn-color-fitted-level-0);\n",
       "  border: var(--sklearn-color-fitted-level-3);\n",
       "}\n",
       "\n",
       ".sk-estimator-doc-link:hover span {\n",
       "  display: block;\n",
       "}\n",
       "\n",
       "/* \"?\"-specific style due to the `<a>` HTML tag */\n",
       "\n",
       "#sk-container-id-6 a.estimator_doc_link {\n",
       "  float: right;\n",
       "  font-size: 1rem;\n",
       "  line-height: 1em;\n",
       "  font-family: monospace;\n",
       "  background-color: var(--sklearn-color-background);\n",
       "  border-radius: 1rem;\n",
       "  height: 1rem;\n",
       "  width: 1rem;\n",
       "  text-decoration: none;\n",
       "  /* unfitted */\n",
       "  color: var(--sklearn-color-unfitted-level-1);\n",
       "  border: var(--sklearn-color-unfitted-level-1) 1pt solid;\n",
       "}\n",
       "\n",
       "#sk-container-id-6 a.estimator_doc_link.fitted {\n",
       "  /* fitted */\n",
       "  border: var(--sklearn-color-fitted-level-1) 1pt solid;\n",
       "  color: var(--sklearn-color-fitted-level-1);\n",
       "}\n",
       "\n",
       "/* On hover */\n",
       "#sk-container-id-6 a.estimator_doc_link:hover {\n",
       "  /* unfitted */\n",
       "  background-color: var(--sklearn-color-unfitted-level-3);\n",
       "  color: var(--sklearn-color-background);\n",
       "  text-decoration: none;\n",
       "}\n",
       "\n",
       "#sk-container-id-6 a.estimator_doc_link.fitted:hover {\n",
       "  /* fitted */\n",
       "  background-color: var(--sklearn-color-fitted-level-3);\n",
       "}\n",
       "</style><div id=\"sk-container-id-6\" class=\"sk-top-container\"><div class=\"sk-text-repr-fallback\"><pre>RandomForestRegressor(criterion=&#x27;absolute_error&#x27;, max_depth=35,\n",
       "                      max_features=None, max_leaf_nodes=22, n_estimators=317,\n",
       "                      n_jobs=2)</pre><b>In a Jupyter environment, please rerun this cell to show the HTML representation or trust the notebook. <br />On GitHub, the HTML representation is unable to render, please try loading this page with nbviewer.org.</b></div><div class=\"sk-container\" hidden><div class=\"sk-item\"><div class=\"sk-estimator fitted sk-toggleable\"><input class=\"sk-toggleable__control sk-hidden--visually\" id=\"sk-estimator-id-12\" type=\"checkbox\" checked><label for=\"sk-estimator-id-12\" class=\"sk-toggleable__label fitted sk-toggleable__label-arrow fitted\">&nbsp;&nbsp;RandomForestRegressor<a class=\"sk-estimator-doc-link fitted\" rel=\"noreferrer\" target=\"_blank\" href=\"https://scikit-learn.org/1.5/modules/generated/sklearn.ensemble.RandomForestRegressor.html\">?<span>Documentation for RandomForestRegressor</span></a><span class=\"sk-estimator-doc-link fitted\">i<span>Fitted</span></span></label><div class=\"sk-toggleable__content fitted\"><pre>RandomForestRegressor(criterion=&#x27;absolute_error&#x27;, max_depth=35,\n",
       "                      max_features=None, max_leaf_nodes=22, n_estimators=317,\n",
       "                      n_jobs=2)</pre></div> </div></div></div></div>"
      ]
     },
     "execution_count": 112,
     "metadata": {},
     "output_type": "execute_result"
    }
   ],
   "execution_count": 112
  },
  {
   "metadata": {
    "ExecuteTime": {
     "end_time": "2025-07-09T09:30:04.050772Z",
     "start_time": "2025-07-09T09:30:04.005027Z"
    }
   },
   "cell_type": "code",
   "source": [
    "fi = rf_feat_importance(regressor, xs)\n",
    "fi[:50]"
   ],
   "id": "ce96ae81b91fd691",
   "outputs": [
    {
     "data": {
      "text/plain": [
       "              cols       imp\n",
       "16              Ce  0.910163\n",
       "13              Mn  0.023862\n",
       "0                S  0.015012\n",
       "8                P  0.010214\n",
       "1                C  0.006474\n",
       "4               EC  0.005281\n",
       "10              Mg  0.005048\n",
       "5   Organic matter  0.005000\n",
       "14              Cu  0.003553\n",
       "11              Fe  0.003379\n",
       "3               pH  0.002675\n",
       "2               Si  0.002047\n",
       "9                K  0.002037\n",
       "12              Zn  0.001905\n",
       "7              NO3  0.001774\n",
       "15               B  0.001105\n",
       "6            CaCO3  0.000471"
      ],
      "text/html": [
       "<div>\n",
       "<style scoped>\n",
       "    .dataframe tbody tr th:only-of-type {\n",
       "        vertical-align: middle;\n",
       "    }\n",
       "\n",
       "    .dataframe tbody tr th {\n",
       "        vertical-align: top;\n",
       "    }\n",
       "\n",
       "    .dataframe thead th {\n",
       "        text-align: right;\n",
       "    }\n",
       "</style>\n",
       "<table border=\"1\" class=\"dataframe\">\n",
       "  <thead>\n",
       "    <tr style=\"text-align: right;\">\n",
       "      <th></th>\n",
       "      <th>cols</th>\n",
       "      <th>imp</th>\n",
       "    </tr>\n",
       "  </thead>\n",
       "  <tbody>\n",
       "    <tr>\n",
       "      <th>16</th>\n",
       "      <td>Ce</td>\n",
       "      <td>0.910163</td>\n",
       "    </tr>\n",
       "    <tr>\n",
       "      <th>13</th>\n",
       "      <td>Mn</td>\n",
       "      <td>0.023862</td>\n",
       "    </tr>\n",
       "    <tr>\n",
       "      <th>0</th>\n",
       "      <td>S</td>\n",
       "      <td>0.015012</td>\n",
       "    </tr>\n",
       "    <tr>\n",
       "      <th>8</th>\n",
       "      <td>P</td>\n",
       "      <td>0.010214</td>\n",
       "    </tr>\n",
       "    <tr>\n",
       "      <th>1</th>\n",
       "      <td>C</td>\n",
       "      <td>0.006474</td>\n",
       "    </tr>\n",
       "    <tr>\n",
       "      <th>4</th>\n",
       "      <td>EC</td>\n",
       "      <td>0.005281</td>\n",
       "    </tr>\n",
       "    <tr>\n",
       "      <th>10</th>\n",
       "      <td>Mg</td>\n",
       "      <td>0.005048</td>\n",
       "    </tr>\n",
       "    <tr>\n",
       "      <th>5</th>\n",
       "      <td>Organic matter</td>\n",
       "      <td>0.005000</td>\n",
       "    </tr>\n",
       "    <tr>\n",
       "      <th>14</th>\n",
       "      <td>Cu</td>\n",
       "      <td>0.003553</td>\n",
       "    </tr>\n",
       "    <tr>\n",
       "      <th>11</th>\n",
       "      <td>Fe</td>\n",
       "      <td>0.003379</td>\n",
       "    </tr>\n",
       "    <tr>\n",
       "      <th>3</th>\n",
       "      <td>pH</td>\n",
       "      <td>0.002675</td>\n",
       "    </tr>\n",
       "    <tr>\n",
       "      <th>2</th>\n",
       "      <td>Si</td>\n",
       "      <td>0.002047</td>\n",
       "    </tr>\n",
       "    <tr>\n",
       "      <th>9</th>\n",
       "      <td>K</td>\n",
       "      <td>0.002037</td>\n",
       "    </tr>\n",
       "    <tr>\n",
       "      <th>12</th>\n",
       "      <td>Zn</td>\n",
       "      <td>0.001905</td>\n",
       "    </tr>\n",
       "    <tr>\n",
       "      <th>7</th>\n",
       "      <td>NO3</td>\n",
       "      <td>0.001774</td>\n",
       "    </tr>\n",
       "    <tr>\n",
       "      <th>15</th>\n",
       "      <td>B</td>\n",
       "      <td>0.001105</td>\n",
       "    </tr>\n",
       "    <tr>\n",
       "      <th>6</th>\n",
       "      <td>CaCO3</td>\n",
       "      <td>0.000471</td>\n",
       "    </tr>\n",
       "  </tbody>\n",
       "</table>\n",
       "</div>"
      ]
     },
     "execution_count": 113,
     "metadata": {},
     "output_type": "execute_result"
    }
   ],
   "execution_count": 113
  },
  {
   "metadata": {
    "ExecuteTime": {
     "end_time": "2025-07-09T09:30:07.384560Z",
     "start_time": "2025-07-09T09:30:07.241637Z"
    }
   },
   "cell_type": "code",
   "source": [
    "def plot_fi(fi):\n",
    "    return fi.plot('cols', 'imp', 'barh', figsize=(12,7), legend=False)\n",
    "plot_fi(fi[:41])"
   ],
   "id": "e2531714e300acb8",
   "outputs": [
    {
     "data": {
      "text/plain": [
       "<Axes: ylabel='cols'>"
      ]
     },
     "execution_count": 114,
     "metadata": {},
     "output_type": "execute_result"
    },
    {
     "data": {
      "text/plain": [
       "<Figure size 1200x700 with 1 Axes>"
      ],
      "image/png": "[encoded data removed]"
     },
     "metadata": {},
     "output_type": "display_data"
    }
   ],
   "execution_count": 114
  },
  {
   "metadata": {
    "ExecuteTime": {
     "end_time": "2025-07-09T09:30:09.315409Z",
     "start_time": "2025-07-09T09:30:09.308575Z"
    }
   },
   "cell_type": "code",
   "source": [
    "import optuna\n",
    "from sklearn.model_selection import cross_val_score"
   ],
   "id": "e40e8600b849e48c",
   "outputs": [],
   "execution_count": 115
  },
  {
   "metadata": {
    "ExecuteTime": {
     "end_time": "2025-07-09T09:30:12.512626Z",
     "start_time": "2025-07-09T09:30:12.496921Z"
    }
   },
   "cell_type": "code",
   "source": [
    "def objective(trial):\n",
    "    # Hyperparameter suggestions\n",
    "    criterion = trial.suggest_categorical('criterion', ['squared_error', 'absolute_error'])\n",
    "    bootstrap = trial.suggest_categorical('bootstrap', [True, False])\n",
    "    max_depth = trial.suggest_int('max_depth', 2, 50)\n",
    "    max_features = trial.suggest_categorical('max_features', [None, 'sqrt', 'log2'])\n",
    "    max_leaf_nodes = trial.suggest_int('max_leaf_nodes', 10, 500)\n",
    "    n_estimators = trial.suggest_int('n_estimators', 30, 1000)\n",
    "\n",
    "    # Define the model\n",
    "    regr = RandomForestRegressor(\n",
    "        bootstrap=bootstrap, criterion=criterion,\n",
    "        max_depth=max_depth, max_features=max_features,\n",
    "        max_leaf_nodes=max_leaf_nodes, n_estimators=n_estimators,\n",
    "        random_state=42, n_jobs=2\n",
    "    )\n",
    "\n",
    "    # Cross-validation scoring\n",
    "    score = cross_val_score(regr, xs, y, cv=5, scoring=\"neg_mean_absolute_error\")\n",
    "    mae_mean = -score.mean()  # Convert negative MAE to positive\n",
    "\n",
    "    return mae_mean\n"
   ],
   "id": "c2e05c12e46913b4",
   "outputs": [],
   "execution_count": 116
  },
  {
   "metadata": {
    "ExecuteTime": {
     "end_time": "2025-07-09T09:53:02.085988Z",
     "start_time": "2025-07-09T09:30:13.004478Z"
    }
   },
   "cell_type": "code",
   "source": [
    "# Create the Optuna study\n",
    "study = optuna.create_study(direction='minimize', sampler=optuna.samplers.TPESampler(seed=42))\n",
    "study.optimize(objective, n_trials=100, show_progress_bar=True)\n",
    "\n",
    "# Display the best MAE and hyperparameters\n",
    "print(\"Best MAE:\", study.best_value)  # Now it displays MAE\n",
    "print(\"Best Hyperparameters:\", study.best_params)"
   ],
   "id": "1c7e981d7d931431",
   "outputs": [
    {
     "name": "stderr",
     "output_type": "stream",
     "text": [
      "[I 2025-07-09 12:30:13,011] A new study created in memory with name: no-name-60607303-e55e-40ef-a3f8-90115123d1da\n"
     ]
    },
    {
     "data": {
      "text/plain": [
       "  0%|          | 0/100 [00:00<?, ?it/s]"
      ],
      "application/vnd.jupyter.widget-view+json": {
       "version_major": 2,
       "version_minor": 0,
       "model_id": "5635bb1f8f23423fb81e895c90f67bf0"
      }
     },
     "metadata": {},
     "output_type": "display_data"
    },
    {
     "name": "stdout",
     "output_type": "stream",
     "text": [
      "[I 2025-07-09 12:30:23,231] Trial 0 finished with value: 69.57817784714462 and parameters: {'criterion': 'absolute_error', 'bootstrap': True, 'max_depth': 9, 'max_features': 'log2', 'max_leaf_nodes': 305, 'n_estimators': 717}. Best is trial 0 with value: 69.57817784714462.\n",
      "[I 2025-07-09 12:30:29,345] Trial 1 finished with value: 66.12347152706573 and parameters: {'criterion': 'absolute_error', 'bootstrap': True, 'max_depth': 10, 'max_features': 'log2', 'max_leaf_nodes': 222, 'n_estimators': 312}. Best is trial 1 with value: 66.12347152706573.\n",
      "[I 2025-07-09 12:30:30,872] Trial 2 finished with value: 45.03766793646248 and parameters: {'criterion': 'squared_error', 'bootstrap': False, 'max_depth': 24, 'max_features': None, 'max_leaf_nodes': 300, 'n_estimators': 75}. Best is trial 2 with value: 45.03766793646248.\n",
      "[I 2025-07-09 12:30:38,363] Trial 3 finished with value: 44.89929695019886 and parameters: {'criterion': 'squared_error', 'bootstrap': False, 'max_depth': 49, 'max_features': None, 'max_leaf_nodes': 345, 'n_estimators': 457}. Best is trial 3 with value: 44.89929695019886.\n",
      "[I 2025-07-09 12:30:53,381] Trial 4 finished with value: 47.306208962678554 and parameters: {'criterion': 'absolute_error', 'bootstrap': False, 'max_depth': 14, 'max_features': None, 'max_leaf_nodes': 278, 'n_estimators': 209}. Best is trial 3 with value: 44.89929695019886.\n",
      "[I 2025-07-09 12:30:56,427] Trial 5 finished with value: 36.715099178763396 and parameters: {'criterion': 'squared_error', 'bootstrap': True, 'max_depth': 31, 'max_features': None, 'max_leaf_nodes': 32, 'n_estimators': 345}. Best is trial 5 with value: 36.715099178763396.\n",
      "[I 2025-07-09 12:31:01,878] Trial 6 finished with value: 78.79489774301773 and parameters: {'criterion': 'squared_error', 'bootstrap': True, 'max_depth': 15, 'max_features': 'log2', 'max_leaf_nodes': 46, 'n_estimators': 988}. Best is trial 5 with value: 36.715099178763396.\n",
      "[I 2025-07-09 12:31:03,562] Trial 7 finished with value: 75.73032337251813 and parameters: {'criterion': 'squared_error', 'bootstrap': False, 'max_depth': 36, 'max_features': 'sqrt', 'max_leaf_nodes': 186, 'n_estimators': 142}. Best is trial 5 with value: 36.715099178763396.\n",
      "[I 2025-07-09 12:31:07,042] Trial 8 finished with value: 68.34553191278526 and parameters: {'criterion': 'squared_error', 'bootstrap': True, 'max_depth': 17, 'max_features': 'sqrt', 'max_leaf_nodes': 445, 'n_estimators': 488}. Best is trial 5 with value: 36.715099178763396.\n",
      "[I 2025-07-09 12:31:08,799] Trial 9 finished with value: 80.06823763141891 and parameters: {'criterion': 'absolute_error', 'bootstrap': True, 'max_depth': 39, 'max_features': 'sqrt', 'max_leaf_nodes': 22, 'n_estimators': 134}. Best is trial 5 with value: 36.715099178763396.\n",
      "[I 2025-07-09 12:31:16,894] Trial 10 finished with value: 35.626674978583026 and parameters: {'criterion': 'squared_error', 'bootstrap': True, 'max_depth': 30, 'max_features': None, 'max_leaf_nodes': 109, 'n_estimators': 700}. Best is trial 10 with value: 35.626674978583026.\n",
      "[I 2025-07-09 12:31:24,501] Trial 11 finished with value: 35.59820021473935 and parameters: {'criterion': 'squared_error', 'bootstrap': True, 'max_depth': 32, 'max_features': None, 'max_leaf_nodes': 126, 'n_estimators': 717}. Best is trial 11 with value: 35.59820021473935.\n",
      "[I 2025-07-09 12:31:33,088] Trial 12 finished with value: 35.602448549477444 and parameters: {'criterion': 'squared_error', 'bootstrap': True, 'max_depth': 25, 'max_features': None, 'max_leaf_nodes': 129, 'n_estimators': 715}. Best is trial 11 with value: 35.59820021473935.\n",
      "[I 2025-07-09 12:31:41,875] Trial 13 finished with value: 35.57354114324763 and parameters: {'criterion': 'squared_error', 'bootstrap': True, 'max_depth': 23, 'max_features': None, 'max_leaf_nodes': 134, 'n_estimators': 729}. Best is trial 13 with value: 35.57354114324763.\n",
      "[I 2025-07-09 12:31:46,144] Trial 14 finished with value: 41.87491704934957 and parameters: {'criterion': 'squared_error', 'bootstrap': True, 'max_depth': 3, 'max_features': None, 'max_leaf_nodes': 143, 'n_estimators': 896}. Best is trial 13 with value: 35.57354114324763.\n",
      "[I 2025-07-09 12:31:55,078] Trial 15 finished with value: 35.6680441133616 and parameters: {'criterion': 'squared_error', 'bootstrap': True, 'max_depth': 41, 'max_features': None, 'max_leaf_nodes': 102, 'n_estimators': 841}. Best is trial 13 with value: 35.57354114324763.\n",
      "[I 2025-07-09 12:32:04,014] Trial 16 finished with value: 35.57708012994712 and parameters: {'criterion': 'squared_error', 'bootstrap': True, 'max_depth': 22, 'max_features': None, 'max_leaf_nodes': 197, 'n_estimators': 632}. Best is trial 13 with value: 35.57354114324763.\n",
      "[I 2025-07-09 12:32:12,300] Trial 17 finished with value: 35.58987281868325 and parameters: {'criterion': 'squared_error', 'bootstrap': True, 'max_depth': 24, 'max_features': None, 'max_leaf_nodes': 212, 'n_estimators': 604}. Best is trial 13 with value: 35.57354114324763.\n",
      "[I 2025-07-09 12:32:29,612] Trial 18 finished with value: 60.06972748187407 and parameters: {'criterion': 'absolute_error', 'bootstrap': False, 'max_depth': 20, 'max_features': 'log2', 'max_leaf_nodes': 383, 'n_estimators': 585}. Best is trial 13 with value: 35.57354114324763.\n",
      "[I 2025-07-09 12:32:33,795] Trial 19 finished with value: 69.80368031492262 and parameters: {'criterion': 'squared_error', 'bootstrap': True, 'max_depth': 20, 'max_features': 'sqrt', 'max_leaf_nodes': 185, 'n_estimators': 864}. Best is trial 13 with value: 35.57354114324763.\n",
      "[I 2025-07-09 12:32:36,243] Trial 20 finished with value: 55.06925908514719 and parameters: {'criterion': 'squared_error', 'bootstrap': True, 'max_depth': 2, 'max_features': None, 'max_leaf_nodes': 246, 'n_estimators': 588}. Best is trial 13 with value: 35.57354114324763.\n",
      "[I 2025-07-09 12:32:44,010] Trial 21 finished with value: 35.585188679473504 and parameters: {'criterion': 'squared_error', 'bootstrap': True, 'max_depth': 23, 'max_features': None, 'max_leaf_nodes': 214, 'n_estimators': 602}. Best is trial 13 with value: 35.57354114324763.\n",
      "[I 2025-07-09 12:32:48,377] Trial 22 finished with value: 35.74715208117672 and parameters: {'criterion': 'squared_error', 'bootstrap': True, 'max_depth': 28, 'max_features': None, 'max_leaf_nodes': 78, 'n_estimators': 400}. Best is trial 13 with value: 35.57354114324763.\n",
      "[I 2025-07-09 12:32:56,560] Trial 23 finished with value: 35.59793234849101 and parameters: {'criterion': 'squared_error', 'bootstrap': True, 'max_depth': 20, 'max_features': None, 'max_leaf_nodes': 167, 'n_estimators': 773}. Best is trial 13 with value: 35.57354114324763.\n",
      "[I 2025-07-09 12:33:03,410] Trial 24 finished with value: 35.60712210718877 and parameters: {'criterion': 'squared_error', 'bootstrap': True, 'max_depth': 11, 'max_features': None, 'max_leaf_nodes': 237, 'n_estimators': 633}. Best is trial 13 with value: 35.57354114324763.\n",
      "[I 2025-07-09 12:33:09,910] Trial 25 finished with value: 35.55554300461666 and parameters: {'criterion': 'squared_error', 'bootstrap': True, 'max_depth': 34, 'max_features': None, 'max_leaf_nodes': 161, 'n_estimators': 534}. Best is trial 25 with value: 35.55554300461666.\n",
      "[I 2025-07-09 12:33:42,684] Trial 26 finished with value: 46.18822643984557 and parameters: {'criterion': 'absolute_error', 'bootstrap': False, 'max_depth': 46, 'max_features': None, 'max_leaf_nodes': 69, 'n_estimators': 534}. Best is trial 25 with value: 35.55554300461666.\n",
      "[I 2025-07-09 12:33:48,714] Trial 27 finished with value: 35.50406021912288 and parameters: {'criterion': 'squared_error', 'bootstrap': True, 'max_depth': 36, 'max_features': None, 'max_leaf_nodes': 162, 'n_estimators': 414}. Best is trial 27 with value: 35.50406021912288.\n",
      "[I 2025-07-09 12:33:50,218] Trial 28 finished with value: 71.62329895976839 and parameters: {'criterion': 'squared_error', 'bootstrap': True, 'max_depth': 34, 'max_features': 'log2', 'max_leaf_nodes': 147, 'n_estimators': 272}. Best is trial 27 with value: 35.50406021912288.\n",
      "[I 2025-07-09 12:33:57,067] Trial 29 finished with value: 56.30944289901548 and parameters: {'criterion': 'absolute_error', 'bootstrap': True, 'max_depth': 41, 'max_features': 'sqrt', 'max_leaf_nodes': 492, 'n_estimators': 390}. Best is trial 27 with value: 35.50406021912288.\n",
      "[I 2025-07-09 12:33:59,490] Trial 30 finished with value: 74.3806107155909 and parameters: {'criterion': 'squared_error', 'bootstrap': True, 'max_depth': 36, 'max_features': 'log2', 'max_leaf_nodes': 80, 'n_estimators': 525}. Best is trial 27 with value: 35.50406021912288.\n",
      "[I 2025-07-09 12:34:04,214] Trial 31 finished with value: 35.51386687538402 and parameters: {'criterion': 'squared_error', 'bootstrap': True, 'max_depth': 29, 'max_features': None, 'max_leaf_nodes': 171, 'n_estimators': 435}. Best is trial 27 with value: 35.50406021912288.\n",
      "[I 2025-07-09 12:34:08,962] Trial 32 finished with value: 35.52145515577723 and parameters: {'criterion': 'squared_error', 'bootstrap': True, 'max_depth': 27, 'max_features': None, 'max_leaf_nodes': 171, 'n_estimators': 432}. Best is trial 27 with value: 35.50406021912288.\n",
      "[I 2025-07-09 12:34:14,028] Trial 33 finished with value: 35.510559081229864 and parameters: {'criterion': 'squared_error', 'bootstrap': True, 'max_depth': 28, 'max_features': None, 'max_leaf_nodes': 276, 'n_estimators': 433}. Best is trial 27 with value: 35.50406021912288.\n",
      "[I 2025-07-09 12:34:19,223] Trial 34 finished with value: 35.50228815484543 and parameters: {'criterion': 'squared_error', 'bootstrap': True, 'max_depth': 28, 'max_features': None, 'max_leaf_nodes': 273, 'n_estimators': 435}. Best is trial 34 with value: 35.50228815484543.\n",
      "[I 2025-07-09 12:34:37,874] Trial 35 finished with value: 47.50649315369796 and parameters: {'criterion': 'absolute_error', 'bootstrap': False, 'max_depth': 28, 'max_features': None, 'max_leaf_nodes': 345, 'n_estimators': 261}. Best is trial 34 with value: 35.50228815484543.\n",
      "[I 2025-07-09 12:34:42,758] Trial 36 finished with value: 35.56355124341373 and parameters: {'criterion': 'squared_error', 'bootstrap': True, 'max_depth': 38, 'max_features': None, 'max_leaf_nodes': 284, 'n_estimators': 344}. Best is trial 34 with value: 35.50228815484543.\n",
      "[I 2025-07-09 12:34:45,028] Trial 37 finished with value: 76.47691638894565 and parameters: {'criterion': 'squared_error', 'bootstrap': False, 'max_depth': 30, 'max_features': 'log2', 'max_leaf_nodes': 329, 'n_estimators': 437}. Best is trial 34 with value: 35.50228815484543.\n",
      "[I 2025-07-09 12:34:47,575] Trial 38 finished with value: 35.80746579115136 and parameters: {'criterion': 'squared_error', 'bootstrap': True, 'max_depth': 44, 'max_features': None, 'max_leaf_nodes': 261, 'n_estimators': 212}. Best is trial 34 with value: 35.50228815484543.\n",
      "[I 2025-07-09 12:35:01,595] Trial 39 finished with value: 35.39694347262646 and parameters: {'criterion': 'absolute_error', 'bootstrap': True, 'max_depth': 33, 'max_features': None, 'max_leaf_nodes': 312, 'n_estimators': 313}. Best is trial 39 with value: 35.39694347262646.\n",
      "[I 2025-07-09 12:35:09,662] Trial 40 finished with value: 61.38539753703791 and parameters: {'criterion': 'absolute_error', 'bootstrap': False, 'max_depth': 34, 'max_features': 'sqrt', 'max_leaf_nodes': 309, 'n_estimators': 290}. Best is trial 39 with value: 35.39694347262646.\n",
      "[I 2025-07-09 12:35:25,763] Trial 41 finished with value: 35.40662422283314 and parameters: {'criterion': 'absolute_error', 'bootstrap': True, 'max_depth': 27, 'max_features': None, 'max_leaf_nodes': 378, 'n_estimators': 353}. Best is trial 39 with value: 35.39694347262646.\n",
      "[I 2025-07-09 12:35:42,374] Trial 42 finished with value: 35.41408093732396 and parameters: {'criterion': 'absolute_error', 'bootstrap': True, 'max_depth': 32, 'max_features': None, 'max_leaf_nodes': 414, 'n_estimators': 356}. Best is trial 39 with value: 35.39694347262646.\n",
      "[I 2025-07-09 12:35:57,685] Trial 43 finished with value: 35.35448733474814 and parameters: {'criterion': 'absolute_error', 'bootstrap': True, 'max_depth': 32, 'max_features': None, 'max_leaf_nodes': 398, 'n_estimators': 329}. Best is trial 43 with value: 35.35448733474814.\n",
      "[I 2025-07-09 12:36:12,863] Trial 44 finished with value: 35.40963627951744 and parameters: {'criterion': 'absolute_error', 'bootstrap': True, 'max_depth': 31, 'max_features': None, 'max_leaf_nodes': 395, 'n_estimators': 335}. Best is trial 43 with value: 35.35448733474814.\n",
      "[I 2025-07-09 12:36:14,629] Trial 45 finished with value: 35.93143403483829 and parameters: {'criterion': 'absolute_error', 'bootstrap': True, 'max_depth': 32, 'max_features': None, 'max_leaf_nodes': 404, 'n_estimators': 35}. Best is trial 43 with value: 35.35448733474814.\n",
      "[I 2025-07-09 12:36:30,210] Trial 46 finished with value: 35.41408093732396 and parameters: {'criterion': 'absolute_error', 'bootstrap': True, 'max_depth': 33, 'max_features': None, 'max_leaf_nodes': 422, 'n_estimators': 356}. Best is trial 43 with value: 35.35448733474814.\n",
      "[I 2025-07-09 12:36:39,880] Trial 47 finished with value: 35.56495590849922 and parameters: {'criterion': 'absolute_error', 'bootstrap': True, 'max_depth': 26, 'max_features': None, 'max_leaf_nodes': 370, 'n_estimators': 214}. Best is trial 43 with value: 35.35448733474814.\n",
      "[I 2025-07-09 12:36:47,479] Trial 48 finished with value: 35.8062035347605 and parameters: {'criterion': 'absolute_error', 'bootstrap': True, 'max_depth': 38, 'max_features': None, 'max_leaf_nodes': 457, 'n_estimators': 175}. Best is trial 43 with value: 35.35448733474814.\n",
      "[I 2025-07-09 12:36:53,195] Trial 49 finished with value: 56.94309402369096 and parameters: {'criterion': 'absolute_error', 'bootstrap': True, 'max_depth': 31, 'max_features': 'sqrt', 'max_leaf_nodes': 372, 'n_estimators': 320}. Best is trial 43 with value: 35.35448733474814.\n",
      "[I 2025-07-09 12:37:01,973] Trial 50 finished with value: 56.362919622989715 and parameters: {'criterion': 'absolute_error', 'bootstrap': True, 'max_depth': 50, 'max_features': 'log2', 'max_leaf_nodes': 432, 'n_estimators': 487}. Best is trial 43 with value: 35.35448733474814.\n",
      "[I 2025-07-09 12:37:18,347] Trial 51 finished with value: 35.40203756688696 and parameters: {'criterion': 'absolute_error', 'bootstrap': True, 'max_depth': 33, 'max_features': None, 'max_leaf_nodes': 414, 'n_estimators': 366}. Best is trial 43 with value: 35.35448733474814.\n",
      "[I 2025-07-09 12:37:34,863] Trial 52 finished with value: 35.407141183519855 and parameters: {'criterion': 'absolute_error', 'bootstrap': True, 'max_depth': 31, 'max_features': None, 'max_leaf_nodes': 411, 'n_estimators': 369}. Best is trial 43 with value: 35.35448733474814.\n",
      "[I 2025-07-09 12:37:49,295] Trial 53 finished with value: 35.389952341886655 and parameters: {'criterion': 'absolute_error', 'bootstrap': True, 'max_depth': 36, 'max_features': None, 'max_leaf_nodes': 470, 'n_estimators': 314}. Best is trial 43 with value: 35.35448733474814.\n",
      "[I 2025-07-09 12:38:00,664] Trial 54 finished with value: 35.58124705628647 and parameters: {'criterion': 'absolute_error', 'bootstrap': True, 'max_depth': 41, 'max_features': None, 'max_leaf_nodes': 468, 'n_estimators': 247}. Best is trial 43 with value: 35.35448733474814.\n",
      "[I 2025-07-09 12:38:06,698] Trial 55 finished with value: 35.743969502047364 and parameters: {'criterion': 'absolute_error', 'bootstrap': True, 'max_depth': 36, 'max_features': None, 'max_leaf_nodes': 498, 'n_estimators': 137}. Best is trial 43 with value: 35.35448733474814.\n",
      "[I 2025-07-09 12:38:19,912] Trial 56 finished with value: 35.42322705634354 and parameters: {'criterion': 'absolute_error', 'bootstrap': True, 'max_depth': 39, 'max_features': None, 'max_leaf_nodes': 442, 'n_estimators': 298}. Best is trial 43 with value: 35.35448733474814.\n",
      "[I 2025-07-09 12:38:48,783] Trial 57 finished with value: 47.532750425694886 and parameters: {'criterion': 'absolute_error', 'bootstrap': False, 'max_depth': 25, 'max_features': None, 'max_leaf_nodes': 358, 'n_estimators': 381}. Best is trial 43 with value: 35.35448733474814.\n",
      "[I 2025-07-09 12:38:59,896] Trial 58 finished with value: 35.618171591258616 and parameters: {'criterion': 'absolute_error', 'bootstrap': True, 'max_depth': 35, 'max_features': None, 'max_leaf_nodes': 473, 'n_estimators': 252}. Best is trial 43 with value: 35.35448733474814.\n",
      "[I 2025-07-09 12:39:22,747] Trial 59 finished with value: 35.345493839815674 and parameters: {'criterion': 'absolute_error', 'bootstrap': True, 'max_depth': 38, 'max_features': None, 'max_leaf_nodes': 327, 'n_estimators': 476}. Best is trial 59 with value: 35.345493839815674.\n",
      "[I 2025-07-09 12:39:31,897] Trial 60 finished with value: 56.334490651213194 and parameters: {'criterion': 'absolute_error', 'bootstrap': True, 'max_depth': 43, 'max_features': 'sqrt', 'max_leaf_nodes': 321, 'n_estimators': 488}. Best is trial 59 with value: 35.345493839815674.\n",
      "[I 2025-07-09 12:39:48,680] Trial 61 finished with value: 35.37350432644579 and parameters: {'criterion': 'absolute_error', 'bootstrap': True, 'max_depth': 38, 'max_features': None, 'max_leaf_nodes': 392, 'n_estimators': 378}. Best is trial 59 with value: 35.345493839815674.\n",
      "[I 2025-07-09 12:40:01,914] Trial 62 finished with value: 35.425660253138616 and parameters: {'criterion': 'absolute_error', 'bootstrap': True, 'max_depth': 39, 'max_features': None, 'max_leaf_nodes': 340, 'n_estimators': 304}. Best is trial 59 with value: 35.345493839815674.\n",
      "[I 2025-07-09 12:40:23,448] Trial 63 finished with value: 35.3330309105955 and parameters: {'criterion': 'absolute_error', 'bootstrap': True, 'max_depth': 37, 'max_features': None, 'max_leaf_nodes': 378, 'n_estimators': 483}. Best is trial 63 with value: 35.3330309105955.\n",
      "[I 2025-07-09 12:40:45,211] Trial 64 finished with value: 35.36289192390034 and parameters: {'criterion': 'absolute_error', 'bootstrap': True, 'max_depth': 37, 'max_features': None, 'max_leaf_nodes': 296, 'n_estimators': 471}. Best is trial 63 with value: 35.3330309105955.\n",
      "[I 2025-07-09 12:41:07,506] Trial 65 finished with value: 35.3347352849885 and parameters: {'criterion': 'absolute_error', 'bootstrap': True, 'max_depth': 46, 'max_features': None, 'max_leaf_nodes': 295, 'n_estimators': 485}. Best is trial 63 with value: 35.3330309105955.\n",
      "[I 2025-07-09 12:41:27,812] Trial 66 finished with value: 35.36167962537839 and parameters: {'criterion': 'absolute_error', 'bootstrap': True, 'max_depth': 47, 'max_features': None, 'max_leaf_nodes': 294, 'n_estimators': 472}. Best is trial 63 with value: 35.3330309105955.\n",
      "[I 2025-07-09 12:41:50,941] Trial 67 finished with value: 35.37733570126378 and parameters: {'criterion': 'absolute_error', 'bootstrap': True, 'max_depth': 47, 'max_features': None, 'max_leaf_nodes': 296, 'n_estimators': 555}. Best is trial 63 with value: 35.3330309105955.\n",
      "[I 2025-07-09 12:41:58,925] Trial 68 finished with value: 56.346888980588595 and parameters: {'criterion': 'absolute_error', 'bootstrap': True, 'max_depth': 48, 'max_features': 'log2', 'max_leaf_nodes': 357, 'n_estimators': 468}. Best is trial 63 with value: 35.3330309105955.\n",
      "[I 2025-07-09 12:42:36,992] Trial 69 finished with value: 47.540165026281635 and parameters: {'criterion': 'absolute_error', 'bootstrap': False, 'max_depth': 45, 'max_features': None, 'max_leaf_nodes': 295, 'n_estimators': 558}. Best is trial 63 with value: 35.3330309105955.\n",
      "[I 2025-07-09 12:43:02,237] Trial 70 finished with value: 35.44488696234011 and parameters: {'criterion': 'absolute_error', 'bootstrap': True, 'max_depth': 42, 'max_features': None, 'max_leaf_nodes': 391, 'n_estimators': 638}. Best is trial 63 with value: 35.3330309105955.\n",
      "[I 2025-07-09 12:43:24,756] Trial 71 finished with value: 35.38153457887618 and parameters: {'criterion': 'absolute_error', 'bootstrap': True, 'max_depth': 48, 'max_features': None, 'max_leaf_nodes': 291, 'n_estimators': 563}. Best is trial 63 with value: 35.3330309105955.\n",
      "[I 2025-07-09 12:43:44,665] Trial 72 finished with value: 35.33951773079386 and parameters: {'criterion': 'absolute_error', 'bootstrap': True, 'max_depth': 45, 'max_features': None, 'max_leaf_nodes': 232, 'n_estimators': 505}. Best is trial 63 with value: 35.3330309105955.\n",
      "[I 2025-07-09 12:44:05,022] Trial 73 finished with value: 35.35182810766543 and parameters: {'criterion': 'absolute_error', 'bootstrap': True, 'max_depth': 45, 'max_features': None, 'max_leaf_nodes': 235, 'n_estimators': 508}. Best is trial 63 with value: 35.3330309105955.\n",
      "[I 2025-07-09 12:44:25,680] Trial 74 finished with value: 35.35392179674574 and parameters: {'criterion': 'absolute_error', 'bootstrap': True, 'max_depth': 45, 'max_features': None, 'max_leaf_nodes': 238, 'n_estimators': 514}. Best is trial 63 with value: 35.3330309105955.\n",
      "[I 2025-07-09 12:44:45,857] Trial 75 finished with value: 35.33530770578092 and parameters: {'criterion': 'absolute_error', 'bootstrap': True, 'max_depth': 45, 'max_features': None, 'max_leaf_nodes': 239, 'n_estimators': 501}. Best is trial 63 with value: 35.3330309105955.\n",
      "[I 2025-07-09 12:45:06,324] Trial 76 finished with value: 35.35753137006471 and parameters: {'criterion': 'absolute_error', 'bootstrap': True, 'max_depth': 45, 'max_features': None, 'max_leaf_nodes': 236, 'n_estimators': 513}. Best is trial 63 with value: 35.3330309105955.\n",
      "[I 2025-07-09 12:45:38,872] Trial 77 finished with value: 35.40962484530828 and parameters: {'criterion': 'absolute_error', 'bootstrap': True, 'max_depth': 43, 'max_features': None, 'max_leaf_nodes': 259, 'n_estimators': 680}. Best is trial 63 with value: 35.3330309105955.\n",
      "[I 2025-07-09 12:45:46,908] Trial 78 finished with value: 57.75208346486811 and parameters: {'criterion': 'absolute_error', 'bootstrap': True, 'max_depth': 50, 'max_features': 'sqrt', 'max_leaf_nodes': 208, 'n_estimators': 512}. Best is trial 63 with value: 35.3330309105955.\n",
      "[I 2025-07-09 12:46:11,054] Trial 79 finished with value: 35.442173451887605 and parameters: {'criterion': 'absolute_error', 'bootstrap': True, 'max_depth': 40, 'max_features': None, 'max_leaf_nodes': 227, 'n_estimators': 609}. Best is trial 63 with value: 35.3330309105955.\n",
      "[I 2025-07-09 12:46:27,353] Trial 80 finished with value: 35.3552772876385 and parameters: {'criterion': 'absolute_error', 'bootstrap': True, 'max_depth': 44, 'max_features': None, 'max_leaf_nodes': 250, 'n_estimators': 409}. Best is trial 63 with value: 35.3330309105955.\n",
      "[I 2025-07-09 12:46:47,436] Trial 81 finished with value: 35.341014014477295 and parameters: {'criterion': 'absolute_error', 'bootstrap': True, 'max_depth': 45, 'max_features': None, 'max_leaf_nodes': 192, 'n_estimators': 502}. Best is trial 63 with value: 35.3330309105955.\n",
      "[I 2025-07-09 12:47:07,505] Trial 82 finished with value: 35.34867324269128 and parameters: {'criterion': 'absolute_error', 'bootstrap': True, 'max_depth': 46, 'max_features': None, 'max_leaf_nodes': 194, 'n_estimators': 498}. Best is trial 63 with value: 35.3330309105955.\n",
      "[I 2025-07-09 12:47:26,884] Trial 83 finished with value: 35.355414627192815 and parameters: {'criterion': 'absolute_error', 'bootstrap': True, 'max_depth': 46, 'max_features': None, 'max_leaf_nodes': 193, 'n_estimators': 495}. Best is trial 63 with value: 35.3330309105955.\n",
      "[I 2025-07-09 12:47:48,106] Trial 84 finished with value: 35.38288643731342 and parameters: {'criterion': 'absolute_error', 'bootstrap': True, 'max_depth': 49, 'max_features': None, 'max_leaf_nodes': 182, 'n_estimators': 537}. Best is trial 63 with value: 35.3330309105955.\n",
      "[I 2025-07-09 12:48:10,572] Trial 85 finished with value: 35.39961603285772 and parameters: {'criterion': 'absolute_error', 'bootstrap': True, 'max_depth': 42, 'max_features': None, 'max_leaf_nodes': 205, 'n_estimators': 576}. Best is trial 63 with value: 35.3330309105955.\n",
      "[I 2025-07-09 12:48:21,978] Trial 86 finished with value: 62.22670668025231 and parameters: {'criterion': 'absolute_error', 'bootstrap': False, 'max_depth': 45, 'max_features': 'log2', 'max_leaf_nodes': 225, 'n_estimators': 452}. Best is trial 63 with value: 35.3330309105955.\n",
      "[I 2025-07-09 12:48:42,316] Trial 87 finished with value: 35.359616425156496 and parameters: {'criterion': 'absolute_error', 'bootstrap': True, 'max_depth': 47, 'max_features': None, 'max_leaf_nodes': 275, 'n_estimators': 511}. Best is trial 63 with value: 35.3330309105955.\n",
      "[I 2025-07-09 12:49:04,566] Trial 88 finished with value: 35.37517729823203 and parameters: {'criterion': 'absolute_error', 'bootstrap': True, 'max_depth': 43, 'max_features': None, 'max_leaf_nodes': 267, 'n_estimators': 541}. Best is trial 63 with value: 35.3330309105955.\n",
      "[I 2025-07-09 12:49:22,443] Trial 89 finished with value: 35.35148299387184 and parameters: {'criterion': 'absolute_error', 'bootstrap': True, 'max_depth': 46, 'max_features': None, 'max_leaf_nodes': 243, 'n_estimators': 450}. Best is trial 63 with value: 35.3330309105955.\n",
      "[I 2025-07-09 12:49:38,947] Trial 90 finished with value: 35.365800356319994 and parameters: {'criterion': 'absolute_error', 'bootstrap': True, 'max_depth': 49, 'max_features': None, 'max_leaf_nodes': 221, 'n_estimators': 413}. Best is trial 63 with value: 35.3330309105955.\n",
      "[I 2025-07-09 12:49:58,039] Trial 91 finished with value: 35.34861298160276 and parameters: {'criterion': 'absolute_error', 'bootstrap': True, 'max_depth': 46, 'max_features': None, 'max_leaf_nodes': 236, 'n_estimators': 454}. Best is trial 63 with value: 35.3330309105955.\n",
      "[I 2025-07-09 12:50:16,999] Trial 92 finished with value: 35.36852468273204 and parameters: {'criterion': 'absolute_error', 'bootstrap': True, 'max_depth': 48, 'max_features': None, 'max_leaf_nodes': 248, 'n_estimators': 459}. Best is trial 63 with value: 35.3330309105955.\n",
      "[I 2025-07-09 12:50:56,410] Trial 93 finished with value: 35.40538305971042 and parameters: {'criterion': 'absolute_error', 'bootstrap': True, 'max_depth': 46, 'max_features': None, 'max_leaf_nodes': 151, 'n_estimators': 994}. Best is trial 63 with value: 35.3330309105955.\n",
      "[I 2025-07-09 12:51:14,752] Trial 94 finished with value: 35.366043253384625 and parameters: {'criterion': 'absolute_error', 'bootstrap': True, 'max_depth': 44, 'max_features': None, 'max_leaf_nodes': 195, 'n_estimators': 443}. Best is trial 63 with value: 35.3330309105955.\n",
      "[I 2025-07-09 12:51:34,973] Trial 95 finished with value: 35.34950463467483 and parameters: {'criterion': 'absolute_error', 'bootstrap': True, 'max_depth': 42, 'max_features': None, 'max_leaf_nodes': 218, 'n_estimators': 489}. Best is trial 63 with value: 35.3330309105955.\n",
      "[I 2025-07-09 12:51:55,304] Trial 96 finished with value: 35.32606896837882 and parameters: {'criterion': 'absolute_error', 'bootstrap': True, 'max_depth': 41, 'max_features': None, 'max_leaf_nodes': 212, 'n_estimators': 481}. Best is trial 96 with value: 35.32606896837882.\n",
      "[I 2025-07-09 12:52:15,432] Trial 97 finished with value: 35.35682651673581 and parameters: {'criterion': 'absolute_error', 'bootstrap': True, 'max_depth': 40, 'max_features': None, 'max_leaf_nodes': 216, 'n_estimators': 493}. Best is trial 96 with value: 35.32606896837882.\n",
      "[I 2025-07-09 12:52:21,918] Trial 98 finished with value: 58.37228792020534 and parameters: {'criterion': 'absolute_error', 'bootstrap': True, 'max_depth': 42, 'max_features': 'sqrt', 'max_leaf_nodes': 177, 'n_estimators': 413}. Best is trial 96 with value: 35.32606896837882.\n",
      "[I 2025-07-09 12:53:02,080] Trial 99 finished with value: 47.32183334910637 and parameters: {'criterion': 'absolute_error', 'bootstrap': False, 'max_depth': 40, 'max_features': None, 'max_leaf_nodes': 200, 'n_estimators': 585}. Best is trial 96 with value: 35.32606896837882.\n",
      "Best MAE: 35.32606896837882\n",
      "Best Hyperparameters: {'criterion': 'absolute_error', 'bootstrap': True, 'max_depth': 41, 'max_features': None, 'max_leaf_nodes': 212, 'n_estimators': 481}\n"
     ]
    }
   ],
   "execution_count": 117
  },
  {
   "metadata": {
    "ExecuteTime": {
     "end_time": "2025-07-09T10:28:29.721727Z",
     "start_time": "2025-07-09T10:28:29.706964Z"
    }
   },
   "cell_type": "code",
   "source": [
    "regressor = RandomForestRegressor(criterion= 'absolute_error',\n",
    " bootstrap= True,\n",
    " max_depth= 41,\n",
    " max_features= None,\n",
    " max_leaf_nodes= 212,\n",
    " n_estimators= 481,\n",
    " n_jobs=2)"
   ],
   "id": "d621bd6dd87659a5",
   "outputs": [],
   "execution_count": 126
  },
  {
   "metadata": {
    "ExecuteTime": {
     "end_time": "2025-07-09T10:28:35.577869Z",
     "start_time": "2025-07-09T10:28:30.247770Z"
    }
   },
   "cell_type": "code",
   "source": "regressor.fit(xs ,y)",
   "id": "7023ccbacd4acb03",
   "outputs": [
    {
     "data": {
      "text/plain": [
       "RandomForestRegressor(criterion='absolute_error', max_depth=41,\n",
       "                      max_features=None, max_leaf_nodes=212, n_estimators=481,\n",
       "                      n_jobs=2)"
      ],
      "text/html": [
       "<style>#sk-container-id-8 {\n",
       "  /* Definition of color scheme common for light and dark mode */\n",
       "  --sklearn-color-text: black;\n",
       "  --sklearn-color-line: gray;\n",
       "  /* Definition of color scheme for unfitted estimators */\n",
       "  --sklearn-color-unfitted-level-0: #fff5e6;\n",
       "  --sklearn-color-unfitted-level-1: #f6e4d2;\n",
       "  --sklearn-color-unfitted-level-2: #ffe0b3;\n",
       "  --sklearn-color-unfitted-level-3: chocolate;\n",
       "  /* Definition of color scheme for fitted estimators */\n",
       "  --sklearn-color-fitted-level-0: #f0f8ff;\n",
       "  --sklearn-color-fitted-level-1: #d4ebff;\n",
       "  --sklearn-color-fitted-level-2: #b3dbfd;\n",
       "  --sklearn-color-fitted-level-3: cornflowerblue;\n",
       "\n",
       "  /* Specific color for light theme */\n",
       "  --sklearn-color-text-on-default-background: var(--sg-text-color, var(--theme-code-foreground, var(--jp-content-font-color1, black)));\n",
       "  --sklearn-color-background: var(--sg-background-color, var(--theme-background, var(--jp-layout-color0, white)));\n",
       "  --sklearn-color-border-box: var(--sg-text-color, var(--theme-code-foreground, var(--jp-content-font-color1, black)));\n",
       "  --sklearn-color-icon: #696969;\n",
       "\n",
       "  @media (prefers-color-scheme: dark) {\n",
       "    /* Redefinition of color scheme for dark theme */\n",
       "    --sklearn-color-text-on-default-background: var(--sg-text-color, var(--theme-code-foreground, var(--jp-content-font-color1, white)));\n",
       "    --sklearn-color-background: var(--sg-background-color, var(--theme-background, var(--jp-layout-color0, #111)));\n",
       "    --sklearn-color-border-box: var(--sg-text-color, var(--theme-code-foreground, var(--jp-content-font-color1, white)));\n",
       "    --sklearn-color-icon: #878787;\n",
       "  }\n",
       "}\n",
       "\n",
       "#sk-container-id-8 {\n",
       "  color: var(--sklearn-color-text);\n",
       "}\n",
       "\n",
       "#sk-container-id-8 pre {\n",
       "  padding: 0;\n",
       "}\n",
       "\n",
       "#sk-container-id-8 input.sk-hidden--visually {\n",
       "  border: 0;\n",
       "  clip: rect(1px 1px 1px 1px);\n",
       "  clip: rect(1px, 1px, 1px, 1px);\n",
       "  height: 1px;\n",
       "  margin: -1px;\n",
       "  overflow: hidden;\n",
       "  padding: 0;\n",
       "  position: absolute;\n",
       "  width: 1px;\n",
       "}\n",
       "\n",
       "#sk-container-id-8 div.sk-dashed-wrapped {\n",
       "  border: 1px dashed var(--sklearn-color-line);\n",
       "  margin: 0 0.4em 0.5em 0.4em;\n",
       "  box-sizing: border-box;\n",
       "  padding-bottom: 0.4em;\n",
       "  background-color: var(--sklearn-color-background);\n",
       "}\n",
       "\n",
       "#sk-container-id-8 div.sk-container {\n",
       "  /* jupyter's `normalize.less` sets `[hidden] { display: none; }`\n",
       "     but bootstrap.min.css set `[hidden] { display: none !important; }`\n",
       "     so we also need the `!important` here to be able to override the\n",
       "     default hidden behavior on the sphinx rendered scikit-learn.org.\n",
       "     See: https://github.com/scikit-learn/scikit-learn/issues/21755 */\n",
       "  display: inline-block !important;\n",
       "  position: relative;\n",
       "}\n",
       "\n",
       "#sk-container-id-8 div.sk-text-repr-fallback {\n",
       "  display: none;\n",
       "}\n",
       "\n",
       "div.sk-parallel-item,\n",
       "div.sk-serial,\n",
       "div.sk-item {\n",
       "  /* draw centered vertical line to link estimators */\n",
       "  background-image: linear-gradient(var(--sklearn-color-text-on-default-background), var(--sklearn-color-text-on-default-background));\n",
       "  background-size: 2px 100%;\n",
       "  background-repeat: no-repeat;\n",
       "  background-position: center center;\n",
       "}\n",
       "\n",
       "/* Parallel-specific style estimator block */\n",
       "\n",
       "#sk-container-id-8 div.sk-parallel-item::after {\n",
       "  content: \"\";\n",
       "  width: 100%;\n",
       "  border-bottom: 2px solid var(--sklearn-color-text-on-default-background);\n",
       "  flex-grow: 1;\n",
       "}\n",
       "\n",
       "#sk-container-id-8 div.sk-parallel {\n",
       "  display: flex;\n",
       "  align-items: stretch;\n",
       "  justify-content: center;\n",
       "  background-color: var(--sklearn-color-background);\n",
       "  position: relative;\n",
       "}\n",
       "\n",
       "#sk-container-id-8 div.sk-parallel-item {\n",
       "  display: flex;\n",
       "  flex-direction: column;\n",
       "}\n",
       "\n",
       "#sk-container-id-8 div.sk-parallel-item:first-child::after {\n",
       "  align-self: flex-end;\n",
       "  width: 50%;\n",
       "}\n",
       "\n",
       "#sk-container-id-8 div.sk-parallel-item:last-child::after {\n",
       "  align-self: flex-start;\n",
       "  width: 50%;\n",
       "}\n",
       "\n",
       "#sk-container-id-8 div.sk-parallel-item:only-child::after {\n",
       "  width: 0;\n",
       "}\n",
       "\n",
       "/* Serial-specific style estimator block */\n",
       "\n",
       "#sk-container-id-8 div.sk-serial {\n",
       "  display: flex;\n",
       "  flex-direction: column;\n",
       "  align-items: center;\n",
       "  background-color: var(--sklearn-color-background);\n",
       "  padding-right: 1em;\n",
       "  padding-left: 1em;\n",
       "}\n",
       "\n",
       "\n",
       "/* Toggleable style: style used for estimator/Pipeline/ColumnTransformer box that is\n",
       "clickable and can be expanded/collapsed.\n",
       "- Pipeline and ColumnTransformer use this feature and define the default style\n",
       "- Estimators will overwrite some part of the style using the `sk-estimator` class\n",
       "*/\n",
       "\n",
       "/* Pipeline and ColumnTransformer style (default) */\n",
       "\n",
       "#sk-container-id-8 div.sk-toggleable {\n",
       "  /* Default theme specific background. It is overwritten whether we have a\n",
       "  specific estimator or a Pipeline/ColumnTransformer */\n",
       "  background-color: var(--sklearn-color-background);\n",
       "}\n",
       "\n",
       "/* Toggleable label */\n",
       "#sk-container-id-8 label.sk-toggleable__label {\n",
       "  cursor: pointer;\n",
       "  display: block;\n",
       "  width: 100%;\n",
       "  margin-bottom: 0;\n",
       "  padding: 0.5em;\n",
       "  box-sizing: border-box;\n",
       "  text-align: center;\n",
       "}\n",
       "\n",
       "#sk-container-id-8 label.sk-toggleable__label-arrow:before {\n",
       "  /* Arrow on the left of the label */\n",
       "  content: \"▸\";\n",
       "  float: left;\n",
       "  margin-right: 0.25em;\n",
       "  color: var(--sklearn-color-icon);\n",
       "}\n",
       "\n",
       "#sk-container-id-8 label.sk-toggleable__label-arrow:hover:before {\n",
       "  color: var(--sklearn-color-text);\n",
       "}\n",
       "\n",
       "/* Toggleable content - dropdown */\n",
       "\n",
       "#sk-container-id-8 div.sk-toggleable__content {\n",
       "  max-height: 0;\n",
       "  max-width: 0;\n",
       "  overflow: hidden;\n",
       "  text-align: left;\n",
       "  /* unfitted */\n",
       "  background-color: var(--sklearn-color-unfitted-level-0);\n",
       "}\n",
       "\n",
       "#sk-container-id-8 div.sk-toggleable__content.fitted {\n",
       "  /* fitted */\n",
       "  background-color: var(--sklearn-color-fitted-level-0);\n",
       "}\n",
       "\n",
       "#sk-container-id-8 div.sk-toggleable__content pre {\n",
       "  margin: 0.2em;\n",
       "  border-radius: 0.25em;\n",
       "  color: var(--sklearn-color-text);\n",
       "  /* unfitted */\n",
       "  background-color: var(--sklearn-color-unfitted-level-0);\n",
       "}\n",
       "\n",
       "#sk-container-id-8 div.sk-toggleable__content.fitted pre {\n",
       "  /* unfitted */\n",
       "  background-color: var(--sklearn-color-fitted-level-0);\n",
       "}\n",
       "\n",
       "#sk-container-id-8 input.sk-toggleable__control:checked~div.sk-toggleable__content {\n",
       "  /* Expand drop-down */\n",
       "  max-height: 200px;\n",
       "  max-width: 100%;\n",
       "  overflow: auto;\n",
       "}\n",
       "\n",
       "#sk-container-id-8 input.sk-toggleable__control:checked~label.sk-toggleable__label-arrow:before {\n",
       "  content: \"▾\";\n",
       "}\n",
       "\n",
       "/* Pipeline/ColumnTransformer-specific style */\n",
       "\n",
       "#sk-container-id-8 div.sk-label input.sk-toggleable__control:checked~label.sk-toggleable__label {\n",
       "  color: var(--sklearn-color-text);\n",
       "  background-color: var(--sklearn-color-unfitted-level-2);\n",
       "}\n",
       "\n",
       "#sk-container-id-8 div.sk-label.fitted input.sk-toggleable__control:checked~label.sk-toggleable__label {\n",
       "  background-color: var(--sklearn-color-fitted-level-2);\n",
       "}\n",
       "\n",
       "/* Estimator-specific style */\n",
       "\n",
       "/* Colorize estimator box */\n",
       "#sk-container-id-8 div.sk-estimator input.sk-toggleable__control:checked~label.sk-toggleable__label {\n",
       "  /* unfitted */\n",
       "  background-color: var(--sklearn-color-unfitted-level-2);\n",
       "}\n",
       "\n",
       "#sk-container-id-8 div.sk-estimator.fitted input.sk-toggleable__control:checked~label.sk-toggleable__label {\n",
       "  /* fitted */\n",
       "  background-color: var(--sklearn-color-fitted-level-2);\n",
       "}\n",
       "\n",
       "#sk-container-id-8 div.sk-label label.sk-toggleable__label,\n",
       "#sk-container-id-8 div.sk-label label {\n",
       "  /* The background is the default theme color */\n",
       "  color: var(--sklearn-color-text-on-default-background);\n",
       "}\n",
       "\n",
       "/* On hover, darken the color of the background */\n",
       "#sk-container-id-8 div.sk-label:hover label.sk-toggleable__label {\n",
       "  color: var(--sklearn-color-text);\n",
       "  background-color: var(--sklearn-color-unfitted-level-2);\n",
       "}\n",
       "\n",
       "/* Label box, darken color on hover, fitted */\n",
       "#sk-container-id-8 div.sk-label.fitted:hover label.sk-toggleable__label.fitted {\n",
       "  color: var(--sklearn-color-text);\n",
       "  background-color: var(--sklearn-color-fitted-level-2);\n",
       "}\n",
       "\n",
       "/* Estimator label */\n",
       "\n",
       "#sk-container-id-8 div.sk-label label {\n",
       "  font-family: monospace;\n",
       "  font-weight: bold;\n",
       "  display: inline-block;\n",
       "  line-height: 1.2em;\n",
       "}\n",
       "\n",
       "#sk-container-id-8 div.sk-label-container {\n",
       "  text-align: center;\n",
       "}\n",
       "\n",
       "/* Estimator-specific */\n",
       "#sk-container-id-8 div.sk-estimator {\n",
       "  font-family: monospace;\n",
       "  border: 1px dotted var(--sklearn-color-border-box);\n",
       "  border-radius: 0.25em;\n",
       "  box-sizing: border-box;\n",
       "  margin-bottom: 0.5em;\n",
       "  /* unfitted */\n",
       "  background-color: var(--sklearn-color-unfitted-level-0);\n",
       "}\n",
       "\n",
       "#sk-container-id-8 div.sk-estimator.fitted {\n",
       "  /* fitted */\n",
       "  background-color: var(--sklearn-color-fitted-level-0);\n",
       "}\n",
       "\n",
       "/* on hover */\n",
       "#sk-container-id-8 div.sk-estimator:hover {\n",
       "  /* unfitted */\n",
       "  background-color: var(--sklearn-color-unfitted-level-2);\n",
       "}\n",
       "\n",
       "#sk-container-id-8 div.sk-estimator.fitted:hover {\n",
       "  /* fitted */\n",
       "  background-color: var(--sklearn-color-fitted-level-2);\n",
       "}\n",
       "\n",
       "/* Specification for estimator info (e.g. \"i\" and \"?\") */\n",
       "\n",
       "/* Common style for \"i\" and \"?\" */\n",
       "\n",
       ".sk-estimator-doc-link,\n",
       "a:link.sk-estimator-doc-link,\n",
       "a:visited.sk-estimator-doc-link {\n",
       "  float: right;\n",
       "  font-size: smaller;\n",
       "  line-height: 1em;\n",
       "  font-family: monospace;\n",
       "  background-color: var(--sklearn-color-background);\n",
       "  border-radius: 1em;\n",
       "  height: 1em;\n",
       "  width: 1em;\n",
       "  text-decoration: none !important;\n",
       "  margin-left: 1ex;\n",
       "  /* unfitted */\n",
       "  border: var(--sklearn-color-unfitted-level-1) 1pt solid;\n",
       "  color: var(--sklearn-color-unfitted-level-1);\n",
       "}\n",
       "\n",
       ".sk-estimator-doc-link.fitted,\n",
       "a:link.sk-estimator-doc-link.fitted,\n",
       "a:visited.sk-estimator-doc-link.fitted {\n",
       "  /* fitted */\n",
       "  border: var(--sklearn-color-fitted-level-1) 1pt solid;\n",
       "  color: var(--sklearn-color-fitted-level-1);\n",
       "}\n",
       "\n",
       "/* On hover */\n",
       "div.sk-estimator:hover .sk-estimator-doc-link:hover,\n",
       ".sk-estimator-doc-link:hover,\n",
       "div.sk-label-container:hover .sk-estimator-doc-link:hover,\n",
       ".sk-estimator-doc-link:hover {\n",
       "  /* unfitted */\n",
       "  background-color: var(--sklearn-color-unfitted-level-3);\n",
       "  color: var(--sklearn-color-background);\n",
       "  text-decoration: none;\n",
       "}\n",
       "\n",
       "div.sk-estimator.fitted:hover .sk-estimator-doc-link.fitted:hover,\n",
       ".sk-estimator-doc-link.fitted:hover,\n",
       "div.sk-label-container:hover .sk-estimator-doc-link.fitted:hover,\n",
       ".sk-estimator-doc-link.fitted:hover {\n",
       "  /* fitted */\n",
       "  background-color: var(--sklearn-color-fitted-level-3);\n",
       "  color: var(--sklearn-color-background);\n",
       "  text-decoration: none;\n",
       "}\n",
       "\n",
       "/* Span, style for the box shown on hovering the info icon */\n",
       ".sk-estimator-doc-link span {\n",
       "  display: none;\n",
       "  z-index: 9999;\n",
       "  position: relative;\n",
       "  font-weight: normal;\n",
       "  right: .2ex;\n",
       "  padding: .5ex;\n",
       "  margin: .5ex;\n",
       "  width: min-content;\n",
       "  min-width: 20ex;\n",
       "  max-width: 50ex;\n",
       "  color: var(--sklearn-color-text);\n",
       "  box-shadow: 2pt 2pt 4pt #999;\n",
       "  /* unfitted */\n",
       "  background: var(--sklearn-color-unfitted-level-0);\n",
       "  border: .5pt solid var(--sklearn-color-unfitted-level-3);\n",
       "}\n",
       "\n",
       ".sk-estimator-doc-link.fitted span {\n",
       "  /* fitted */\n",
       "  background: var(--sklearn-color-fitted-level-0);\n",
       "  border: var(--sklearn-color-fitted-level-3);\n",
       "}\n",
       "\n",
       ".sk-estimator-doc-link:hover span {\n",
       "  display: block;\n",
       "}\n",
       "\n",
       "/* \"?\"-specific style due to the `<a>` HTML tag */\n",
       "\n",
       "#sk-container-id-8 a.estimator_doc_link {\n",
       "  float: right;\n",
       "  font-size: 1rem;\n",
       "  line-height: 1em;\n",
       "  font-family: monospace;\n",
       "  background-color: var(--sklearn-color-background);\n",
       "  border-radius: 1rem;\n",
       "  height: 1rem;\n",
       "  width: 1rem;\n",
       "  text-decoration: none;\n",
       "  /* unfitted */\n",
       "  color: var(--sklearn-color-unfitted-level-1);\n",
       "  border: var(--sklearn-color-unfitted-level-1) 1pt solid;\n",
       "}\n",
       "\n",
       "#sk-container-id-8 a.estimator_doc_link.fitted {\n",
       "  /* fitted */\n",
       "  border: var(--sklearn-color-fitted-level-1) 1pt solid;\n",
       "  color: var(--sklearn-color-fitted-level-1);\n",
       "}\n",
       "\n",
       "/* On hover */\n",
       "#sk-container-id-8 a.estimator_doc_link:hover {\n",
       "  /* unfitted */\n",
       "  background-color: var(--sklearn-color-unfitted-level-3);\n",
       "  color: var(--sklearn-color-background);\n",
       "  text-decoration: none;\n",
       "}\n",
       "\n",
       "#sk-container-id-8 a.estimator_doc_link.fitted:hover {\n",
       "  /* fitted */\n",
       "  background-color: var(--sklearn-color-fitted-level-3);\n",
       "}\n",
       "</style><div id=\"sk-container-id-8\" class=\"sk-top-container\"><div class=\"sk-text-repr-fallback\"><pre>RandomForestRegressor(criterion=&#x27;absolute_error&#x27;, max_depth=41,\n",
       "                      max_features=None, max_leaf_nodes=212, n_estimators=481,\n",
       "                      n_jobs=2)</pre><b>In a Jupyter environment, please rerun this cell to show the HTML representation or trust the notebook. <br />On GitHub, the HTML representation is unable to render, please try loading this page with nbviewer.org.</b></div><div class=\"sk-container\" hidden><div class=\"sk-item\"><div class=\"sk-estimator fitted sk-toggleable\"><input class=\"sk-toggleable__control sk-hidden--visually\" id=\"sk-estimator-id-14\" type=\"checkbox\" checked><label for=\"sk-estimator-id-14\" class=\"sk-toggleable__label fitted sk-toggleable__label-arrow fitted\">&nbsp;&nbsp;RandomForestRegressor<a class=\"sk-estimator-doc-link fitted\" rel=\"noreferrer\" target=\"_blank\" href=\"https://scikit-learn.org/1.5/modules/generated/sklearn.ensemble.RandomForestRegressor.html\">?<span>Documentation for RandomForestRegressor</span></a><span class=\"sk-estimator-doc-link fitted\">i<span>Fitted</span></span></label><div class=\"sk-toggleable__content fitted\"><pre>RandomForestRegressor(criterion=&#x27;absolute_error&#x27;, max_depth=41,\n",
       "                      max_features=None, max_leaf_nodes=212, n_estimators=481,\n",
       "                      n_jobs=2)</pre></div> </div></div></div></div>"
      ]
     },
     "execution_count": 127,
     "metadata": {},
     "output_type": "execute_result"
    }
   ],
   "execution_count": 127
  },
  {
   "metadata": {
    "ExecuteTime": {
     "end_time": "2025-07-09T10:28:37.968455Z",
     "start_time": "2025-07-09T10:28:37.890422Z"
    }
   },
   "cell_type": "code",
   "source": "predictions = regressor.predict(valid_xs)",
   "id": "a3ea8ee6fb98beef",
   "outputs": [],
   "execution_count": 128
  },
  {
   "metadata": {
    "ExecuteTime": {
     "end_time": "2025-07-09T10:28:38.457940Z",
     "start_time": "2025-07-09T10:28:38.398261Z"
    }
   },
   "cell_type": "code",
   "source": [
    "fi = rf_feat_importance(regressor, xs)\n",
    "fi[:50]"
   ],
   "id": "18088c6544e2ebd2",
   "outputs": [
    {
     "data": {
      "text/plain": [
       "              cols       imp\n",
       "16              Ce  0.833895\n",
       "13              Mn  0.029083\n",
       "0                S  0.019959\n",
       "8                P  0.017103\n",
       "4               EC  0.011596\n",
       "5   Organic matter  0.010716\n",
       "1                C  0.010096\n",
       "10              Mg  0.009459\n",
       "14              Cu  0.008691\n",
       "12              Zn  0.007623\n",
       "3               pH  0.006985\n",
       "7              NO3  0.006885\n",
       "11              Fe  0.006323\n",
       "2               Si  0.006301\n",
       "9                K  0.006280\n",
       "15               B  0.005600\n",
       "6            CaCO3  0.003404"
      ],
      "text/html": [
       "<div>\n",
       "<style scoped>\n",
       "    .dataframe tbody tr th:only-of-type {\n",
       "        vertical-align: middle;\n",
       "    }\n",
       "\n",
       "    .dataframe tbody tr th {\n",
       "        vertical-align: top;\n",
       "    }\n",
       "\n",
       "    .dataframe thead th {\n",
       "        text-align: right;\n",
       "    }\n",
       "</style>\n",
       "<table border=\"1\" class=\"dataframe\">\n",
       "  <thead>\n",
       "    <tr style=\"text-align: right;\">\n",
       "      <th></th>\n",
       "      <th>cols</th>\n",
       "      <th>imp</th>\n",
       "    </tr>\n",
       "  </thead>\n",
       "  <tbody>\n",
       "    <tr>\n",
       "      <th>16</th>\n",
       "      <td>Ce</td>\n",
       "      <td>0.833895</td>\n",
       "    </tr>\n",
       "    <tr>\n",
       "      <th>13</th>\n",
       "      <td>Mn</td>\n",
       "      <td>0.029083</td>\n",
       "    </tr>\n",
       "    <tr>\n",
       "      <th>0</th>\n",
       "      <td>S</td>\n",
       "      <td>0.019959</td>\n",
       "    </tr>\n",
       "    <tr>\n",
       "      <th>8</th>\n",
       "      <td>P</td>\n",
       "      <td>0.017103</td>\n",
       "    </tr>\n",
       "    <tr>\n",
       "      <th>4</th>\n",
       "      <td>EC</td>\n",
       "      <td>0.011596</td>\n",
       "    </tr>\n",
       "    <tr>\n",
       "      <th>5</th>\n",
       "      <td>Organic matter</td>\n",
       "      <td>0.010716</td>\n",
       "    </tr>\n",
       "    <tr>\n",
       "      <th>1</th>\n",
       "      <td>C</td>\n",
       "      <td>0.010096</td>\n",
       "    </tr>\n",
       "    <tr>\n",
       "      <th>10</th>\n",
       "      <td>Mg</td>\n",
       "      <td>0.009459</td>\n",
       "    </tr>\n",
       "    <tr>\n",
       "      <th>14</th>\n",
       "      <td>Cu</td>\n",
       "      <td>0.008691</td>\n",
       "    </tr>\n",
       "    <tr>\n",
       "      <th>12</th>\n",
       "      <td>Zn</td>\n",
       "      <td>0.007623</td>\n",
       "    </tr>\n",
       "    <tr>\n",
       "      <th>3</th>\n",
       "      <td>pH</td>\n",
       "      <td>0.006985</td>\n",
       "    </tr>\n",
       "    <tr>\n",
       "      <th>7</th>\n",
       "      <td>NO3</td>\n",
       "      <td>0.006885</td>\n",
       "    </tr>\n",
       "    <tr>\n",
       "      <th>11</th>\n",
       "      <td>Fe</td>\n",
       "      <td>0.006323</td>\n",
       "    </tr>\n",
       "    <tr>\n",
       "      <th>2</th>\n",
       "      <td>Si</td>\n",
       "      <td>0.006301</td>\n",
       "    </tr>\n",
       "    <tr>\n",
       "      <th>9</th>\n",
       "      <td>K</td>\n",
       "      <td>0.006280</td>\n",
       "    </tr>\n",
       "    <tr>\n",
       "      <th>15</th>\n",
       "      <td>B</td>\n",
       "      <td>0.005600</td>\n",
       "    </tr>\n",
       "    <tr>\n",
       "      <th>6</th>\n",
       "      <td>CaCO3</td>\n",
       "      <td>0.003404</td>\n",
       "    </tr>\n",
       "  </tbody>\n",
       "</table>\n",
       "</div>"
      ]
     },
     "execution_count": 129,
     "metadata": {},
     "output_type": "execute_result"
    }
   ],
   "execution_count": 129
  },
  {
   "metadata": {
    "ExecuteTime": {
     "end_time": "2025-07-09T10:44:37.454118Z",
     "start_time": "2025-07-09T10:44:37.433474Z"
    }
   },
   "cell_type": "code",
   "source": [
    "import pandas as pd\n",
    "from sklearn.feature_selection import RFE\n",
    "from sklearn.model_selection import train_test_split"
   ],
   "id": "107eee7ed6f82f7f",
   "outputs": [],
   "execution_count": 138
  },
  {
   "metadata": {
    "ExecuteTime": {
     "end_time": "2025-07-09T10:26:15.426928Z",
     "start_time": "2025-07-09T10:26:15.422139Z"
    }
   },
   "cell_type": "code",
   "source": "model = RandomForestRegressor(n_estimators=100, random_state=42, n_jobs=1)",
   "id": "ed7e42e8ee877e72",
   "outputs": [],
   "execution_count": 123
  },
  {
   "metadata": {
    "ExecuteTime": {
     "end_time": "2025-07-09T10:26:36.652711Z",
     "start_time": "2025-07-09T10:26:33.447377Z"
    }
   },
   "cell_type": "code",
   "source": [
    "from sklearn.ensemble import RandomForestRegressor\n",
    "from sklearn.feature_selection import RFE\n",
    "\n",
    "# Fix randomness as much as possible\n",
    "model = RandomForestRegressor(n_estimators=100, random_state=42, n_jobs=1)\n",
    "\n",
    "# RFE selection\n",
    "rfe = RFE(estimator=model, n_features_to_select=10)\n",
    "rfe.fit(xs, y)\n",
    "\n",
    "# Transform the data\n",
    "X_train_rfe = rfe.transform(xs)\n",
    "X_test_rfe = rfe.transform(valid_xs)\n",
    "\n",
    "# Re-train the final model\n",
    "model.fit(X_train_rfe, y)\n",
    "y_pred = model.predict(X_test_rfe)\n",
    "\n",
    "# Get selected features\n",
    "selected_features = xs.columns[rfe.support_]\n",
    "print(\"Selected Features:\")\n",
    "print(selected_features.tolist())\n"
   ],
   "id": "bc08525d970b539c",
   "outputs": [
    {
     "name": "stdout",
     "output_type": "stream",
     "text": [
      "Selected Features:\n",
      "['S', 'C', 'pH', 'EC', 'Organic matter', 'P', 'Mg', 'Mn', 'Cu', 'Ce']\n"
     ]
    }
   ],
   "execution_count": 125
  },
  {
   "metadata": {
    "ExecuteTime": {
     "end_time": "2025-07-09T12:01:43.143388Z",
     "start_time": "2025-07-09T12:01:43.114963Z"
    }
   },
   "cell_type": "code",
   "source": "df_seq= df_seq[['S', 'C', 'pH', 'EC', 'Organic matter', 'P', 'Mg', 'Mn', 'Cu', 'Ce', 'q']]",
   "id": "2182b73df7fd104f",
   "outputs": [],
   "execution_count": 181
  },
  {
   "metadata": {
    "ExecuteTime": {
     "end_time": "2025-07-09T12:02:05.043397Z",
     "start_time": "2025-07-09T12:02:05.030634Z"
    }
   },
   "cell_type": "code",
   "source": [
    "import optuna\n",
    "from xgboost import XGBRegressor\n",
    "from sklearn.model_selection import train_test_split\n",
    "from sklearn.metrics import mean_absolute_error\n",
    "\n",
    "# Your data (assuming df_seq with 'q' as target)\n",
    "X = df_seq.drop(columns='q')\n",
    "y = df_seq['q']\n",
    "\n",
    "# Optional: fix split for repeatability\n",
    "X_train, X_val, y_train, y_val = train_test_split(X, y, test_size=0.2, random_state=42)\n",
    "\n",
    "def objective(trial):\n",
    "    # Suggest hyperparameters\n",
    "    params = {\n",
    "        \"n_estimators\": trial.suggest_int(\"n_estimators\", 100, 1000),\n",
    "        \"max_depth\": trial.suggest_int(\"max_depth\", 3, 12),\n",
    "        \"learning_rate\": trial.suggest_float(\"learning_rate\", 0.01, 0.3, log=True),\n",
    "        \"subsample\": trial.suggest_float(\"subsample\", 0.5, 1.0),\n",
    "        \"colsample_bytree\": trial.suggest_float(\"colsample_bytree\", 0.5, 1.0),\n",
    "        \"reg_alpha\": trial.suggest_float(\"reg_alpha\", 0, 10),\n",
    "        \"reg_lambda\": trial.suggest_float(\"reg_lambda\", 1, 10),\n",
    "        \"tree_method\": \"hist\",  # Faster training\n",
    "        \"random_state\": 42,\n",
    "    }\n",
    "\n",
    "    # Train model\n",
    "    model = XGBRegressor(**params)\n",
    "    model.fit(X_train, y_train)\n",
    "\n",
    "    # Predict and evaluate\n",
    "    y_pred = model.predict(X_val)\n",
    "    mae = mean_absolute_error(y_val, y_pred)\n",
    "\n",
    "    return mae  # 📌 Minimize MAE\n"
   ],
   "id": "9d0fd5e031c82231",
   "outputs": [],
   "execution_count": 182
  },
  {
   "metadata": {
    "ExecuteTime": {
     "end_time": "2025-07-09T12:02:45.563821Z",
     "start_time": "2025-07-09T12:02:05.809754Z"
    }
   },
   "cell_type": "code",
   "source": [
    "study = optuna.create_study(direction=\"minimize\")\n",
    "study.optimize(objective, n_trials=100)"
   ],
   "id": "ea938158302adff5",
   "outputs": [
    {
     "name": "stderr",
     "output_type": "stream",
     "text": [
      "[I 2025-07-09 15:02:05,809] A new study created in memory with name: no-name-31cf9b0b-24fe-43ed-9601-f520cc4f15e3\n",
      "[I 2025-07-09 15:02:06,333] Trial 0 finished with value: 25.372362438340183 and parameters: {'n_estimators': 723, 'max_depth': 7, 'learning_rate': 0.03025342739076981, 'subsample': 0.8892855757759177, 'colsample_bytree': 0.9990464713614255, 'reg_alpha': 1.6559154275663568, 'reg_lambda': 8.407502903703634}. Best is trial 0 with value: 25.372362438340183.\n",
      "[I 2025-07-09 15:02:07,070] Trial 1 finished with value: 27.35857663121808 and parameters: {'n_estimators': 842, 'max_depth': 12, 'learning_rate': 0.14783102567173967, 'subsample': 0.8892345872936817, 'colsample_bytree': 0.8388315554615127, 'reg_alpha': 8.217858358869426, 'reg_lambda': 6.718185191425966}. Best is trial 0 with value: 25.372362438340183.\n",
      "[I 2025-07-09 15:02:07,168] Trial 2 finished with value: 50.32856988012556 and parameters: {'n_estimators': 185, 'max_depth': 6, 'learning_rate': 0.018953640807714743, 'subsample': 0.8472224690292482, 'colsample_bytree': 0.7631331592075987, 'reg_alpha': 2.526651628283949, 'reg_lambda': 2.6330860164398473}. Best is trial 0 with value: 25.372362438340183.\n",
      "[I 2025-07-09 15:02:07,327] Trial 3 finished with value: 26.682025270139984 and parameters: {'n_estimators': 148, 'max_depth': 12, 'learning_rate': 0.22562627865333784, 'subsample': 0.5553443296921081, 'colsample_bytree': 0.9093977932216436, 'reg_alpha': 4.777839220194876, 'reg_lambda': 2.4447340960339994}. Best is trial 0 with value: 25.372362438340183.\n",
      "[I 2025-07-09 15:02:07,378] Trial 4 finished with value: 83.20211148130255 and parameters: {'n_estimators': 111, 'max_depth': 4, 'learning_rate': 0.017601786085781338, 'subsample': 0.5185320007021075, 'colsample_bytree': 0.781298993119494, 'reg_alpha': 2.345889103048405, 'reg_lambda': 1.6115785010076724}. Best is trial 0 with value: 25.372362438340183.\n",
      "[I 2025-07-09 15:02:08,020] Trial 5 finished with value: 26.373340184149292 and parameters: {'n_estimators': 976, 'max_depth': 7, 'learning_rate': 0.14580971985758825, 'subsample': 0.8305134910969745, 'colsample_bytree': 0.6885802370005496, 'reg_alpha': 9.614961251886958, 'reg_lambda': 8.194100131593345}. Best is trial 0 with value: 25.372362438340183.\n",
      "[I 2025-07-09 15:02:08,249] Trial 6 finished with value: 27.10931236885287 and parameters: {'n_estimators': 804, 'max_depth': 4, 'learning_rate': 0.02055244831647231, 'subsample': 0.5330607137602782, 'colsample_bytree': 0.7611862098058293, 'reg_alpha': 8.167237297629931, 'reg_lambda': 2.8145736544492332}. Best is trial 0 with value: 25.372362438340183.\n",
      "[I 2025-07-09 15:02:08,508] Trial 7 finished with value: 22.33187326587525 and parameters: {'n_estimators': 891, 'max_depth': 4, 'learning_rate': 0.2809110395795841, 'subsample': 0.7745171658413835, 'colsample_bytree': 0.7636902900746341, 'reg_alpha': 2.2637814883710106, 'reg_lambda': 2.2963988730560625}. Best is trial 7 with value: 22.33187326587525.\n",
      "[I 2025-07-09 15:02:08,799] Trial 8 finished with value: 24.224758410615536 and parameters: {'n_estimators': 860, 'max_depth': 5, 'learning_rate': 0.2502000234073264, 'subsample': 0.9387504716151881, 'colsample_bytree': 0.5192836420881267, 'reg_alpha': 8.546710709887291, 'reg_lambda': 4.023255454337552}. Best is trial 7 with value: 22.33187326587525.\n",
      "[I 2025-07-09 15:02:08,941] Trial 9 finished with value: 28.654989602088907 and parameters: {'n_estimators': 464, 'max_depth': 4, 'learning_rate': 0.015096500888847777, 'subsample': 0.5671104193366303, 'colsample_bytree': 0.8801161908218436, 'reg_alpha': 2.0319556931087934, 'reg_lambda': 1.2158571896915193}. Best is trial 7 with value: 22.33187326587525.\n",
      "[I 2025-07-09 15:02:09,478] Trial 10 finished with value: 29.35558248903762 and parameters: {'n_estimators': 565, 'max_depth': 9, 'learning_rate': 0.06741162709932509, 'subsample': 0.714994051851814, 'colsample_bytree': 0.651144375855875, 'reg_alpha': 0.05755590871806371, 'reg_lambda': 5.622413124678849}. Best is trial 7 with value: 22.33187326587525.\n",
      "[I 2025-07-09 15:02:09,735] Trial 11 finished with value: 22.254501722629097 and parameters: {'n_estimators': 997, 'max_depth': 3, 'learning_rate': 0.27372668619882745, 'subsample': 0.9903330742288122, 'colsample_bytree': 0.5521250653278511, 'reg_alpha': 5.936170373518931, 'reg_lambda': 3.9618880985013867}. Best is trial 11 with value: 22.254501722629097.\n",
      "[I 2025-07-09 15:02:09,989] Trial 12 finished with value: 23.289959074264733 and parameters: {'n_estimators': 973, 'max_depth': 3, 'learning_rate': 0.29315780159115956, 'subsample': 0.9805915330144476, 'colsample_bytree': 0.5873254660211199, 'reg_alpha': 5.52618077081995, 'reg_lambda': 4.090092917931952}. Best is trial 11 with value: 22.254501722629097.\n",
      "[I 2025-07-09 15:02:10,421] Trial 13 finished with value: 32.07848635516693 and parameters: {'n_estimators': 641, 'max_depth': 9, 'learning_rate': 0.09894027574669528, 'subsample': 0.9840593744830218, 'colsample_bytree': 0.6747472006081359, 'reg_alpha': 4.8700132258586875, 'reg_lambda': 4.121614326449102}. Best is trial 11 with value: 22.254501722629097.\n",
      "[I 2025-07-09 15:02:10,546] Trial 14 finished with value: 26.471488208763724 and parameters: {'n_estimators': 382, 'max_depth': 3, 'learning_rate': 0.14087460034598157, 'subsample': 0.7854640658816511, 'colsample_bytree': 0.5336572416523672, 'reg_alpha': 6.141639152403939, 'reg_lambda': 5.038349226669002}. Best is trial 11 with value: 22.254501722629097.\n",
      "[I 2025-07-09 15:02:10,908] Trial 15 finished with value: 25.619968116334277 and parameters: {'n_estimators': 966, 'max_depth': 5, 'learning_rate': 0.05075053475418207, 'subsample': 0.7183112263782876, 'colsample_bytree': 0.5976994769962866, 'reg_alpha': 3.7922461458581607, 'reg_lambda': 1.049171570050877}. Best is trial 11 with value: 22.254501722629097.\n",
      "[I 2025-07-09 15:02:11,449] Trial 16 finished with value: 30.111327771919136 and parameters: {'n_estimators': 702, 'max_depth': 9, 'learning_rate': 0.29792158206815234, 'subsample': 0.6444954346657732, 'colsample_bytree': 0.5004844418201709, 'reg_alpha': 6.4950744788334305, 'reg_lambda': 2.79233343814028}. Best is trial 11 with value: 22.254501722629097.\n",
      "[I 2025-07-09 15:02:11,708] Trial 17 finished with value: 23.55185942013135 and parameters: {'n_estimators': 879, 'max_depth': 3, 'learning_rate': 0.18557725476140788, 'subsample': 0.7710876623550998, 'colsample_bytree': 0.7165181523833912, 'reg_alpha': 3.687025334859365, 'reg_lambda': 3.6238657737928515}. Best is trial 11 with value: 22.254501722629097.\n",
      "[I 2025-07-09 15:02:11,853] Trial 18 finished with value: 25.61157346703495 and parameters: {'n_estimators': 285, 'max_depth': 5, 'learning_rate': 0.09560740331593805, 'subsample': 0.9171626281211416, 'colsample_bytree': 0.6160470599844907, 'reg_alpha': 6.9101802107037695, 'reg_lambda': 9.76858227624619}. Best is trial 11 with value: 22.254501722629097.\n",
      "[I 2025-07-09 15:02:12,178] Trial 19 finished with value: 24.20517648071043 and parameters: {'n_estimators': 736, 'max_depth': 6, 'learning_rate': 0.1832366838282109, 'subsample': 0.8405036940485864, 'colsample_bytree': 0.7089406942888644, 'reg_alpha': 3.9804594499791657, 'reg_lambda': 5.000003361956372}. Best is trial 11 with value: 22.254501722629097.\n",
      "[I 2025-07-09 15:02:12,451] Trial 20 finished with value: 27.262899328055642 and parameters: {'n_estimators': 590, 'max_depth': 6, 'learning_rate': 0.2331872534172313, 'subsample': 0.9656847626859504, 'colsample_bytree': 0.6466987821774304, 'reg_alpha': 7.266433538563065, 'reg_lambda': 1.8386811288400247}. Best is trial 11 with value: 22.254501722629097.\n",
      "[I 2025-07-09 15:02:12,743] Trial 21 finished with value: 21.466686159651655 and parameters: {'n_estimators': 982, 'max_depth': 3, 'learning_rate': 0.27208365859982553, 'subsample': 0.97627189343494, 'colsample_bytree': 0.5718101476938309, 'reg_alpha': 5.89216838978434, 'reg_lambda': 3.5049056847307365}. Best is trial 21 with value: 21.466686159651655.\n",
      "[I 2025-07-09 15:02:13,027] Trial 22 finished with value: 21.613770499422127 and parameters: {'n_estimators': 900, 'max_depth': 3, 'learning_rate': 0.28057581040087115, 'subsample': 0.9903925095245508, 'colsample_bytree': 0.5694994104757384, 'reg_alpha': 5.751966845008896, 'reg_lambda': 3.3367297163074525}. Best is trial 21 with value: 21.466686159651655.\n",
      "[I 2025-07-09 15:02:13,288] Trial 23 finished with value: 22.34102028107342 and parameters: {'n_estimators': 1000, 'max_depth': 3, 'learning_rate': 0.18202668630015922, 'subsample': 0.9948789971867434, 'colsample_bytree': 0.5632685377543645, 'reg_alpha': 5.580781691772463, 'reg_lambda': 3.4690515960966013}. Best is trial 21 with value: 21.466686159651655.\n",
      "[I 2025-07-09 15:02:13,509] Trial 24 finished with value: 23.727088410109484 and parameters: {'n_estimators': 780, 'max_depth': 3, 'learning_rate': 0.21389667152284875, 'subsample': 0.9437118705374639, 'colsample_bytree': 0.5537388205316479, 'reg_alpha': 5.865270970180694, 'reg_lambda': 3.1930523161995397}. Best is trial 21 with value: 21.466686159651655.\n",
      "[I 2025-07-09 15:02:13,790] Trial 25 finished with value: 23.974718739590134 and parameters: {'n_estimators': 926, 'max_depth': 4, 'learning_rate': 0.2859932892747051, 'subsample': 0.9913137259750842, 'colsample_bytree': 0.5688120059998607, 'reg_alpha': 6.8696680522534255, 'reg_lambda': 4.738524984225175}. Best is trial 21 with value: 21.466686159651655.\n",
      "[I 2025-07-09 15:02:14,709] Trial 26 finished with value: 32.735038945919776 and parameters: {'n_estimators': 916, 'max_depth': 10, 'learning_rate': 0.12434055069453886, 'subsample': 0.9308940606388101, 'colsample_bytree': 0.6196594576474794, 'reg_alpha': 5.3610350118182, 'reg_lambda': 3.403973609650034}. Best is trial 21 with value: 21.466686159651655.\n",
      "[I 2025-07-09 15:02:15,020] Trial 27 finished with value: 24.4711274864938 and parameters: {'n_estimators': 797, 'max_depth': 5, 'learning_rate': 0.1971935524265107, 'subsample': 0.95074730322451, 'colsample_bytree': 0.5007177299508869, 'reg_alpha': 6.334930205358442, 'reg_lambda': 2.06424894603016}. Best is trial 21 with value: 21.466686159651655.\n",
      "[I 2025-07-09 15:02:15,200] Trial 28 finished with value: 23.479550513767794 and parameters: {'n_estimators': 649, 'max_depth': 3, 'learning_rate': 0.22667182175632725, 'subsample': 0.9972783141179645, 'colsample_bytree': 0.5394512489876432, 'reg_alpha': 7.537278834578677, 'reg_lambda': 5.671372582194412}. Best is trial 21 with value: 21.466686159651655.\n",
      "[I 2025-07-09 15:02:15,865] Trial 29 finished with value: 30.30999135165943 and parameters: {'n_estimators': 734, 'max_depth': 8, 'learning_rate': 0.04074555467821317, 'subsample': 0.8878508088759817, 'colsample_bytree': 0.5815342391742472, 'reg_alpha': 4.785804836730532, 'reg_lambda': 4.430293929926654}. Best is trial 21 with value: 21.466686159651655.\n",
      "[I 2025-07-09 15:02:16,042] Trial 30 finished with value: 25.990678321419995 and parameters: {'n_estimators': 462, 'max_depth': 4, 'learning_rate': 0.07558449154194936, 'subsample': 0.9125948122174092, 'colsample_bytree': 0.62320879359937, 'reg_alpha': 6.164420525763768, 'reg_lambda': 3.3474562471964493}. Best is trial 21 with value: 21.466686159651655.\n",
      "[I 2025-07-09 15:02:16,341] Trial 31 finished with value: 23.925325780728755 and parameters: {'n_estimators': 907, 'max_depth': 4, 'learning_rate': 0.26981878334487475, 'subsample': 0.9621001832479504, 'colsample_bytree': 0.5358869252940051, 'reg_alpha': 4.289485956594554, 'reg_lambda': 2.173589413616159}. Best is trial 21 with value: 21.466686159651655.\n",
      "[I 2025-07-09 15:02:16,583] Trial 32 finished with value: 24.277718230882282 and parameters: {'n_estimators': 844, 'max_depth': 3, 'learning_rate': 0.16582240834376827, 'subsample': 0.8792586261850146, 'colsample_bytree': 0.5811360487510286, 'reg_alpha': 3.2746711043171373, 'reg_lambda': 2.8974853757522334}. Best is trial 21 with value: 21.466686159651655.\n",
      "[I 2025-07-09 15:02:16,881] Trial 33 finished with value: 23.21088511056509 and parameters: {'n_estimators': 916, 'max_depth': 4, 'learning_rate': 0.2316979088132053, 'subsample': 0.9202036289546331, 'colsample_bytree': 0.6506466815765407, 'reg_alpha': 5.1978306323232895, 'reg_lambda': 2.361195004414852}. Best is trial 21 with value: 21.466686159651655.\n",
      "[I 2025-07-09 15:02:17,188] Trial 34 finished with value: 24.45996915510923 and parameters: {'n_estimators': 824, 'max_depth': 5, 'learning_rate': 0.2962612444398354, 'subsample': 0.8795960487928651, 'colsample_bytree': 0.8047894190121576, 'reg_alpha': 4.673589000531184, 'reg_lambda': 3.8820053107790793}. Best is trial 21 with value: 21.466686159651655.\n",
      "[I 2025-07-09 15:02:17,472] Trial 35 finished with value: 22.8886825872506 and parameters: {'n_estimators': 932, 'max_depth': 3, 'learning_rate': 0.15831874075916322, 'subsample': 0.9573401402658314, 'colsample_bytree': 0.7315427413400171, 'reg_alpha': 1.1602638913264585, 'reg_lambda': 2.4781911471661697}. Best is trial 21 with value: 21.466686159651655.\n",
      "[I 2025-07-09 15:02:18,585] Trial 36 finished with value: 30.677549444235684 and parameters: {'n_estimators': 994, 'max_depth': 11, 'learning_rate': 0.21472984204490325, 'subsample': 0.907384722652506, 'colsample_bytree': 0.7396989479925138, 'reg_alpha': 3.042019304635885, 'reg_lambda': 3.033643146328637}. Best is trial 21 with value: 21.466686159651655.\n",
      "[I 2025-07-09 15:02:19,395] Trial 37 finished with value: 29.523517098108293 and parameters: {'n_estimators': 869, 'max_depth': 7, 'learning_rate': 0.12459656449522338, 'subsample': 0.862550854553445, 'colsample_bytree': 0.6910488988655283, 'reg_alpha': 4.434975862232859, 'reg_lambda': 2.0507895755885195}. Best is trial 21 with value: 21.466686159651655.\n",
      "[I 2025-07-09 15:02:19,711] Trial 38 finished with value: 23.053383037260577 and parameters: {'n_estimators': 760, 'max_depth': 4, 'learning_rate': 0.24920647430208298, 'subsample': 0.8168593268846469, 'colsample_bytree': 0.7866678923927591, 'reg_alpha': 5.235132192580927, 'reg_lambda': 1.6485601281451647}. Best is trial 21 with value: 21.466686159651655.\n",
      "[I 2025-07-09 15:02:20,059] Trial 39 finished with value: 27.30416962919073 and parameters: {'n_estimators': 681, 'max_depth': 6, 'learning_rate': 0.195441367461394, 'subsample': 0.965864507345668, 'colsample_bytree': 0.558427029748315, 'reg_alpha': 5.9377631510843845, 'reg_lambda': 3.729003503392396}. Best is trial 21 with value: 21.466686159651655.\n",
      "[I 2025-07-09 15:02:20,534] Trial 40 finished with value: 23.28123551661419 and parameters: {'n_estimators': 960, 'max_depth': 4, 'learning_rate': 0.25246036131897254, 'subsample': 0.9032835568057742, 'colsample_bytree': 0.602201313293095, 'reg_alpha': 2.876945765514289, 'reg_lambda': 2.5663349683324235}. Best is trial 21 with value: 21.466686159651655.\n",
      "[I 2025-07-09 15:02:20,874] Trial 41 finished with value: 23.927425327338984 and parameters: {'n_estimators': 984, 'max_depth': 3, 'learning_rate': 0.17977202485508095, 'subsample': 0.993193400170283, 'colsample_bytree': 0.5519048459073083, 'reg_alpha': 5.621273047825357, 'reg_lambda': 3.3879504854687896}. Best is trial 21 with value: 21.466686159651655.\n",
      "[I 2025-07-09 15:02:21,190] Trial 42 finished with value: 22.863920307504667 and parameters: {'n_estimators': 996, 'max_depth': 3, 'learning_rate': 0.29949108523470575, 'subsample': 0.997783209622527, 'colsample_bytree': 0.5233541990874548, 'reg_alpha': 5.109263481507546, 'reg_lambda': 2.881329463996372}. Best is trial 21 with value: 21.466686159651655.\n",
      "[I 2025-07-09 15:02:21,503] Trial 43 finished with value: 23.95036428621088 and parameters: {'n_estimators': 877, 'max_depth': 3, 'learning_rate': 0.24511475428071328, 'subsample': 0.9360116649982759, 'colsample_bytree': 0.5802588728700293, 'reg_alpha': 5.698333768613297, 'reg_lambda': 3.7460804611933143}. Best is trial 21 with value: 21.466686159651655.\n",
      "[I 2025-07-09 15:02:22,121] Trial 44 finished with value: 24.46911635558986 and parameters: {'n_estimators': 945, 'max_depth': 5, 'learning_rate': 0.217035590623071, 'subsample': 0.9589216317540864, 'colsample_bytree': 0.5670153478149499, 'reg_alpha': 6.595021280891361, 'reg_lambda': 4.274657142996983}. Best is trial 21 with value: 21.466686159651655.\n",
      "[I 2025-07-09 15:02:22,492] Trial 45 finished with value: 23.8252945797899 and parameters: {'n_estimators': 830, 'max_depth': 4, 'learning_rate': 0.16186792787943283, 'subsample': 0.9772795587960138, 'colsample_bytree': 0.5200697776757248, 'reg_alpha': 4.267397912436943, 'reg_lambda': 1.4079484017959099}. Best is trial 21 with value: 21.466686159651655.\n",
      "[I 2025-07-09 15:02:22,810] Trial 46 finished with value: 23.512982398088837 and parameters: {'n_estimators': 892, 'max_depth': 3, 'learning_rate': 0.26777106523293903, 'subsample': 0.9345174721201426, 'colsample_bytree': 0.6009389486472292, 'reg_alpha': 5.704236059522356, 'reg_lambda': 3.1569083496712333}. Best is trial 21 with value: 21.466686159651655.\n",
      "[I 2025-07-09 15:02:23,247] Trial 47 finished with value: 22.440701845312155 and parameters: {'n_estimators': 999, 'max_depth': 4, 'learning_rate': 0.20842503843214405, 'subsample': 0.9803667485709442, 'colsample_bytree': 0.7576024069337816, 'reg_alpha': 4.898345426663457, 'reg_lambda': 4.380354189301907}. Best is trial 21 with value: 21.466686159651655.\n",
      "[I 2025-07-09 15:02:23,370] Trial 48 finished with value: 25.975978068480863 and parameters: {'n_estimators': 244, 'max_depth': 3, 'learning_rate': 0.1418875621229863, 'subsample': 0.860986720458977, 'colsample_bytree': 0.5533264045463857, 'reg_alpha': 6.319077477379929, 'reg_lambda': 2.546898008231498}. Best is trial 21 with value: 21.466686159651655.\n",
      "[I 2025-07-09 15:02:24,011] Trial 49 finished with value: 24.249439204776408 and parameters: {'n_estimators': 945, 'max_depth': 5, 'learning_rate': 0.2548411257047749, 'subsample': 0.822689829195445, 'colsample_bytree': 0.6332564408920108, 'reg_alpha': 5.414615681049379, 'reg_lambda': 3.8085127985933904}. Best is trial 21 with value: 21.466686159651655.\n",
      "[I 2025-07-09 15:02:24,371] Trial 50 finished with value: 23.758426968304867 and parameters: {'n_estimators': 845, 'max_depth': 4, 'learning_rate': 0.17927989520267745, 'subsample': 0.9481289197218511, 'colsample_bytree': 0.6703492229221163, 'reg_alpha': 6.056930679912132, 'reg_lambda': 1.4352843453676258}. Best is trial 21 with value: 21.466686159651655.\n",
      "[I 2025-07-09 15:02:24,935] Trial 51 finished with value: 23.565411390487064 and parameters: {'n_estimators': 992, 'max_depth': 4, 'learning_rate': 0.20091262481143496, 'subsample': 0.9833276487478948, 'colsample_bytree': 0.7578224801118985, 'reg_alpha': 4.890715993442036, 'reg_lambda': 4.467698767473353}. Best is trial 21 with value: 21.466686159651655.\n",
      "[I 2025-07-09 15:02:25,268] Trial 52 finished with value: 23.528662840669824 and parameters: {'n_estimators': 955, 'max_depth': 3, 'learning_rate': 0.2141382466590264, 'subsample': 0.970886583848658, 'colsample_bytree': 0.7618011297294496, 'reg_alpha': 2.3088144271045166, 'reg_lambda': 3.3642372803359306}. Best is trial 21 with value: 21.466686159651655.\n",
      "[I 2025-07-09 15:02:25,759] Trial 53 finished with value: 24.01413539904121 and parameters: {'n_estimators': 1000, 'max_depth': 4, 'learning_rate': 0.2654942723559291, 'subsample': 0.9760323975917209, 'colsample_bytree': 0.8420767864572731, 'reg_alpha': 3.5899226604436656, 'reg_lambda': 4.030962906879836}. Best is trial 21 with value: 21.466686159651655.\n",
      "[I 2025-07-09 15:02:26,374] Trial 54 finished with value: 22.44065443665642 and parameters: {'n_estimators': 881, 'max_depth': 3, 'learning_rate': 0.29986887738271933, 'subsample': 0.9284963789626722, 'colsample_bytree': 0.7146079971747744, 'reg_alpha': 3.9511225361917184, 'reg_lambda': 4.64176383640226}. Best is trial 21 with value: 21.466686159651655.\n",
      "[I 2025-07-09 15:02:26,839] Trial 55 finished with value: 23.673951477395402 and parameters: {'n_estimators': 893, 'max_depth': 3, 'learning_rate': 0.2890616382634456, 'subsample': 0.9995684844504714, 'colsample_bytree': 0.6152352148428215, 'reg_alpha': 3.862768644328884, 'reg_lambda': 2.8090934301367714}. Best is trial 21 with value: 21.466686159651655.\n",
      "[I 2025-07-09 15:02:27,473] Trial 56 finished with value: 24.24037054400358 and parameters: {'n_estimators': 813, 'max_depth': 3, 'learning_rate': 0.2393034660797909, 'subsample': 0.9363745931117082, 'colsample_bytree': 0.6702395779059896, 'reg_alpha': 6.682160113713807, 'reg_lambda': 5.370639170768832}. Best is trial 21 with value: 21.466686159651655.\n",
      "[I 2025-07-09 15:02:27,847] Trial 57 finished with value: 24.001806540910668 and parameters: {'n_estimators': 856, 'max_depth': 3, 'learning_rate': 0.26222318199890965, 'subsample': 0.9197590847471574, 'colsample_bytree': 0.5953714878754973, 'reg_alpha': 4.588179028469959, 'reg_lambda': 3.545197089948727}. Best is trial 21 with value: 21.466686159651655.\n",
      "[I 2025-07-09 15:02:28,295] Trial 58 finished with value: 23.8480160063103 and parameters: {'n_estimators': 776, 'max_depth': 5, 'learning_rate': 0.29765865772325256, 'subsample': 0.9468623705042726, 'colsample_bytree': 0.5403330278817551, 'reg_alpha': 4.123183326559083, 'reg_lambda': 4.676377672958785}. Best is trial 21 with value: 21.466686159651655.\n",
      "[I 2025-07-09 15:02:28,586] Trial 59 finished with value: 23.694243967211154 and parameters: {'n_estimators': 935, 'max_depth': 3, 'learning_rate': 0.18967485325876848, 'subsample': 0.9019037304899021, 'colsample_bytree': 0.6379685083836186, 'reg_alpha': 7.10334894237668, 'reg_lambda': 4.214334057297814}. Best is trial 21 with value: 21.466686159651655.\n",
      "[I 2025-07-09 15:02:29,210] Trial 60 finished with value: 29.885628443052408 and parameters: {'n_estimators': 901, 'max_depth': 8, 'learning_rate': 0.23580657584501474, 'subsample': 0.9724025734450735, 'colsample_bytree': 0.5160098602102202, 'reg_alpha': 5.461919374016729, 'reg_lambda': 2.9816156367723954}. Best is trial 21 with value: 21.466686159651655.\n",
      "[I 2025-07-09 15:02:29,829] Trial 61 finished with value: 24.36893256436123 and parameters: {'n_estimators': 963, 'max_depth': 4, 'learning_rate': 0.21102167340816796, 'subsample': 0.9599975865147277, 'colsample_bytree': 0.7128066296857317, 'reg_alpha': 5.000605968989156, 'reg_lambda': 4.064745846838797}. Best is trial 21 with value: 21.466686159651655.\n",
      "[I 2025-07-09 15:02:30,368] Trial 62 finished with value: 23.21091677523764 and parameters: {'n_estimators': 964, 'max_depth': 4, 'learning_rate': 0.22703477372994882, 'subsample': 0.9830692479817211, 'colsample_bytree': 0.5707863036143302, 'reg_alpha': 6.001660553739378, 'reg_lambda': 4.5083242826686645}. Best is trial 21 with value: 21.466686159651655.\n",
      "[I 2025-07-09 15:02:30,959] Trial 63 finished with value: 21.598989234994654 and parameters: {'n_estimators': 922, 'max_depth': 3, 'learning_rate': 0.2695001407139461, 'subsample': 0.9804580953413261, 'colsample_bytree': 0.7393765261269587, 'reg_alpha': 4.722612167437555, 'reg_lambda': 3.6339751265020936}. Best is trial 21 with value: 21.466686159651655.\n",
      "[I 2025-07-09 15:02:31,185] Trial 64 finished with value: 23.92319856228195 and parameters: {'n_estimators': 526, 'max_depth': 3, 'learning_rate': 0.2702354935695179, 'subsample': 0.9281446919183911, 'colsample_bytree': 0.6900635598621779, 'reg_alpha': 6.393781708886586, 'reg_lambda': 3.688703389526286}. Best is trial 21 with value: 21.466686159651655.\n",
      "[I 2025-07-09 15:02:31,498] Trial 65 finished with value: 22.329981304058457 and parameters: {'n_estimators': 914, 'max_depth': 3, 'learning_rate': 0.29821889253256056, 'subsample': 0.9479303744716302, 'colsample_bytree': 0.730014754161713, 'reg_alpha': 4.693326807136302, 'reg_lambda': 3.15645682688951}. Best is trial 21 with value: 21.466686159651655.\n",
      "[I 2025-07-09 15:02:31,802] Trial 66 finished with value: 21.907662644214824 and parameters: {'n_estimators': 929, 'max_depth': 3, 'learning_rate': 0.1761720794965265, 'subsample': 0.9977407989907534, 'colsample_bytree': 0.7296143508352512, 'reg_alpha': 4.504352604033206, 'reg_lambda': 3.173802112369135}. Best is trial 21 with value: 21.466686159651655.\n",
      "[I 2025-07-09 15:02:32,575] Trial 67 finished with value: 29.7045843422891 and parameters: {'n_estimators': 919, 'max_depth': 12, 'learning_rate': 0.26183815580269476, 'subsample': 0.9532698810785146, 'colsample_bytree': 0.735677639395079, 'reg_alpha': 4.404347777180586, 'reg_lambda': 3.133568595786746}. Best is trial 21 with value: 21.466686159651655.\n",
      "[I 2025-07-09 15:02:32,872] Trial 68 finished with value: 24.228941644036784 and parameters: {'n_estimators': 801, 'max_depth': 3, 'learning_rate': 0.1718881381114998, 'subsample': 0.9679835981806408, 'colsample_bytree': 0.747270661014152, 'reg_alpha': 4.583032035359332, 'reg_lambda': 2.7316472734124284}. Best is trial 21 with value: 21.466686159651655.\n",
      "[I 2025-07-09 15:02:33,174] Trial 69 finished with value: 22.544383651736748 and parameters: {'n_estimators': 863, 'max_depth': 3, 'learning_rate': 0.23868069982391443, 'subsample': 0.9991418412657574, 'colsample_bytree': 0.7227074646422306, 'reg_alpha': 5.200897628085659, 'reg_lambda': 2.2851581388482525}. Best is trial 21 with value: 21.466686159651655.\n",
      "[I 2025-07-09 15:02:33,620] Trial 70 finished with value: 23.067652321416464 and parameters: {'n_estimators': 933, 'max_depth': 4, 'learning_rate': 0.19964318880126142, 'subsample': 0.7251430948248357, 'colsample_bytree': 0.7728145166186107, 'reg_alpha': 3.614115855443282, 'reg_lambda': 1.9068741347377824}. Best is trial 21 with value: 21.466686159651655.\n",
      "[I 2025-07-09 15:02:33,948] Trial 71 finished with value: 22.129449280510016 and parameters: {'n_estimators': 915, 'max_depth': 3, 'learning_rate': 0.15723146179273947, 'subsample': 0.9848650001263335, 'colsample_bytree': 0.7893006263679317, 'reg_alpha': 5.794498751152829, 'reg_lambda': 3.421878575491325}. Best is trial 21 with value: 21.466686159651655.\n",
      "[I 2025-07-09 15:02:34,278] Trial 72 finished with value: 22.41405808955524 and parameters: {'n_estimators': 902, 'max_depth': 3, 'learning_rate': 0.15458761783029462, 'subsample': 0.9826143278168136, 'colsample_bytree': 0.7822255292729403, 'reg_alpha': 5.82212711371203, 'reg_lambda': 3.2256815675384165}. Best is trial 21 with value: 21.466686159651655.\n",
      "[I 2025-07-09 15:02:34,473] Trial 73 finished with value: 23.93394624782678 and parameters: {'n_estimators': 392, 'max_depth': 3, 'learning_rate': 0.2723214136553784, 'subsample': 0.9510734515490143, 'colsample_bytree': 0.7965140840702778, 'reg_alpha': 5.369280028744825, 'reg_lambda': 3.484759154962482}. Best is trial 21 with value: 21.466686159651655.\n",
      "[I 2025-07-09 15:02:35,077] Trial 74 finished with value: 24.55810020393262 and parameters: {'n_estimators': 972, 'max_depth': 4, 'learning_rate': 0.2402336379131581, 'subsample': 0.9679480139439031, 'colsample_bytree': 0.7471562304208116, 'reg_alpha': 6.204653004622106, 'reg_lambda': 2.437446799136843}. Best is trial 21 with value: 21.466686159651655.\n",
      "[I 2025-07-09 15:02:35,445] Trial 75 finished with value: 22.45141412900772 and parameters: {'n_estimators': 927, 'max_depth': 3, 'learning_rate': 0.18998799250104062, 'subsample': 0.985405065333039, 'colsample_bytree': 0.7327916097395811, 'reg_alpha': 4.802457050562723, 'reg_lambda': 3.028809480312894}. Best is trial 21 with value: 21.466686159651655.\n",
      "[I 2025-07-09 15:02:35,849] Trial 76 finished with value: 23.26237751459706 and parameters: {'n_estimators': 832, 'max_depth': 4, 'learning_rate': 0.13121259201666655, 'subsample': 0.999910158975263, 'colsample_bytree': 0.7726020951944188, 'reg_alpha': 5.0977408468578345, 'reg_lambda': 2.6818228954533327}. Best is trial 21 with value: 21.466686159651655.\n",
      "[I 2025-07-09 15:02:36,271] Trial 77 finished with value: 22.182310484554613 and parameters: {'n_estimators': 867, 'max_depth': 4, 'learning_rate': 0.17052226772794815, 'subsample': 0.9454294123732992, 'colsample_bytree': 0.7034512482728625, 'reg_alpha': 5.557687795139774, 'reg_lambda': 3.823246295352316}. Best is trial 21 with value: 21.466686159651655.\n",
      "[I 2025-07-09 15:02:37,057] Trial 78 finished with value: 22.92721023334348 and parameters: {'n_estimators': 868, 'max_depth': 3, 'learning_rate': 0.1513537270715896, 'subsample': 0.9445621016241831, 'colsample_bytree': 0.7052935577011021, 'reg_alpha': 5.719622835474533, 'reg_lambda': 3.864474500242194}. Best is trial 21 with value: 21.466686159651655.\n",
      "[I 2025-07-09 15:02:37,786] Trial 79 finished with value: 27.32175787995362 and parameters: {'n_estimators': 949, 'max_depth': 6, 'learning_rate': 0.16899313320493303, 'subsample': 0.9584858949841657, 'colsample_bytree': 0.7259108094889835, 'reg_alpha': 5.504096753670263, 'reg_lambda': 3.613049513335111}. Best is trial 21 with value: 21.466686159651655.\n",
      "[I 2025-07-09 15:02:38,049] Trial 80 finished with value: 23.626713012425675 and parameters: {'n_estimators': 767, 'max_depth': 3, 'learning_rate': 0.14310725054785373, 'subsample': 0.9838104659518021, 'colsample_bytree': 0.6788895173344184, 'reg_alpha': 5.9670891897413485, 'reg_lambda': 3.2177389095510516}. Best is trial 21 with value: 21.466686159651655.\n",
      "[I 2025-07-09 15:02:38,399] Trial 81 finished with value: 22.331297884798563 and parameters: {'n_estimators': 911, 'max_depth': 4, 'learning_rate': 0.21652278374524322, 'subsample': 0.8967422289278525, 'colsample_bytree': 0.6989847839650731, 'reg_alpha': 6.566108547164968, 'reg_lambda': 3.5463400043854034}. Best is trial 21 with value: 21.466686159651655.\n",
      "[I 2025-07-09 15:02:38,794] Trial 82 finished with value: 22.846681419318667 and parameters: {'n_estimators': 912, 'max_depth': 4, 'learning_rate': 0.2281244695885072, 'subsample': 0.9683976233301965, 'colsample_bytree': 0.70338873529767, 'reg_alpha': 6.444221079070449, 'reg_lambda': 3.9686460686788436}. Best is trial 21 with value: 21.466686159651655.\n",
      "[I 2025-07-09 15:02:39,356] Trial 83 finished with value: 23.523199328763784 and parameters: {'n_estimators': 977, 'max_depth': 4, 'learning_rate': 0.21435781259075617, 'subsample': 0.9443385607728301, 'colsample_bytree': 0.7014664932299242, 'reg_alpha': 6.096386400583507, 'reg_lambda': 3.5282129032862315}. Best is trial 21 with value: 21.466686159651655.\n",
      "[I 2025-07-09 15:02:40,256] Trial 84 finished with value: 29.263547634342487 and parameters: {'n_estimators': 884, 'max_depth': 10, 'learning_rate': 0.17646516565327677, 'subsample': 0.9196594528101165, 'colsample_bytree': 0.7460624638191653, 'reg_alpha': 6.858385799657478, 'reg_lambda': 4.1394369327343234}. Best is trial 21 with value: 21.466686159651655.\n",
      "[I 2025-07-09 15:02:40,656] Trial 85 finished with value: 23.853511088657907 and parameters: {'n_estimators': 854, 'max_depth': 5, 'learning_rate': 0.19745177145396078, 'subsample': 0.9884946892508057, 'colsample_bytree': 0.7263441703736674, 'reg_alpha': 5.232107889046503, 'reg_lambda': 3.3349406831400827}. Best is trial 21 with value: 21.466686159651655.\n",
      "[I 2025-07-09 15:02:40,961] Trial 86 finished with value: 24.024828024988448 and parameters: {'n_estimators': 941, 'max_depth': 3, 'learning_rate': 0.2717336392288505, 'subsample': 0.9577575092507975, 'colsample_bytree': 0.6541004342988541, 'reg_alpha': 5.694953787755088, 'reg_lambda': 3.821082039320988}. Best is trial 21 with value: 21.466686159651655.\n",
      "[I 2025-07-09 15:02:41,294] Trial 87 finished with value: 23.716087616123367 and parameters: {'n_estimators': 912, 'max_depth': 3, 'learning_rate': 0.24747480932968566, 'subsample': 0.9745815280630091, 'colsample_bytree': 0.6919511664671915, 'reg_alpha': 4.656322297668019, 'reg_lambda': 2.877244325797464}. Best is trial 21 with value: 21.466686159651655.\n",
      "[I 2025-07-09 15:02:41,835] Trial 88 finished with value: 23.445710535720817 and parameters: {'n_estimators': 975, 'max_depth': 4, 'learning_rate': 0.280632438558425, 'subsample': 0.9393905472052314, 'colsample_bytree': 0.7170140040799045, 'reg_alpha': 4.993750986643917, 'reg_lambda': 3.6812849369123057}. Best is trial 21 with value: 21.466686159651655.\n",
      "[I 2025-07-09 15:02:42,101] Trial 89 finished with value: 23.133220306862235 and parameters: {'n_estimators': 716, 'max_depth': 3, 'learning_rate': 0.10792034640761118, 'subsample': 0.9883660684991061, 'colsample_bytree': 0.6593539583463691, 'reg_alpha': 5.88353370755277, 'reg_lambda': 3.1284505297964285}. Best is trial 21 with value: 21.466686159651655.\n",
      "[I 2025-07-09 15:02:42,208] Trial 90 finished with value: 27.061709354796164 and parameters: {'n_estimators': 127, 'max_depth': 4, 'learning_rate': 0.1655968715446797, 'subsample': 0.9277162146922174, 'colsample_bytree': 0.7380084661249652, 'reg_alpha': 5.486026987668138, 'reg_lambda': 2.624105095022057}. Best is trial 21 with value: 21.466686159651655.\n",
      "[I 2025-07-09 15:02:42,721] Trial 91 finished with value: 24.97260104372557 and parameters: {'n_estimators': 886, 'max_depth': 5, 'learning_rate': 0.22191032334465227, 'subsample': 0.9725919906408229, 'colsample_bytree': 0.7682479556888421, 'reg_alpha': 4.157885979741665, 'reg_lambda': 3.4493281887954574}. Best is trial 21 with value: 21.466686159651655.\n",
      "[I 2025-07-09 15:02:42,991] Trial 92 finished with value: 24.19341855189411 and parameters: {'n_estimators': 817, 'max_depth': 3, 'learning_rate': 0.28105091522806297, 'subsample': 0.9093153669493167, 'colsample_bytree': 0.7557556456296153, 'reg_alpha': 6.56899620489119, 'reg_lambda': 2.319748622813857}. Best is trial 21 with value: 21.466686159651655.\n",
      "[I 2025-07-09 15:02:43,317] Trial 93 finished with value: 23.55762180371909 and parameters: {'n_estimators': 946, 'max_depth': 3, 'learning_rate': 0.2530500404912339, 'subsample': 0.9566143896401733, 'colsample_bytree': 0.7919548657396013, 'reg_alpha': 6.128560086316291, 'reg_lambda': 2.91983417045558}. Best is trial 21 with value: 21.466686159651655.\n",
      "[I 2025-07-09 15:02:43,868] Trial 94 finished with value: 23.543068941198595 and parameters: {'n_estimators': 922, 'max_depth': 4, 'learning_rate': 0.20341700634449134, 'subsample': 0.8970353923316107, 'colsample_bytree': 0.7487638056337599, 'reg_alpha': 4.533829351016744, 'reg_lambda': 3.942334020301672}. Best is trial 21 with value: 21.466686159651655.\n",
      "[I 2025-07-09 15:02:44,189] Trial 95 finished with value: 23.86568470123944 and parameters: {'n_estimators': 846, 'max_depth': 4, 'learning_rate': 0.2981438700454119, 'subsample': 0.9917965565841101, 'colsample_bytree': 0.8060986379480677, 'reg_alpha': 6.244586873642321, 'reg_lambda': 3.2864985581483266}. Best is trial 21 with value: 21.466686159651655.\n",
      "[I 2025-07-09 15:02:44,479] Trial 96 finished with value: 24.039255983816798 and parameters: {'n_estimators': 901, 'max_depth': 3, 'learning_rate': 0.22745652691023172, 'subsample': 0.941214677196424, 'colsample_bytree': 0.5776306677723261, 'reg_alpha': 4.934383293655761, 'reg_lambda': 4.21799723707761}. Best is trial 21 with value: 21.466686159651655.\n",
      "[I 2025-07-09 15:02:44,803] Trial 97 finished with value: 24.10503875435174 and parameters: {'n_estimators': 792, 'max_depth': 4, 'learning_rate': 0.2531936867380431, 'subsample': 0.9623150560237437, 'colsample_bytree': 0.5930591884469634, 'reg_alpha': 5.308300435950948, 'reg_lambda': 3.616350757031158}. Best is trial 21 with value: 21.466686159651655.\n",
      "[I 2025-07-09 15:02:45,003] Trial 98 finished with value: 25.110619246785937 and parameters: {'n_estimators': 607, 'max_depth': 3, 'learning_rate': 0.1892344751579968, 'subsample': 0.893145604690194, 'colsample_bytree': 0.696435005940761, 'reg_alpha': 5.73553852460589, 'reg_lambda': 3.0405496647957357}. Best is trial 21 with value: 21.466686159651655.\n",
      "[I 2025-07-09 15:02:45,553] Trial 99 finished with value: 25.628729720216597 and parameters: {'n_estimators': 958, 'max_depth': 5, 'learning_rate': 0.2819744079385923, 'subsample': 0.9752678337443469, 'colsample_bytree': 0.6786192663954013, 'reg_alpha': 6.667696887698849, 'reg_lambda': 2.720909043717735}. Best is trial 21 with value: 21.466686159651655.\n"
     ]
    }
   ],
   "execution_count": 183
  },
  {
   "metadata": {
    "ExecuteTime": {
     "end_time": "2025-07-09T12:03:05.112639Z",
     "start_time": "2025-07-09T12:03:05.098702Z"
    }
   },
   "cell_type": "code",
   "source": [
    "print(\"✅ Best trial:\")\n",
    "print(\"  MAE:\", study.best_value)\n",
    "print(\"  Params:\", study.best_params)"
   ],
   "id": "a93e2ac6cbf51bd5",
   "outputs": [
    {
     "name": "stdout",
     "output_type": "stream",
     "text": [
      "✅ Best trial:\n",
      "  MAE: 21.466686159651655\n",
      "  Params: {'n_estimators': 982, 'max_depth': 3, 'learning_rate': 0.27208365859982553, 'subsample': 0.97627189343494, 'colsample_bytree': 0.5718101476938309, 'reg_alpha': 5.89216838978434, 'reg_lambda': 3.5049056847307365}\n"
     ]
    }
   ],
   "execution_count": 184
  },
  {
   "metadata": {
    "ExecuteTime": {
     "end_time": "2025-07-09T10:49:07.580557Z",
     "start_time": "2025-07-09T10:49:07.575845Z"
    }
   },
   "cell_type": "code",
   "source": "import xgboost as xgb",
   "id": "89280dfbad00b7b2",
   "outputs": [],
   "execution_count": 149
  },
  {
   "metadata": {
    "ExecuteTime": {
     "end_time": "2025-07-09T12:04:20.926445Z",
     "start_time": "2025-07-09T12:04:20.918859Z"
    }
   },
   "cell_type": "code",
   "source": [
    "model = xgb.XGBRegressor(n_estimators=946, max_depth=3, learning_rate=0.09811568044385376, subsample=0.9875970710313593,\n",
    "                         colsample_bytree=0.8580298658924786, reg_alpha=4.698462536406095, reg_lambda=2.541832164878369\n",
    "                         )"
   ],
   "id": "cbb7b126d24b35ae",
   "outputs": [],
   "execution_count": 187
  },
  {
   "metadata": {
    "ExecuteTime": {
     "end_time": "2025-07-09T12:05:45.662552Z",
     "start_time": "2025-07-09T12:05:44.660077Z"
    }
   },
   "cell_type": "code",
   "source": [
    "from xgboost import XGBRegressor\n",
    "from sklearn.model_selection import train_test_split\n",
    "from sklearn.metrics import mean_absolute_error, r2_score\n",
    "\n",
    "X = df_seq.drop(columns='q')\n",
    "y = df_seq['q']\n",
    "\n",
    "X_train, X_test, y_train, y_test = train_test_split(X, y, test_size=0.2, random_state=42)\n",
    "\n",
    "model.fit(X_train, y_train)\n",
    "\n",
    "y_pred = model.predict(X_test)\n",
    "mae = mean_absolute_error(y_test, y_pred)\n",
    "\n",
    "r2 = r2_score(y_test, y_pred)  # ✅ compute R²\n",
    "\n",
    "print(f\"MAE: {mae:.2f} mg/kg\")\n",
    "print(f\"R²: {r2:.3f}\")"
   ],
   "id": "1a7e93149d37eef3",
   "outputs": [
    {
     "name": "stdout",
     "output_type": "stream",
     "text": [
      "MAE: 22.38 mg/kg\n",
      "R²: 0.956\n"
     ]
    }
   ],
   "execution_count": 191
  },
  {
   "metadata": {
    "ExecuteTime": {
     "end_time": "2025-07-09T10:57:03.329691Z",
     "start_time": "2025-07-09T10:57:03.088334Z"
    }
   },
   "cell_type": "code",
   "source": [
    "from xgboost import XGBRegressor\n",
    "from sklearn.model_selection import train_test_split\n",
    "from sklearn.metrics import mean_absolute_error, r2_score\n",
    "\n",
    "model.fit(xs, y)\n",
    "\n",
    "y_pred = model.predict(valid_xs)\n",
    "mae = mean_absolute_error(valid_y, y_pred)\n",
    "\n",
    "r2 = r2_score(valid_y, y_pred)  # ✅ compute R²\n",
    "\n",
    "print(f\"MAE: {mae:.2f} mg/kg\")\n",
    "print(f\"R²: {r2:.3f}\")"
   ],
   "id": "1794a4a3c2f260ab",
   "outputs": [
    {
     "name": "stdout",
     "output_type": "stream",
     "text": [
      "MAE: 22.47 mg/kg\n",
      "R²: 0.979\n"
     ]
    }
   ],
   "execution_count": 171
  },
  {
   "metadata": {
    "ExecuteTime": {
     "end_time": "2025-07-09T12:06:50.303812Z",
     "start_time": "2025-07-09T12:06:48.951143Z"
    }
   },
   "cell_type": "code",
   "source": [
    "import shap\n",
    "\n",
    "# Create explainer from the trained model\n",
    "explainer = shap.Explainer(model, X_train)\n",
    "\n",
    "# Compute SHAP values on test set\n",
    "shap_values = explainer(X_test)"
   ],
   "id": "6408eabcc916747c",
   "outputs": [
    {
     "name": "stderr",
     "output_type": "stream",
     "text": [
      "[15:06:48] WARNING: C:\\buildkite-agent\\builds\\buildkite-windows-cpu-autoscaling-group-i-0b3782d1791676daf-1\\xgboost\\xgboost-ci-windows\\src\\c_api\\c_api.cc:1240: Saving into deprecated binary model format, please consider using `json` or `ubj`. Model format will default to JSON in XGBoost 2.2 if not specified.\n",
      "[15:06:49] WARNING: C:\\buildkite-agent\\builds\\buildkite-windows-cpu-autoscaling-group-i-0b3782d1791676daf-1\\xgboost\\xgboost-ci-windows\\src\\c_api\\c_api.cc:1240: Saving into deprecated binary model format, please consider using `json` or `ubj`. Model format will default to JSON in XGBoost 2.2 if not specified.\n"
     ]
    }
   ],
   "execution_count": 195
  },
  {
   "metadata": {
    "ExecuteTime": {
     "end_time": "2025-07-09T12:07:18.764355Z",
     "start_time": "2025-07-09T12:07:18.610764Z"
    }
   },
   "cell_type": "code",
   "source": "shap.plots.beeswarm(shap_values, max_display=30)",
   "id": "22f3e0ebbac03212",
   "outputs": [
    {
     "data": {
      "text/plain": [
       "<Figure size 800x550 with 2 Axes>"
      ],
      "image/png": "[encoded data removed]"
     },
     "metadata": {},
     "output_type": "display_data"
    }
   ],
   "execution_count": 196
  },
  {
   "metadata": {
    "ExecuteTime": {
     "end_time": "2025-07-09T12:07:40.191705Z",
     "start_time": "2025-07-09T12:07:35.684718Z"
    }
   },
   "cell_type": "code",
   "source": "shap_values = explainer.shap_values(X_train)",
   "id": "6734ef333f421a53",
   "outputs": [],
   "execution_count": 197
  },
  {
   "metadata": {
    "ExecuteTime": {
     "end_time": "2025-07-09T12:07:44.042338Z",
     "start_time": "2025-07-09T12:07:43.917030Z"
    }
   },
   "cell_type": "code",
   "source": "shap.dependence_plot('P',shap_values,X_train)",
   "id": "125dad5fc937bbe6",
   "outputs": [
    {
     "data": {
      "text/plain": [
       "<Figure size 750x500 with 2 Axes>"
      ],
      "image/png": "[encoded data removed]"
     },
     "metadata": {},
     "output_type": "display_data"
    }
   ],
   "execution_count": 198
  },
  {
   "metadata": {
    "ExecuteTime": {
     "end_time": "2025-07-09T12:07:53.621681Z",
     "start_time": "2025-07-09T12:07:53.126773Z"
    }
   },
   "cell_type": "code",
   "source": "shap.dependence_plot('Mn',shap_values,X_train)",
   "id": "fc6526ee01b53c71",
   "outputs": [
    {
     "data": {
      "text/plain": [
       "<Figure size 750x500 with 2 Axes>"
      ],
      "image/png": "[encoded data removed]"
     },
     "metadata": {},
     "output_type": "display_data"
    }
   ],
   "execution_count": 199
  },
  {
   "metadata": {
    "ExecuteTime": {
     "end_time": "2025-07-09T12:08:01.748375Z",
     "start_time": "2025-07-09T12:08:01.567568Z"
    }
   },
   "cell_type": "code",
   "source": "shap.dependence_plot('S',shap_values,X_train)",
   "id": "44184478d1f061e4",
   "outputs": [
    {
     "data": {
      "text/plain": [
       "<Figure size 750x500 with 2 Axes>"
      ],
      "image/png": "[encoded data removed]"
     },
     "metadata": {},
     "output_type": "display_data"
    }
   ],
   "execution_count": 200
  },
  {
   "metadata": {
    "ExecuteTime": {
     "end_time": "2025-07-09T12:08:12.440491Z",
     "start_time": "2025-07-09T12:08:12.265114Z"
    }
   },
   "cell_type": "code",
   "source": "shap.dependence_plot('Mg',shap_values,X_train)",
   "id": "cbaeea76fbe67ddb",
   "outputs": [
    {
     "data": {
      "text/plain": [
       "<Figure size 750x500 with 2 Axes>"
      ],
      "image/png": "[encoded data removed]"
     },
     "metadata": {},
     "output_type": "display_data"
    }
   ],
   "execution_count": 201
  },
  {
   "metadata": {},
   "cell_type": "code",
   "outputs": [],
   "execution_count": null,
   "source": "",
   "id": "b319230cf3540080"
  }
 ],
 "metadata": {
  "kernelspec": {
   "display_name": "Python 3",
   "language": "python",
   "name": "python3"
  },
  "language_info": {
   "codemirror_mode": {
    "name": "ipython",
    "version": 2
   },
   "file_extension": ".py",
   "mimetype": "text/x-python",
   "name": "python",
   "nbconvert_exporter": "python",
   "pygments_lexer": "ipython2",
   "version": "2.7.6"
  }
 },
 "nbformat": 4,
 "nbformat_minor": 5
}
