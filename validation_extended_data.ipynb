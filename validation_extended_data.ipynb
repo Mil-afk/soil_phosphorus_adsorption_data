{
 "cells": [
  {
   "cell_type": "code",
   "id": "initial_id",
   "metadata": {
    "collapsed": true,
    "ExecuteTime": {
     "end_time": "2025-07-10T08:38:51.147311Z",
     "start_time": "2025-07-10T08:38:50.989597Z"
    }
   },
   "source": [
    "import xgboost as xgb\n",
    "import numpy as np\n",
    "import pandas as pd\n",
    "import matplotlib.pyplot as plt\n",
    "from scipy.optimize import curve_fit\n",
    "from sklearn.model_selection import train_test_split"
   ],
   "outputs": [],
   "execution_count": 1
  },
  {
   "metadata": {
    "ExecuteTime": {
     "end_time": "2025-07-10T09:09:25.955140Z",
     "start_time": "2025-07-10T09:09:22.632524Z"
    }
   },
   "cell_type": "code",
   "source": [
    "url = \"https://zenodo.org/record/15854383/files/MEGADATA.xlsx\"\n",
    "df = pd.read_excel(url)\n",
    "\n",
    "df.head()"
   ],
   "id": "98e063ebab75f226",
   "outputs": [
    {
     "data": {
      "text/plain": [
       "                  CROP   Α.Μ.Δ ΒΑΘΟΣ Soil texture     S    C       Si   \\\n",
       "0  Olive non irrigated  251001   NaN            L  44.0    22.0   34.0   \n",
       "1  Olive non irrigated  251002   NaN           SL  54.0    18.0   28.0   \n",
       "2  Olive non irrigated  251003   NaN           CL  30.0    30.0   40.0   \n",
       "3  Olive non irrigated  251004   NaN           SL  68.0    16.0   16.0   \n",
       "4      Olive irrigated  251005   NaN            L  48.0    22.0   30.0   \n",
       "\n",
       "       pH       Ec  O.O.   ...  NO3-N    P        K     Mg      Ca    Fe   \\\n",
       "0        7   0.479   3.57  ...  17.92  44.85  420.0  1001.0   1008  53.92   \n",
       "1     5.15   0.722   3.08  ...  31.44  46.05  485.0   263.0   1360  67.98   \n",
       "2     7.31   0.557   2.57  ...     14   3.94  243.0   656.0  >2000   5.62   \n",
       "3     5.64   0.747   2.99  ...  20.83  15.75   99.0   157.0    672  45.03   \n",
       "4     7.11   0.559   3.13  ...   9.07  17.13  210.0   547.0  >2000   4.61   \n",
       "\n",
       "     Zn     Mn    Cu      B  \n",
       "0  5.96  10.51  63.12  1.24  \n",
       "1  1.75  47.42  14.78   1.5  \n",
       "2  0.36   4.48   3.22  0.35  \n",
       "3  7.32  12.07   7.98  1.69  \n",
       "4  2.06   6.72  68.03  0.58  \n",
       "\n",
       "[5 rows x 22 columns]"
      ],
      "text/html": [
       "<div>\n",
       "<style scoped>\n",
       "    .dataframe tbody tr th:only-of-type {\n",
       "        vertical-align: middle;\n",
       "    }\n",
       "\n",
       "    .dataframe tbody tr th {\n",
       "        vertical-align: top;\n",
       "    }\n",
       "\n",
       "    .dataframe thead th {\n",
       "        text-align: right;\n",
       "    }\n",
       "</style>\n",
       "<table border=\"1\" class=\"dataframe\">\n",
       "  <thead>\n",
       "    <tr style=\"text-align: right;\">\n",
       "      <th></th>\n",
       "      <th>CROP</th>\n",
       "      <th>Α.Μ.Δ</th>\n",
       "      <th>ΒΑΘΟΣ</th>\n",
       "      <th>Soil texture</th>\n",
       "      <th>S</th>\n",
       "      <th>C</th>\n",
       "      <th>Si</th>\n",
       "      <th>pH</th>\n",
       "      <th>Ec</th>\n",
       "      <th>O.O.</th>\n",
       "      <th>...</th>\n",
       "      <th>NO3-N</th>\n",
       "      <th>P</th>\n",
       "      <th>K</th>\n",
       "      <th>Mg</th>\n",
       "      <th>Ca</th>\n",
       "      <th>Fe</th>\n",
       "      <th>Zn</th>\n",
       "      <th>Mn</th>\n",
       "      <th>Cu</th>\n",
       "      <th>B</th>\n",
       "    </tr>\n",
       "  </thead>\n",
       "  <tbody>\n",
       "    <tr>\n",
       "      <th>0</th>\n",
       "      <td>Olive non irrigated</td>\n",
       "      <td>251001</td>\n",
       "      <td>NaN</td>\n",
       "      <td>L</td>\n",
       "      <td>44.0</td>\n",
       "      <td>22.0</td>\n",
       "      <td>34.0</td>\n",
       "      <td>7</td>\n",
       "      <td>0.479</td>\n",
       "      <td>3.57</td>\n",
       "      <td>...</td>\n",
       "      <td>17.92</td>\n",
       "      <td>44.85</td>\n",
       "      <td>420.0</td>\n",
       "      <td>1001.0</td>\n",
       "      <td>1008</td>\n",
       "      <td>53.92</td>\n",
       "      <td>5.96</td>\n",
       "      <td>10.51</td>\n",
       "      <td>63.12</td>\n",
       "      <td>1.24</td>\n",
       "    </tr>\n",
       "    <tr>\n",
       "      <th>1</th>\n",
       "      <td>Olive non irrigated</td>\n",
       "      <td>251002</td>\n",
       "      <td>NaN</td>\n",
       "      <td>SL</td>\n",
       "      <td>54.0</td>\n",
       "      <td>18.0</td>\n",
       "      <td>28.0</td>\n",
       "      <td>5.15</td>\n",
       "      <td>0.722</td>\n",
       "      <td>3.08</td>\n",
       "      <td>...</td>\n",
       "      <td>31.44</td>\n",
       "      <td>46.05</td>\n",
       "      <td>485.0</td>\n",
       "      <td>263.0</td>\n",
       "      <td>1360</td>\n",
       "      <td>67.98</td>\n",
       "      <td>1.75</td>\n",
       "      <td>47.42</td>\n",
       "      <td>14.78</td>\n",
       "      <td>1.5</td>\n",
       "    </tr>\n",
       "    <tr>\n",
       "      <th>2</th>\n",
       "      <td>Olive non irrigated</td>\n",
       "      <td>251003</td>\n",
       "      <td>NaN</td>\n",
       "      <td>CL</td>\n",
       "      <td>30.0</td>\n",
       "      <td>30.0</td>\n",
       "      <td>40.0</td>\n",
       "      <td>7.31</td>\n",
       "      <td>0.557</td>\n",
       "      <td>2.57</td>\n",
       "      <td>...</td>\n",
       "      <td>14</td>\n",
       "      <td>3.94</td>\n",
       "      <td>243.0</td>\n",
       "      <td>656.0</td>\n",
       "      <td>&gt;2000</td>\n",
       "      <td>5.62</td>\n",
       "      <td>0.36</td>\n",
       "      <td>4.48</td>\n",
       "      <td>3.22</td>\n",
       "      <td>0.35</td>\n",
       "    </tr>\n",
       "    <tr>\n",
       "      <th>3</th>\n",
       "      <td>Olive non irrigated</td>\n",
       "      <td>251004</td>\n",
       "      <td>NaN</td>\n",
       "      <td>SL</td>\n",
       "      <td>68.0</td>\n",
       "      <td>16.0</td>\n",
       "      <td>16.0</td>\n",
       "      <td>5.64</td>\n",
       "      <td>0.747</td>\n",
       "      <td>2.99</td>\n",
       "      <td>...</td>\n",
       "      <td>20.83</td>\n",
       "      <td>15.75</td>\n",
       "      <td>99.0</td>\n",
       "      <td>157.0</td>\n",
       "      <td>672</td>\n",
       "      <td>45.03</td>\n",
       "      <td>7.32</td>\n",
       "      <td>12.07</td>\n",
       "      <td>7.98</td>\n",
       "      <td>1.69</td>\n",
       "    </tr>\n",
       "    <tr>\n",
       "      <th>4</th>\n",
       "      <td>Olive irrigated</td>\n",
       "      <td>251005</td>\n",
       "      <td>NaN</td>\n",
       "      <td>L</td>\n",
       "      <td>48.0</td>\n",
       "      <td>22.0</td>\n",
       "      <td>30.0</td>\n",
       "      <td>7.11</td>\n",
       "      <td>0.559</td>\n",
       "      <td>3.13</td>\n",
       "      <td>...</td>\n",
       "      <td>9.07</td>\n",
       "      <td>17.13</td>\n",
       "      <td>210.0</td>\n",
       "      <td>547.0</td>\n",
       "      <td>&gt;2000</td>\n",
       "      <td>4.61</td>\n",
       "      <td>2.06</td>\n",
       "      <td>6.72</td>\n",
       "      <td>68.03</td>\n",
       "      <td>0.58</td>\n",
       "    </tr>\n",
       "  </tbody>\n",
       "</table>\n",
       "<p>5 rows × 22 columns</p>\n",
       "</div>"
      ]
     },
     "execution_count": 3,
     "metadata": {},
     "output_type": "execute_result"
    }
   ],
   "execution_count": 3
  },
  {
   "metadata": {
    "ExecuteTime": {
     "end_time": "2025-07-10T09:40:01.934484Z",
     "start_time": "2025-07-10T09:40:01.918617Z"
    }
   },
   "cell_type": "code",
   "source": [
    "def classify_soil(texture):\n",
    "    clayey = [\"C\", \"CL\", \"SiC\", \"SiCL\", \"SC\"]\n",
    "    loamy  = [\"L\", \"SiL\", \"SCL\"]\n",
    "    sandy  = [\"S\", \"LS\", \"SL\"]\n",
    "\n",
    "    if texture in clayey:\n",
    "        return \"Clayey\"\n",
    "    elif texture in loamy:\n",
    "        return \"Loamy\"\n",
    "    elif texture in sandy:\n",
    "        return \"Sandy\"\n",
    "    else:\n",
    "        return \"Unknown\"  # Or np.nan if you prefer\n",
    "\n",
    "# Apply the function to create a new column\n",
    "df['Soil Classification'] = df['Soil texture'].apply(classify_soil)"
   ],
   "id": "11adb0c03830f6a8",
   "outputs": [],
   "execution_count": 4
  },
  {
   "metadata": {
    "ExecuteTime": {
     "end_time": "2025-07-10T09:40:13.748343Z",
     "start_time": "2025-07-10T09:40:13.732582Z"
    }
   },
   "cell_type": "code",
   "source": [
    "# Count of NaN values in each column\n",
    "nan_summary = df.isna().sum()\n",
    "\n",
    "# Filter only columns with at least one NaN\n",
    "nan_columns = nan_summary[nan_summary > 0]\n",
    "\n",
    "print(\"Columns with missing values:\")\n",
    "print(nan_columns)"
   ],
   "id": "2d4841a88675b824",
   "outputs": [
    {
     "name": "stdout",
     "output_type": "stream",
     "text": [
      "Columns with missing values:\n",
      "CROP            1276\n",
      "Α.Μ.Δ           1301\n",
      "ΒΑΘΟΣ           9459\n",
      "Soil texture       3\n",
      "     pH            9\n",
      "     Ec           10\n",
      " O.O.             26\n",
      " CaCO3             2\n",
      "NO3               35\n",
      "NO3-N             31\n",
      " P                31\n",
      "  K               31\n",
      "Mg                31\n",
      "Ca                31\n",
      "  Fe              44\n",
      "Zn                44\n",
      "Mn                44\n",
      "   Cu             44\n",
      "B                 33\n",
      "dtype: int64\n"
     ]
    }
   ],
   "execution_count": 5
  },
  {
   "metadata": {
    "ExecuteTime": {
     "end_time": "2025-07-10T09:40:29.231551Z",
     "start_time": "2025-07-10T09:40:29.215870Z"
    }
   },
   "cell_type": "code",
   "source": "df.columns = df.columns.str.strip()",
   "id": "aaaba87c9f7e0f67",
   "outputs": [],
   "execution_count": 6
  },
  {
   "metadata": {
    "ExecuteTime": {
     "end_time": "2025-07-10T09:40:45.391906Z",
     "start_time": "2025-07-10T09:40:45.375900Z"
    }
   },
   "cell_type": "code",
   "source": [
    "# Define the list of required columns (after stripping spaces)\n",
    "required_columns = [\n",
    "    'Soil texture', 'S', 'C', 'Si', 'pH', 'Ec', 'O.O.', 'CaCO3',\n",
    "    'NO3', 'NO3-N', 'P', 'K', 'Mg', 'Ca', 'Fe', 'Zn', 'Mn', 'Cu', 'B'\n",
    "]\n",
    "\n",
    "# Drop rows with NaNs in any of the required columns\n",
    "df_cleaned = df.dropna(subset=required_columns)"
   ],
   "id": "8a9edf26a8c8d40b",
   "outputs": [],
   "execution_count": 7
  },
  {
   "metadata": {
    "ExecuteTime": {
     "end_time": "2025-07-10T09:40:55.818136Z",
     "start_time": "2025-07-10T09:40:55.802458Z"
    }
   },
   "cell_type": "code",
   "source": "pd.options.mode.chained_assignment = None  # default='warn'",
   "id": "36ffb7e2f775dc7c",
   "outputs": [],
   "execution_count": 8
  },
  {
   "metadata": {
    "ExecuteTime": {
     "end_time": "2025-07-10T09:41:12.252351Z",
     "start_time": "2025-07-10T09:41:12.157555Z"
    }
   },
   "cell_type": "code",
   "source": [
    "for col in df_cleaned.select_dtypes(include='object').columns:\n",
    "    df_cleaned[col] = df_cleaned[col].astype(str).str.replace(',', '.', regex=False)\n",
    "    df_cleaned[col] = pd.to_numeric(df_cleaned[col], errors='ignore')  # Keeps invalid values as strings"
   ],
   "id": "aefbbfb4eed9f2d2",
   "outputs": [],
   "execution_count": 9
  },
  {
   "metadata": {
    "ExecuteTime": {
     "end_time": "2025-07-10T09:41:43.157925Z",
     "start_time": "2025-07-10T09:41:43.126034Z"
    }
   },
   "cell_type": "code",
   "source": [
    "target_columns = ['S', 'C', 'Si', 'pH', 'Ec', 'O.O.', 'CaCO3',\n",
    "                  'NO3-N', 'P', 'K', 'Mg', 'Fe', 'Zn', 'Mn', 'Cu', 'B']\n",
    "\n",
    "# Convert strings to NaN, and keep numeric values\n",
    "for col in target_columns:\n",
    "    df_cleaned[col] = pd.to_numeric(df_cleaned[col], errors='coerce')"
   ],
   "id": "1ea5a0aea1022eb4",
   "outputs": [],
   "execution_count": 10
  },
  {
   "metadata": {
    "ExecuteTime": {
     "end_time": "2025-07-10T09:41:53.768508Z",
     "start_time": "2025-07-10T09:41:53.752711Z"
    }
   },
   "cell_type": "code",
   "source": [
    "# List of columns to check\n",
    "target_columns = ['S', 'C', 'Si', 'pH', 'Ec', 'O.O.', 'CaCO3',\n",
    "                  'NO3-N', 'P', 'K', 'Mg', 'Fe', 'Zn', 'Mn', 'Cu', 'B']\n",
    "\n",
    "# Count NaNs in each column\n",
    "nan_counts = df_cleaned[target_columns].isna().sum()\n",
    "\n",
    "print(\"Number of NaN values per column:\")\n",
    "print(nan_counts)"
   ],
   "id": "9c48c4fc543ced97",
   "outputs": [
    {
     "name": "stdout",
     "output_type": "stream",
     "text": [
      "Number of NaN values per column:\n",
      "S         0\n",
      "C         0\n",
      "Si        0\n",
      "pH        4\n",
      "Ec        1\n",
      "O.O.      4\n",
      "CaCO3     3\n",
      "NO3-N     0\n",
      "P         4\n",
      "K         0\n",
      "Mg        0\n",
      "Fe        1\n",
      "Zn        0\n",
      "Mn        0\n",
      "Cu        1\n",
      "B        18\n",
      "dtype: int64\n"
     ]
    }
   ],
   "execution_count": 11
  },
  {
   "metadata": {
    "ExecuteTime": {
     "end_time": "2025-07-10T09:42:03.302494Z",
     "start_time": "2025-07-10T09:42:03.286860Z"
    }
   },
   "cell_type": "code",
   "source": [
    "target_columns = ['S', 'C', 'Si', 'pH', 'Ec', 'O.O.', 'CaCO3',\n",
    "                  'NO3-N', 'P', 'K', 'Mg', 'Fe', 'Zn', 'Mn', 'Cu', 'B']\n",
    "\n",
    "# Drop rows with NaNs in those columns\n",
    "df_cleaned = df_cleaned.dropna(subset=target_columns)"
   ],
   "id": "12d234b925c2f073",
   "outputs": [],
   "execution_count": 12
  },
  {
   "metadata": {
    "ExecuteTime": {
     "end_time": "2025-07-10T09:42:13.245772Z",
     "start_time": "2025-07-10T09:42:13.229959Z"
    }
   },
   "cell_type": "code",
   "source": "df_expanded = df_cleaned.copy()",
   "id": "61b17ff6ada58158",
   "outputs": [],
   "execution_count": 13
  },
  {
   "metadata": {
    "ExecuteTime": {
     "end_time": "2025-07-10T09:42:22.113834Z",
     "start_time": "2025-07-10T09:42:22.099187Z"
    }
   },
   "cell_type": "code",
   "source": "df_expanded.rename(columns={'O.O.': 'Organic matter', 'Ec': 'EC'}, inplace=True)",
   "id": "36babbc5c342b339",
   "outputs": [],
   "execution_count": 14
  },
  {
   "metadata": {
    "ExecuteTime": {
     "end_time": "2025-07-10T09:42:30.994424Z",
     "start_time": "2025-07-10T09:42:30.979756Z"
    }
   },
   "cell_type": "code",
   "source": "X_input = df_expanded[['S', 'C', 'pH', 'EC', 'Organic matter', 'P', 'Mg', 'Mn', 'Cu']]",
   "id": "90f5d8603381062f",
   "outputs": [],
   "execution_count": 15
  },
  {
   "metadata": {
    "ExecuteTime": {
     "end_time": "2025-07-10T09:43:26.486773Z",
     "start_time": "2025-07-10T09:43:26.469568Z"
    }
   },
   "cell_type": "code",
   "source": "df_expanded.shape",
   "id": "f665f07d6d9aa197",
   "outputs": [
    {
     "data": {
      "text/plain": [
       "(10392, 23)"
      ]
     },
     "execution_count": 18,
     "metadata": {},
     "output_type": "execute_result"
    }
   ],
   "execution_count": 18
  },
  {
   "metadata": {
    "ExecuteTime": {
     "end_time": "2025-07-10T09:43:41.376266Z",
     "start_time": "2025-07-10T09:43:41.360352Z"
    }
   },
   "cell_type": "code",
   "source": [
    "nan_counts = df_expanded.isna().sum()\n",
    "print(\"NaN count per column:\")\n",
    "print(nan_counts[nan_counts > 0])  # show only columns with NaNs"
   ],
   "id": "e4bda405d3521cf8",
   "outputs": [
    {
     "name": "stdout",
     "output_type": "stream",
     "text": [
      "NaN count per column:\n",
      "Series([], dtype: int64)\n"
     ]
    }
   ],
   "execution_count": 19
  },
  {
   "metadata": {
    "ExecuteTime": {
     "end_time": "2025-07-10T09:44:43.553961Z",
     "start_time": "2025-07-10T09:44:42.541579Z"
    }
   },
   "cell_type": "code",
   "source": [
    "url = \"https://zenodo.org/record/15854383/files/soil_phosphorus_adsorption_data.xlsx\"\n",
    "df = pd.read_excel(url)\n",
    "\n",
    "df.head()"
   ],
   "id": "f2ea77236f2ae5f",
   "outputs": [
    {
     "data": {
      "text/plain": [
       "   id  code Soil Classification Soil texture   C  Si   S    pH     EC  CaCO3  \\\n",
       "0   4  1053               Loamy          SCL  24  24  52  4.54  0.336    0.0   \n",
       "1   5  1055               Loamy           SL  20  28  52  5.76  0.449    0.0   \n",
       "2   6  1057               Loamy           CL  32  24  44  4.95  0.244    0.0   \n",
       "3   7  1059               Loamy          SCL  28  24  48  4.80  0.265    0.0   \n",
       "4  51  1069               Loamy            L  18  34  48  7.48  0.397   20.8   \n",
       "\n",
       "   ...  1ppm_applied  2ppm_applied  4ppm_applied  6ppm_applied  10ppm_applied  \\\n",
       "0  ...       5.35860       10.7172       21.4344       32.1516        53.5860   \n",
       "1  ...       5.39295       10.7859       21.5718       32.3577        53.9295   \n",
       "2  ...       5.15250       10.3050       20.6100       30.9150        51.5250   \n",
       "3  ...       5.22120       10.4424       20.8848       31.3272        52.2120   \n",
       "4  ...       5.11815       10.2363       20.4726       30.7089        51.1815   \n",
       "\n",
       "   1ppm_adsorbed  2ppm_adsorbed  4ppm_adsorbed  6ppm_adsorbed  10ppm_adsorbed  \n",
       "0       5.216276      10.311822      20.682160      31.260304       52.135641  \n",
       "1       5.341016      10.336667      20.503187      30.689553       50.442041  \n",
       "2       5.058673      10.213389      20.295749      30.403460       50.937100  \n",
       "3       5.174940      10.246448      20.405650      30.795369       50.953534  \n",
       "4       4.479507       9.494015      18.376922      26.764393       39.527575  \n",
       "\n",
       "[5 rows x 31 columns]"
      ],
      "text/html": [
       "<div>\n",
       "<style scoped>\n",
       "    .dataframe tbody tr th:only-of-type {\n",
       "        vertical-align: middle;\n",
       "    }\n",
       "\n",
       "    .dataframe tbody tr th {\n",
       "        vertical-align: top;\n",
       "    }\n",
       "\n",
       "    .dataframe thead th {\n",
       "        text-align: right;\n",
       "    }\n",
       "</style>\n",
       "<table border=\"1\" class=\"dataframe\">\n",
       "  <thead>\n",
       "    <tr style=\"text-align: right;\">\n",
       "      <th></th>\n",
       "      <th>id</th>\n",
       "      <th>code</th>\n",
       "      <th>Soil Classification</th>\n",
       "      <th>Soil texture</th>\n",
       "      <th>C</th>\n",
       "      <th>Si</th>\n",
       "      <th>S</th>\n",
       "      <th>pH</th>\n",
       "      <th>EC</th>\n",
       "      <th>CaCO3</th>\n",
       "      <th>...</th>\n",
       "      <th>1ppm_applied</th>\n",
       "      <th>2ppm_applied</th>\n",
       "      <th>4ppm_applied</th>\n",
       "      <th>6ppm_applied</th>\n",
       "      <th>10ppm_applied</th>\n",
       "      <th>1ppm_adsorbed</th>\n",
       "      <th>2ppm_adsorbed</th>\n",
       "      <th>4ppm_adsorbed</th>\n",
       "      <th>6ppm_adsorbed</th>\n",
       "      <th>10ppm_adsorbed</th>\n",
       "    </tr>\n",
       "  </thead>\n",
       "  <tbody>\n",
       "    <tr>\n",
       "      <th>0</th>\n",
       "      <td>4</td>\n",
       "      <td>1053</td>\n",
       "      <td>Loamy</td>\n",
       "      <td>SCL</td>\n",
       "      <td>24</td>\n",
       "      <td>24</td>\n",
       "      <td>52</td>\n",
       "      <td>4.54</td>\n",
       "      <td>0.336</td>\n",
       "      <td>0.0</td>\n",
       "      <td>...</td>\n",
       "      <td>5.35860</td>\n",
       "      <td>10.7172</td>\n",
       "      <td>21.4344</td>\n",
       "      <td>32.1516</td>\n",
       "      <td>53.5860</td>\n",
       "      <td>5.216276</td>\n",
       "      <td>10.311822</td>\n",
       "      <td>20.682160</td>\n",
       "      <td>31.260304</td>\n",
       "      <td>52.135641</td>\n",
       "    </tr>\n",
       "    <tr>\n",
       "      <th>1</th>\n",
       "      <td>5</td>\n",
       "      <td>1055</td>\n",
       "      <td>Loamy</td>\n",
       "      <td>SL</td>\n",
       "      <td>20</td>\n",
       "      <td>28</td>\n",
       "      <td>52</td>\n",
       "      <td>5.76</td>\n",
       "      <td>0.449</td>\n",
       "      <td>0.0</td>\n",
       "      <td>...</td>\n",
       "      <td>5.39295</td>\n",
       "      <td>10.7859</td>\n",
       "      <td>21.5718</td>\n",
       "      <td>32.3577</td>\n",
       "      <td>53.9295</td>\n",
       "      <td>5.341016</td>\n",
       "      <td>10.336667</td>\n",
       "      <td>20.503187</td>\n",
       "      <td>30.689553</td>\n",
       "      <td>50.442041</td>\n",
       "    </tr>\n",
       "    <tr>\n",
       "      <th>2</th>\n",
       "      <td>6</td>\n",
       "      <td>1057</td>\n",
       "      <td>Loamy</td>\n",
       "      <td>CL</td>\n",
       "      <td>32</td>\n",
       "      <td>24</td>\n",
       "      <td>44</td>\n",
       "      <td>4.95</td>\n",
       "      <td>0.244</td>\n",
       "      <td>0.0</td>\n",
       "      <td>...</td>\n",
       "      <td>5.15250</td>\n",
       "      <td>10.3050</td>\n",
       "      <td>20.6100</td>\n",
       "      <td>30.9150</td>\n",
       "      <td>51.5250</td>\n",
       "      <td>5.058673</td>\n",
       "      <td>10.213389</td>\n",
       "      <td>20.295749</td>\n",
       "      <td>30.403460</td>\n",
       "      <td>50.937100</td>\n",
       "    </tr>\n",
       "    <tr>\n",
       "      <th>3</th>\n",
       "      <td>7</td>\n",
       "      <td>1059</td>\n",
       "      <td>Loamy</td>\n",
       "      <td>SCL</td>\n",
       "      <td>28</td>\n",
       "      <td>24</td>\n",
       "      <td>48</td>\n",
       "      <td>4.80</td>\n",
       "      <td>0.265</td>\n",
       "      <td>0.0</td>\n",
       "      <td>...</td>\n",
       "      <td>5.22120</td>\n",
       "      <td>10.4424</td>\n",
       "      <td>20.8848</td>\n",
       "      <td>31.3272</td>\n",
       "      <td>52.2120</td>\n",
       "      <td>5.174940</td>\n",
       "      <td>10.246448</td>\n",
       "      <td>20.405650</td>\n",
       "      <td>30.795369</td>\n",
       "      <td>50.953534</td>\n",
       "    </tr>\n",
       "    <tr>\n",
       "      <th>4</th>\n",
       "      <td>51</td>\n",
       "      <td>1069</td>\n",
       "      <td>Loamy</td>\n",
       "      <td>L</td>\n",
       "      <td>18</td>\n",
       "      <td>34</td>\n",
       "      <td>48</td>\n",
       "      <td>7.48</td>\n",
       "      <td>0.397</td>\n",
       "      <td>20.8</td>\n",
       "      <td>...</td>\n",
       "      <td>5.11815</td>\n",
       "      <td>10.2363</td>\n",
       "      <td>20.4726</td>\n",
       "      <td>30.7089</td>\n",
       "      <td>51.1815</td>\n",
       "      <td>4.479507</td>\n",
       "      <td>9.494015</td>\n",
       "      <td>18.376922</td>\n",
       "      <td>26.764393</td>\n",
       "      <td>39.527575</td>\n",
       "    </tr>\n",
       "  </tbody>\n",
       "</table>\n",
       "<p>5 rows × 31 columns</p>\n",
       "</div>"
      ]
     },
     "execution_count": 20,
     "metadata": {},
     "output_type": "execute_result"
    }
   ],
   "execution_count": 20
  },
  {
   "metadata": {
    "ExecuteTime": {
     "end_time": "2025-07-10T09:44:57.246289Z",
     "start_time": "2025-07-10T09:44:57.239869Z"
    }
   },
   "cell_type": "code",
   "source": [
    "#convert to kg/ha\n",
    "df['1ppm_adsorbed'] = 10 * df['1ppm_adsorbed']\n",
    "df['2ppm_adsorbed'] = 10 * df['2ppm_adsorbed']\n",
    "df['4ppm_adsorbed'] = 10 * df['4ppm_adsorbed']\n",
    "df['6ppm_adsorbed'] = 10 * df['6ppm_adsorbed']\n",
    "df['10ppm_adsorbed'] = 10 * df['10ppm_adsorbed']"
   ],
   "id": "b9ad2d4d1c944537",
   "outputs": [],
   "execution_count": 21
  },
  {
   "metadata": {
    "ExecuteTime": {
     "end_time": "2025-07-10T09:45:13.706616Z",
     "start_time": "2025-07-10T09:45:13.691202Z"
    }
   },
   "cell_type": "code",
   "source": [
    "# convert absorbed P to mg/kg of soil\n",
    "df['1ppm_adsorbed'] = (df['1ppm_adsorbed']*0.4364*1000000)/(df['ΦΕΒ']*15*10000)\n",
    "df['2ppm_adsorbed'] = (df['2ppm_adsorbed']*0.4364*1000000)/(df['ΦΕΒ']*15*10000)\n",
    "df['4ppm_adsorbed'] = (df['4ppm_adsorbed']*0.4364*1000000)/(df['ΦΕΒ']*15*10000)\n",
    "df['6ppm_adsorbed'] = (df['6ppm_adsorbed']*0.4364*1000000)/(df['ΦΕΒ']*15*10000)\n",
    "df['10ppm_adsorbed'] = (df['10ppm_adsorbed']*0.4364*1000000)/(df['ΦΕΒ']*15*10000)"
   ],
   "id": "c35f82c28ebbe4db",
   "outputs": [],
   "execution_count": 22
  },
  {
   "metadata": {
    "ExecuteTime": {
     "end_time": "2025-07-10T09:45:48.520889Z",
     "start_time": "2025-07-10T09:45:48.505050Z"
    }
   },
   "cell_type": "code",
   "source": [
    "#selected features from feature engineering notebook\n",
    "df_final_input = df[['S', 'C', 'pH', 'EC', 'Organic matter', 'P', 'Mg', 'Mn', 'Cu','1ppm_adsorbed', '2ppm_adsorbed', '4ppm_adsorbed', '6ppm_adsorbed', '10ppm_adsorbed']]"
   ],
   "id": "65c8eefcf94d6d03",
   "outputs": [],
   "execution_count": 23
  },
  {
   "metadata": {
    "ExecuteTime": {
     "end_time": "2025-07-10T09:46:05.779716Z",
     "start_time": "2025-07-10T09:46:05.764939Z"
    }
   },
   "cell_type": "code",
   "source": [
    "X = df_final_input.drop(columns=['1ppm_adsorbed', '2ppm_adsorbed', '4ppm_adsorbed', '6ppm_adsorbed', '10ppm_adsorbed'])\n",
    "y = df_final_input[['1ppm_adsorbed', '2ppm_adsorbed', '4ppm_adsorbed', '6ppm_adsorbed', '10ppm_adsorbed']]"
   ],
   "id": "8363a5799e30c558",
   "outputs": [],
   "execution_count": 24
  },
  {
   "metadata": {
    "ExecuteTime": {
     "end_time": "2025-07-10T09:46:20.496475Z",
     "start_time": "2025-07-10T09:46:20.480485Z"
    }
   },
   "cell_type": "code",
   "source": "X_train, X_test, y_train, y_test = train_test_split(X, y, test_size=0.2, random_state=42)",
   "id": "b73e13fc2e1d151c",
   "outputs": [],
   "execution_count": 25
  },
  {
   "metadata": {
    "ExecuteTime": {
     "end_time": "2025-07-10T09:46:38.636507Z",
     "start_time": "2025-07-10T09:46:38.619244Z"
    }
   },
   "cell_type": "code",
   "source": [
    "# Initialize an XGBRegressor model with native multi-output support\n",
    "model_multi = xgb.XGBRegressor(n_estimators=257,\n",
    "                     learning_rate=0.13746153625886032,\n",
    "                     tree_method=\"hist\",\n",
    "                     multi_strategy=\"multi_output_tree\",\n",
    "                     max_depth= 8,\n",
    "                     min_child_weight = 2,\n",
    "                     subsample= 0.8575279805203573,\n",
    "                     colsample_bytree = 0.8978546705230994,\n",
    "                     gamma = 2.4634384973190855,\n",
    "                     random_state=42)"
   ],
   "id": "cdb2a43d8d646f84",
   "outputs": [],
   "execution_count": 26
  },
  {
   "metadata": {
    "ExecuteTime": {
     "end_time": "2025-07-10T09:46:53.858338Z",
     "start_time": "2025-07-10T09:46:52.646165Z"
    }
   },
   "cell_type": "code",
   "source": [
    "#train the multioutput xgboost model based on the phosphorus adsorption dataset\n",
    "model_multi.fit(X_train, y_train)"
   ],
   "id": "b43c10cfd9714998",
   "outputs": [
    {
     "data": {
      "text/plain": [
       "XGBRegressor(base_score=None, booster=None, callbacks=None,\n",
       "             colsample_bylevel=None, colsample_bynode=None,\n",
       "             colsample_bytree=0.8978546705230994, device=None,\n",
       "             early_stopping_rounds=None, enable_categorical=False,\n",
       "             eval_metric=None, feature_types=None, gamma=2.4634384973190855,\n",
       "             grow_policy=None, importance_type=None,\n",
       "             interaction_constraints=None, learning_rate=0.13746153625886032,\n",
       "             max_bin=None, max_cat_threshold=None, max_cat_to_onehot=None,\n",
       "             max_delta_step=None, max_depth=8, max_leaves=None,\n",
       "             min_child_weight=2, missing=nan, monotone_constraints=None,\n",
       "             multi_strategy='multi_output_tree', n_estimators=257, n_jobs=None,\n",
       "             num_parallel_tree=None, random_state=42, ...)"
      ],
      "text/html": [
       "<style>#sk-container-id-1 {\n",
       "  /* Definition of color scheme common for light and dark mode */\n",
       "  --sklearn-color-text: black;\n",
       "  --sklearn-color-line: gray;\n",
       "  /* Definition of color scheme for unfitted estimators */\n",
       "  --sklearn-color-unfitted-level-0: #fff5e6;\n",
       "  --sklearn-color-unfitted-level-1: #f6e4d2;\n",
       "  --sklearn-color-unfitted-level-2: #ffe0b3;\n",
       "  --sklearn-color-unfitted-level-3: chocolate;\n",
       "  /* Definition of color scheme for fitted estimators */\n",
       "  --sklearn-color-fitted-level-0: #f0f8ff;\n",
       "  --sklearn-color-fitted-level-1: #d4ebff;\n",
       "  --sklearn-color-fitted-level-2: #b3dbfd;\n",
       "  --sklearn-color-fitted-level-3: cornflowerblue;\n",
       "\n",
       "  /* Specific color for light theme */\n",
       "  --sklearn-color-text-on-default-background: var(--sg-text-color, var(--theme-code-foreground, var(--jp-content-font-color1, black)));\n",
       "  --sklearn-color-background: var(--sg-background-color, var(--theme-background, var(--jp-layout-color0, white)));\n",
       "  --sklearn-color-border-box: var(--sg-text-color, var(--theme-code-foreground, var(--jp-content-font-color1, black)));\n",
       "  --sklearn-color-icon: #696969;\n",
       "\n",
       "  @media (prefers-color-scheme: dark) {\n",
       "    /* Redefinition of color scheme for dark theme */\n",
       "    --sklearn-color-text-on-default-background: var(--sg-text-color, var(--theme-code-foreground, var(--jp-content-font-color1, white)));\n",
       "    --sklearn-color-background: var(--sg-background-color, var(--theme-background, var(--jp-layout-color0, #111)));\n",
       "    --sklearn-color-border-box: var(--sg-text-color, var(--theme-code-foreground, var(--jp-content-font-color1, white)));\n",
       "    --sklearn-color-icon: #878787;\n",
       "  }\n",
       "}\n",
       "\n",
       "#sk-container-id-1 {\n",
       "  color: var(--sklearn-color-text);\n",
       "}\n",
       "\n",
       "#sk-container-id-1 pre {\n",
       "  padding: 0;\n",
       "}\n",
       "\n",
       "#sk-container-id-1 input.sk-hidden--visually {\n",
       "  border: 0;\n",
       "  clip: rect(1px 1px 1px 1px);\n",
       "  clip: rect(1px, 1px, 1px, 1px);\n",
       "  height: 1px;\n",
       "  margin: -1px;\n",
       "  overflow: hidden;\n",
       "  padding: 0;\n",
       "  position: absolute;\n",
       "  width: 1px;\n",
       "}\n",
       "\n",
       "#sk-container-id-1 div.sk-dashed-wrapped {\n",
       "  border: 1px dashed var(--sklearn-color-line);\n",
       "  margin: 0 0.4em 0.5em 0.4em;\n",
       "  box-sizing: border-box;\n",
       "  padding-bottom: 0.4em;\n",
       "  background-color: var(--sklearn-color-background);\n",
       "}\n",
       "\n",
       "#sk-container-id-1 div.sk-container {\n",
       "  /* jupyter's `normalize.less` sets `[hidden] { display: none; }`\n",
       "     but bootstrap.min.css set `[hidden] { display: none !important; }`\n",
       "     so we also need the `!important` here to be able to override the\n",
       "     default hidden behavior on the sphinx rendered scikit-learn.org.\n",
       "     See: https://github.com/scikit-learn/scikit-learn/issues/21755 */\n",
       "  display: inline-block !important;\n",
       "  position: relative;\n",
       "}\n",
       "\n",
       "#sk-container-id-1 div.sk-text-repr-fallback {\n",
       "  display: none;\n",
       "}\n",
       "\n",
       "div.sk-parallel-item,\n",
       "div.sk-serial,\n",
       "div.sk-item {\n",
       "  /* draw centered vertical line to link estimators */\n",
       "  background-image: linear-gradient(var(--sklearn-color-text-on-default-background), var(--sklearn-color-text-on-default-background));\n",
       "  background-size: 2px 100%;\n",
       "  background-repeat: no-repeat;\n",
       "  background-position: center center;\n",
       "}\n",
       "\n",
       "/* Parallel-specific style estimator block */\n",
       "\n",
       "#sk-container-id-1 div.sk-parallel-item::after {\n",
       "  content: \"\";\n",
       "  width: 100%;\n",
       "  border-bottom: 2px solid var(--sklearn-color-text-on-default-background);\n",
       "  flex-grow: 1;\n",
       "}\n",
       "\n",
       "#sk-container-id-1 div.sk-parallel {\n",
       "  display: flex;\n",
       "  align-items: stretch;\n",
       "  justify-content: center;\n",
       "  background-color: var(--sklearn-color-background);\n",
       "  position: relative;\n",
       "}\n",
       "\n",
       "#sk-container-id-1 div.sk-parallel-item {\n",
       "  display: flex;\n",
       "  flex-direction: column;\n",
       "}\n",
       "\n",
       "#sk-container-id-1 div.sk-parallel-item:first-child::after {\n",
       "  align-self: flex-end;\n",
       "  width: 50%;\n",
       "}\n",
       "\n",
       "#sk-container-id-1 div.sk-parallel-item:last-child::after {\n",
       "  align-self: flex-start;\n",
       "  width: 50%;\n",
       "}\n",
       "\n",
       "#sk-container-id-1 div.sk-parallel-item:only-child::after {\n",
       "  width: 0;\n",
       "}\n",
       "\n",
       "/* Serial-specific style estimator block */\n",
       "\n",
       "#sk-container-id-1 div.sk-serial {\n",
       "  display: flex;\n",
       "  flex-direction: column;\n",
       "  align-items: center;\n",
       "  background-color: var(--sklearn-color-background);\n",
       "  padding-right: 1em;\n",
       "  padding-left: 1em;\n",
       "}\n",
       "\n",
       "\n",
       "/* Toggleable style: style used for estimator/Pipeline/ColumnTransformer box that is\n",
       "clickable and can be expanded/collapsed.\n",
       "- Pipeline and ColumnTransformer use this feature and define the default style\n",
       "- Estimators will overwrite some part of the style using the `sk-estimator` class\n",
       "*/\n",
       "\n",
       "/* Pipeline and ColumnTransformer style (default) */\n",
       "\n",
       "#sk-container-id-1 div.sk-toggleable {\n",
       "  /* Default theme specific background. It is overwritten whether we have a\n",
       "  specific estimator or a Pipeline/ColumnTransformer */\n",
       "  background-color: var(--sklearn-color-background);\n",
       "}\n",
       "\n",
       "/* Toggleable label */\n",
       "#sk-container-id-1 label.sk-toggleable__label {\n",
       "  cursor: pointer;\n",
       "  display: block;\n",
       "  width: 100%;\n",
       "  margin-bottom: 0;\n",
       "  padding: 0.5em;\n",
       "  box-sizing: border-box;\n",
       "  text-align: center;\n",
       "}\n",
       "\n",
       "#sk-container-id-1 label.sk-toggleable__label-arrow:before {\n",
       "  /* Arrow on the left of the label */\n",
       "  content: \"▸\";\n",
       "  float: left;\n",
       "  margin-right: 0.25em;\n",
       "  color: var(--sklearn-color-icon);\n",
       "}\n",
       "\n",
       "#sk-container-id-1 label.sk-toggleable__label-arrow:hover:before {\n",
       "  color: var(--sklearn-color-text);\n",
       "}\n",
       "\n",
       "/* Toggleable content - dropdown */\n",
       "\n",
       "#sk-container-id-1 div.sk-toggleable__content {\n",
       "  max-height: 0;\n",
       "  max-width: 0;\n",
       "  overflow: hidden;\n",
       "  text-align: left;\n",
       "  /* unfitted */\n",
       "  background-color: var(--sklearn-color-unfitted-level-0);\n",
       "}\n",
       "\n",
       "#sk-container-id-1 div.sk-toggleable__content.fitted {\n",
       "  /* fitted */\n",
       "  background-color: var(--sklearn-color-fitted-level-0);\n",
       "}\n",
       "\n",
       "#sk-container-id-1 div.sk-toggleable__content pre {\n",
       "  margin: 0.2em;\n",
       "  border-radius: 0.25em;\n",
       "  color: var(--sklearn-color-text);\n",
       "  /* unfitted */\n",
       "  background-color: var(--sklearn-color-unfitted-level-0);\n",
       "}\n",
       "\n",
       "#sk-container-id-1 div.sk-toggleable__content.fitted pre {\n",
       "  /* unfitted */\n",
       "  background-color: var(--sklearn-color-fitted-level-0);\n",
       "}\n",
       "\n",
       "#sk-container-id-1 input.sk-toggleable__control:checked~div.sk-toggleable__content {\n",
       "  /* Expand drop-down */\n",
       "  max-height: 200px;\n",
       "  max-width: 100%;\n",
       "  overflow: auto;\n",
       "}\n",
       "\n",
       "#sk-container-id-1 input.sk-toggleable__control:checked~label.sk-toggleable__label-arrow:before {\n",
       "  content: \"▾\";\n",
       "}\n",
       "\n",
       "/* Pipeline/ColumnTransformer-specific style */\n",
       "\n",
       "#sk-container-id-1 div.sk-label input.sk-toggleable__control:checked~label.sk-toggleable__label {\n",
       "  color: var(--sklearn-color-text);\n",
       "  background-color: var(--sklearn-color-unfitted-level-2);\n",
       "}\n",
       "\n",
       "#sk-container-id-1 div.sk-label.fitted input.sk-toggleable__control:checked~label.sk-toggleable__label {\n",
       "  background-color: var(--sklearn-color-fitted-level-2);\n",
       "}\n",
       "\n",
       "/* Estimator-specific style */\n",
       "\n",
       "/* Colorize estimator box */\n",
       "#sk-container-id-1 div.sk-estimator input.sk-toggleable__control:checked~label.sk-toggleable__label {\n",
       "  /* unfitted */\n",
       "  background-color: var(--sklearn-color-unfitted-level-2);\n",
       "}\n",
       "\n",
       "#sk-container-id-1 div.sk-estimator.fitted input.sk-toggleable__control:checked~label.sk-toggleable__label {\n",
       "  /* fitted */\n",
       "  background-color: var(--sklearn-color-fitted-level-2);\n",
       "}\n",
       "\n",
       "#sk-container-id-1 div.sk-label label.sk-toggleable__label,\n",
       "#sk-container-id-1 div.sk-label label {\n",
       "  /* The background is the default theme color */\n",
       "  color: var(--sklearn-color-text-on-default-background);\n",
       "}\n",
       "\n",
       "/* On hover, darken the color of the background */\n",
       "#sk-container-id-1 div.sk-label:hover label.sk-toggleable__label {\n",
       "  color: var(--sklearn-color-text);\n",
       "  background-color: var(--sklearn-color-unfitted-level-2);\n",
       "}\n",
       "\n",
       "/* Label box, darken color on hover, fitted */\n",
       "#sk-container-id-1 div.sk-label.fitted:hover label.sk-toggleable__label.fitted {\n",
       "  color: var(--sklearn-color-text);\n",
       "  background-color: var(--sklearn-color-fitted-level-2);\n",
       "}\n",
       "\n",
       "/* Estimator label */\n",
       "\n",
       "#sk-container-id-1 div.sk-label label {\n",
       "  font-family: monospace;\n",
       "  font-weight: bold;\n",
       "  display: inline-block;\n",
       "  line-height: 1.2em;\n",
       "}\n",
       "\n",
       "#sk-container-id-1 div.sk-label-container {\n",
       "  text-align: center;\n",
       "}\n",
       "\n",
       "/* Estimator-specific */\n",
       "#sk-container-id-1 div.sk-estimator {\n",
       "  font-family: monospace;\n",
       "  border: 1px dotted var(--sklearn-color-border-box);\n",
       "  border-radius: 0.25em;\n",
       "  box-sizing: border-box;\n",
       "  margin-bottom: 0.5em;\n",
       "  /* unfitted */\n",
       "  background-color: var(--sklearn-color-unfitted-level-0);\n",
       "}\n",
       "\n",
       "#sk-container-id-1 div.sk-estimator.fitted {\n",
       "  /* fitted */\n",
       "  background-color: var(--sklearn-color-fitted-level-0);\n",
       "}\n",
       "\n",
       "/* on hover */\n",
       "#sk-container-id-1 div.sk-estimator:hover {\n",
       "  /* unfitted */\n",
       "  background-color: var(--sklearn-color-unfitted-level-2);\n",
       "}\n",
       "\n",
       "#sk-container-id-1 div.sk-estimator.fitted:hover {\n",
       "  /* fitted */\n",
       "  background-color: var(--sklearn-color-fitted-level-2);\n",
       "}\n",
       "\n",
       "/* Specification for estimator info (e.g. \"i\" and \"?\") */\n",
       "\n",
       "/* Common style for \"i\" and \"?\" */\n",
       "\n",
       ".sk-estimator-doc-link,\n",
       "a:link.sk-estimator-doc-link,\n",
       "a:visited.sk-estimator-doc-link {\n",
       "  float: right;\n",
       "  font-size: smaller;\n",
       "  line-height: 1em;\n",
       "  font-family: monospace;\n",
       "  background-color: var(--sklearn-color-background);\n",
       "  border-radius: 1em;\n",
       "  height: 1em;\n",
       "  width: 1em;\n",
       "  text-decoration: none !important;\n",
       "  margin-left: 1ex;\n",
       "  /* unfitted */\n",
       "  border: var(--sklearn-color-unfitted-level-1) 1pt solid;\n",
       "  color: var(--sklearn-color-unfitted-level-1);\n",
       "}\n",
       "\n",
       ".sk-estimator-doc-link.fitted,\n",
       "a:link.sk-estimator-doc-link.fitted,\n",
       "a:visited.sk-estimator-doc-link.fitted {\n",
       "  /* fitted */\n",
       "  border: var(--sklearn-color-fitted-level-1) 1pt solid;\n",
       "  color: var(--sklearn-color-fitted-level-1);\n",
       "}\n",
       "\n",
       "/* On hover */\n",
       "div.sk-estimator:hover .sk-estimator-doc-link:hover,\n",
       ".sk-estimator-doc-link:hover,\n",
       "div.sk-label-container:hover .sk-estimator-doc-link:hover,\n",
       ".sk-estimator-doc-link:hover {\n",
       "  /* unfitted */\n",
       "  background-color: var(--sklearn-color-unfitted-level-3);\n",
       "  color: var(--sklearn-color-background);\n",
       "  text-decoration: none;\n",
       "}\n",
       "\n",
       "div.sk-estimator.fitted:hover .sk-estimator-doc-link.fitted:hover,\n",
       ".sk-estimator-doc-link.fitted:hover,\n",
       "div.sk-label-container:hover .sk-estimator-doc-link.fitted:hover,\n",
       ".sk-estimator-doc-link.fitted:hover {\n",
       "  /* fitted */\n",
       "  background-color: var(--sklearn-color-fitted-level-3);\n",
       "  color: var(--sklearn-color-background);\n",
       "  text-decoration: none;\n",
       "}\n",
       "\n",
       "/* Span, style for the box shown on hovering the info icon */\n",
       ".sk-estimator-doc-link span {\n",
       "  display: none;\n",
       "  z-index: 9999;\n",
       "  position: relative;\n",
       "  font-weight: normal;\n",
       "  right: .2ex;\n",
       "  padding: .5ex;\n",
       "  margin: .5ex;\n",
       "  width: min-content;\n",
       "  min-width: 20ex;\n",
       "  max-width: 50ex;\n",
       "  color: var(--sklearn-color-text);\n",
       "  box-shadow: 2pt 2pt 4pt #999;\n",
       "  /* unfitted */\n",
       "  background: var(--sklearn-color-unfitted-level-0);\n",
       "  border: .5pt solid var(--sklearn-color-unfitted-level-3);\n",
       "}\n",
       "\n",
       ".sk-estimator-doc-link.fitted span {\n",
       "  /* fitted */\n",
       "  background: var(--sklearn-color-fitted-level-0);\n",
       "  border: var(--sklearn-color-fitted-level-3);\n",
       "}\n",
       "\n",
       ".sk-estimator-doc-link:hover span {\n",
       "  display: block;\n",
       "}\n",
       "\n",
       "/* \"?\"-specific style due to the `<a>` HTML tag */\n",
       "\n",
       "#sk-container-id-1 a.estimator_doc_link {\n",
       "  float: right;\n",
       "  font-size: 1rem;\n",
       "  line-height: 1em;\n",
       "  font-family: monospace;\n",
       "  background-color: var(--sklearn-color-background);\n",
       "  border-radius: 1rem;\n",
       "  height: 1rem;\n",
       "  width: 1rem;\n",
       "  text-decoration: none;\n",
       "  /* unfitted */\n",
       "  color: var(--sklearn-color-unfitted-level-1);\n",
       "  border: var(--sklearn-color-unfitted-level-1) 1pt solid;\n",
       "}\n",
       "\n",
       "#sk-container-id-1 a.estimator_doc_link.fitted {\n",
       "  /* fitted */\n",
       "  border: var(--sklearn-color-fitted-level-1) 1pt solid;\n",
       "  color: var(--sklearn-color-fitted-level-1);\n",
       "}\n",
       "\n",
       "/* On hover */\n",
       "#sk-container-id-1 a.estimator_doc_link:hover {\n",
       "  /* unfitted */\n",
       "  background-color: var(--sklearn-color-unfitted-level-3);\n",
       "  color: var(--sklearn-color-background);\n",
       "  text-decoration: none;\n",
       "}\n",
       "\n",
       "#sk-container-id-1 a.estimator_doc_link.fitted:hover {\n",
       "  /* fitted */\n",
       "  background-color: var(--sklearn-color-fitted-level-3);\n",
       "}\n",
       "</style><div id=\"sk-container-id-1\" class=\"sk-top-container\"><div class=\"sk-text-repr-fallback\"><pre>XGBRegressor(base_score=None, booster=None, callbacks=None,\n",
       "             colsample_bylevel=None, colsample_bynode=None,\n",
       "             colsample_bytree=0.8978546705230994, device=None,\n",
       "             early_stopping_rounds=None, enable_categorical=False,\n",
       "             eval_metric=None, feature_types=None, gamma=2.4634384973190855,\n",
       "             grow_policy=None, importance_type=None,\n",
       "             interaction_constraints=None, learning_rate=0.13746153625886032,\n",
       "             max_bin=None, max_cat_threshold=None, max_cat_to_onehot=None,\n",
       "             max_delta_step=None, max_depth=8, max_leaves=None,\n",
       "             min_child_weight=2, missing=nan, monotone_constraints=None,\n",
       "             multi_strategy=&#x27;multi_output_tree&#x27;, n_estimators=257, n_jobs=None,\n",
       "             num_parallel_tree=None, random_state=42, ...)</pre><b>In a Jupyter environment, please rerun this cell to show the HTML representation or trust the notebook. <br />On GitHub, the HTML representation is unable to render, please try loading this page with nbviewer.org.</b></div><div class=\"sk-container\" hidden><div class=\"sk-item\"><div class=\"sk-estimator fitted sk-toggleable\"><input class=\"sk-toggleable__control sk-hidden--visually\" id=\"sk-estimator-id-1\" type=\"checkbox\" checked><label for=\"sk-estimator-id-1\" class=\"sk-toggleable__label fitted sk-toggleable__label-arrow fitted\">&nbsp;XGBRegressor<span class=\"sk-estimator-doc-link fitted\">i<span>Fitted</span></span></label><div class=\"sk-toggleable__content fitted\"><pre>XGBRegressor(base_score=None, booster=None, callbacks=None,\n",
       "             colsample_bylevel=None, colsample_bynode=None,\n",
       "             colsample_bytree=0.8978546705230994, device=None,\n",
       "             early_stopping_rounds=None, enable_categorical=False,\n",
       "             eval_metric=None, feature_types=None, gamma=2.4634384973190855,\n",
       "             grow_policy=None, importance_type=None,\n",
       "             interaction_constraints=None, learning_rate=0.13746153625886032,\n",
       "             max_bin=None, max_cat_threshold=None, max_cat_to_onehot=None,\n",
       "             max_delta_step=None, max_depth=8, max_leaves=None,\n",
       "             min_child_weight=2, missing=nan, monotone_constraints=None,\n",
       "             multi_strategy=&#x27;multi_output_tree&#x27;, n_estimators=257, n_jobs=None,\n",
       "             num_parallel_tree=None, random_state=42, ...)</pre></div> </div></div></div></div>"
      ]
     },
     "execution_count": 27,
     "metadata": {},
     "output_type": "execute_result"
    }
   ],
   "execution_count": 27
  },
  {
   "metadata": {
    "ExecuteTime": {
     "end_time": "2025-07-10T09:47:34.593948Z",
     "start_time": "2025-07-10T09:47:34.577858Z"
    }
   },
   "cell_type": "code",
   "source": [
    "# predict phosphorus adsorption for the extended dataset\n",
    "y_pred = model_multi.predict(X_input)"
   ],
   "id": "39ca0fcf4384daa4",
   "outputs": [],
   "execution_count": 28
  },
  {
   "metadata": {
    "ExecuteTime": {
     "end_time": "2025-07-10T09:48:27.875419Z",
     "start_time": "2025-07-10T09:48:27.870927Z"
    }
   },
   "cell_type": "code",
   "source": [
    "# 1. Convert predictions to DataFrame\n",
    "y_pred_df = pd.DataFrame(y_pred, columns=['XGBoost_1ppm_adsorbed', 'XGBoost_2ppm_adsorbed', 'XGBoost_4ppm_adsorbed', 'XGBoost_6ppm_adsorbed', 'XGBoost_10ppm_adsorbed'])"
   ],
   "id": "9f33241281467a1f",
   "outputs": [],
   "execution_count": 29
  },
  {
   "metadata": {
    "ExecuteTime": {
     "end_time": "2025-07-10T09:48:38.241314Z",
     "start_time": "2025-07-10T09:48:38.225664Z"
    }
   },
   "cell_type": "code",
   "source": [
    "# 2. Reset index (optional, if needed for alignment)\n",
    "y_pred_df.reset_index(drop=True, inplace=True)\n",
    "df_expanded.reset_index(drop=True, inplace=True)\n",
    "\n",
    "# 3. Concatenate to df_final\n",
    "df_expanded = pd.concat([df_expanded, y_pred_df], axis=1)"
   ],
   "id": "3999d3a04a2880d8",
   "outputs": [],
   "execution_count": 30
  },
  {
   "metadata": {
    "ExecuteTime": {
     "end_time": "2025-07-10T09:48:51.836192Z",
     "start_time": "2025-07-10T09:48:51.820298Z"
    }
   },
   "cell_type": "code",
   "source": "df_expanded = df_expanded[~df_expanded['Α.Μ.Δ'].isin(['212785', '192470', '193250'])]",
   "id": "87d406e14537a7de",
   "outputs": [],
   "execution_count": 31
  },
  {
   "metadata": {
    "ExecuteTime": {
     "end_time": "2025-07-10T09:49:00.259601Z",
     "start_time": "2025-07-10T09:49:00.243752Z"
    }
   },
   "cell_type": "code",
   "source": "df_expanded.shape",
   "id": "aed0b0c53871638d",
   "outputs": [
    {
     "data": {
      "text/plain": [
       "(10389, 28)"
      ]
     },
     "execution_count": 32,
     "metadata": {},
     "output_type": "execute_result"
    }
   ],
   "execution_count": 32
  },
  {
   "metadata": {
    "ExecuteTime": {
     "end_time": "2025-07-10T09:51:04.907711Z",
     "start_time": "2025-07-10T09:50:19.613345Z"
    }
   },
   "cell_type": "code",
   "source": [
    "#get langmuir parameters from the phosphorus analysis notebook\n",
    "\n",
    "# Langmuir parameters\n",
    "texture_params = {\n",
    "    \"C\":    (16366.058934, 0.005949),\n",
    "    \"CL\":   (14959.937394, 0.006133),\n",
    "    \"L\":    (12055.405405, 0.007546),\n",
    "    \"LS\":   (2803.550024, 0.025078),\n",
    "    \"SCL\":  (8517.247429, 0.010916),\n",
    "    \"SL\":   (4998.743467, 0.017967),\n",
    "    \"SiC\":  (6686.859738, 0.013785),\n",
    "    \"SiCL\": (6840.715595, 0.014428),\n",
    "    \"SiL\":  (104509.787289, 0.000841)\n",
    "}\n",
    "\n",
    "classification_params = {\n",
    "    \"Clayey\": (11822.862819, 0.007950),\n",
    "    \"Loamy\":  (12899.800247, 0.007242),\n",
    "    \"Sandy\":  (8231.606950, 0.010547)\n",
    "}\n",
    "\n",
    "# Langmuir function\n",
    "def langmuir(Ce, Qm, K):\n",
    "    return (Qm * K * Ce) / (1 + K * Ce)\n",
    "\n",
    "# Ce values\n",
    "Ce_values = [1, 2, 4, 6, 10]\n",
    "\n",
    "# Mapping Ce to XGBoost column\n",
    "ce_to_xgb_col = {\n",
    "    1: 'XGBoost_1ppm_adsorbed',\n",
    "    2: 'XGBoost_2ppm_adsorbed',\n",
    "    4: 'XGBoost_4ppm_adsorbed',\n",
    "    6: 'XGBoost_6ppm_adsorbed',\n",
    "    10: 'XGBoost_10ppm_adsorbed'\n",
    "}\n",
    "\n",
    "# Collect new rows\n",
    "expanded_predictions = []\n",
    "\n",
    "for _, row in df_expanded.iterrows():\n",
    "    texture = row['Soil texture']\n",
    "    classification = row['Soil Classification']\n",
    "\n",
    "    if texture in texture_params:\n",
    "        Qm, K = texture_params[texture]\n",
    "        used = 'Texture'\n",
    "        used_texture_param = True\n",
    "    elif classification in classification_params:\n",
    "        Qm, K = classification_params[classification]\n",
    "        used = 'Classification'\n",
    "        used_texture_param = False\n",
    "    else:\n",
    "        Qm, K = np.nan, np.nan\n",
    "        used = 'None'\n",
    "        used_texture_param = np.nan\n",
    "\n",
    "    for Ce in Ce_values:\n",
    "        if not np.isnan(Qm):\n",
    "            q = langmuir(Ce, Qm, K)\n",
    "        else:\n",
    "            q = np.nan\n",
    "\n",
    "        # Get corresponding XGBoost prediction\n",
    "        xgb_col = ce_to_xgb_col[Ce]\n",
    "        xgb_pred = row.get(xgb_col, np.nan)\n",
    "\n",
    "        # Copy row and add values\n",
    "        new_row = row.copy()\n",
    "        new_row['Ce'] = Ce\n",
    "        new_row['P_adsorption'] = q\n",
    "        new_row['XGBoost_P_adsorption'] = xgb_pred\n",
    "        new_row['Used Params From'] = used\n",
    "        new_row['Used Texture Params'] = used_texture_param\n",
    "\n",
    "        expanded_predictions.append(new_row)\n",
    "\n",
    "# Final expanded dataframe\n",
    "df_expanded_10 = pd.DataFrame(expanded_predictions)\n"
   ],
   "id": "41b6e6c57fea6ec3",
   "outputs": [],
   "execution_count": 33
  },
  {
   "metadata": {
    "ExecuteTime": {
     "end_time": "2025-07-10T09:51:50.380587Z",
     "start_time": "2025-07-10T09:51:50.364546Z"
    }
   },
   "cell_type": "code",
   "source": "df_final2 = df_expanded_10.copy()",
   "id": "5136060e430b591c",
   "outputs": [],
   "execution_count": 34
  },
  {
   "metadata": {
    "ExecuteTime": {
     "end_time": "2025-07-10T09:53:31.346293Z",
     "start_time": "2025-07-10T09:53:31.323305Z"
    }
   },
   "cell_type": "code",
   "source": [
    "# Correct erroneously recorded phosphorus (P) values in the extended dataset\n",
    "df_final2['P'] = df_final2['P'].replace(1308.5, 130.9)\n",
    "df_final2['P'] = df_final2['P'].replace(676.4, 67.5)\n",
    "df_final2['P'] = df_final2['P'].replace(605.57, 60.5)\n",
    "print(\"Max P after replacement:\", df_final2['P'].max())"
   ],
   "id": "c6093ff2daa3e724",
   "outputs": [
    {
     "name": "stdout",
     "output_type": "stream",
     "text": [
      "Max P after replacement: 360.44\n"
     ]
    }
   ],
   "execution_count": 35
  },
  {
   "metadata": {
    "ExecuteTime": {
     "end_time": "2025-07-10T09:53:41.490888Z",
     "start_time": "2025-07-10T09:53:41.475073Z"
    }
   },
   "cell_type": "code",
   "source": [
    "nan_counts = df_final2.isna().sum()\n",
    "print(\"NaN count per column:\")\n",
    "print(nan_counts[nan_counts > 0])  # show only columns with NaNs"
   ],
   "id": "97eaeb7b78649c2f",
   "outputs": [
    {
     "name": "stdout",
     "output_type": "stream",
     "text": [
      "NaN count per column:\n",
      "Series([], dtype: int64)\n"
     ]
    }
   ],
   "execution_count": 36
  },
  {
   "metadata": {
    "ExecuteTime": {
     "end_time": "2025-07-10T09:53:53.286247Z",
     "start_time": "2025-07-10T09:53:53.281932Z"
    }
   },
   "cell_type": "code",
   "source": [
    "df_final2.rename(columns={'P_adsorption': 'Langmuir'}, inplace=True)\n",
    "df_final2.rename(columns={'XGBoost_P_adsorption': 'XGBoost'}, inplace=True)"
   ],
   "id": "847def4b367dce7",
   "outputs": [],
   "execution_count": 37
  },
  {
   "metadata": {
    "ExecuteTime": {
     "end_time": "2025-07-10T09:57:03.356410Z",
     "start_time": "2025-07-10T09:57:03.151019Z"
    }
   },
   "cell_type": "code",
   "source": [
    "# --- Step 1: Bin P into 4 quantile-based categories ---\n",
    "df_final2['P_bin'] = pd.qcut(df_final2['P'], q=4, labels=[\"Low\", \"Medium\", \"High\", \"Very High\"])\n",
    "\n",
    "# --- Step 2: Group and calculate mean and standard error ---\n",
    "summary = df_final2.groupby('P_bin').agg(\n",
    "    P_adsorption_mean=('Langmuir', 'mean'),\n",
    "    P_adsorption_sem=('Langmuir', lambda x: np.std(x, ddof=1) / np.sqrt(len(x))),\n",
    "    q_mean=('XGBoost', 'mean'),\n",
    "    q_sem=('XGBoost', lambda x: np.std(x, ddof=1) / np.sqrt(len(x))),\n",
    "    n=('XGBoost', 'count')\n",
    ").reset_index()\n",
    "\n",
    "# --- Step 3: Plot the grouped bars with error bars ---\n",
    "fig, ax = plt.subplots(figsize=(10, 6))\n",
    "fig.patch.set_facecolor(\"white\")\n",
    "ax.set_facecolor(\"white\")\n",
    "\n",
    "x = np.arange(len(summary))  # x positions\n",
    "width = 0.35  # bar width\n",
    "\n",
    "# Plot P_adsorption bars\n",
    "ax.bar(x - width/2, summary['P_adsorption_mean'], width,\n",
    "       yerr=summary['P_adsorption_sem'], capsize=4,\n",
    "       label='Langmuir', color='cornflowerblue', edgecolor='black')\n",
    "\n",
    "# Plot q bars\n",
    "ax.bar(x + width/2, summary['q_mean'], width,\n",
    "       yerr=summary['q_sem'], capsize=4,\n",
    "       label='XGBoost', color='mediumseagreen', edgecolor='black')\n",
    "\n",
    "# --- Labels and styling ---\n",
    "ax.set_xticks(x)\n",
    "ax.set_xticklabels(summary['P_bin'], fontsize=14)\n",
    "ax.set_ylabel(\"Phosphorus Adsorbed (mg/kg)\", fontsize=16)\n",
    "ax.set_xlabel(\"Phosphorus Content (P) Class\", fontsize=16)\n",
    "ax.set_title(\" Langmuir and XGBoost P adsorption by Binned Olsen P\", fontsize=16)\n",
    "ax.legend(fontsize=14)\n",
    "ax.grid(axis='y', linestyle='--', alpha=0.7)\n",
    "ax.set_ylim(340, 410)\n",
    "ax.tick_params(axis='both', labelsize=14)\n",
    "\n",
    "# Draw X and Y axis lines\n",
    "ax.axhline(y=340, color='black', linewidth=1.3)\n",
    "ax.axvline(x=-0.5, color='black', linewidth=1.3)  # start of x-axis\n",
    "\n",
    "# --- Annotate with sample size ---\n",
    "for i, row in summary.iterrows():\n",
    "    ax.text(x[i] - width/2, row['P_adsorption_mean'] + row['P_adsorption_sem'] + 2,\n",
    "            f\"n={row['n']}\", ha='center', fontsize=10)\n",
    "\n",
    "plt.tight_layout()\n",
    "plt.show()\n"
   ],
   "id": "5bf8ebc3a7f489c",
   "outputs": [
    {
     "name": "stderr",
     "output_type": "stream",
     "text": [
      "C:\\Users\\miatr\\AppData\\Local\\Temp\\ipykernel_10948\\3047662446.py:5: FutureWarning: The default of observed=False is deprecated and will be changed to True in a future version of pandas. Pass observed=False to retain current behavior or observed=True to adopt the future default and silence this warning.\n",
      "  summary = df_final2.groupby('P_bin').agg(\n"
     ]
    },
    {
     "data": {
      "text/plain": [
       "<Figure size 1000x600 with 1 Axes>"
      ],
      "image/png": "[encoded data removed]"
     },
     "metadata": {},
     "output_type": "display_data"
    }
   ],
   "execution_count": 39
  },
  {
   "metadata": {
    "ExecuteTime": {
     "end_time": "2025-07-10T09:57:24.442657Z",
     "start_time": "2025-07-10T09:57:24.426662Z"
    }
   },
   "cell_type": "code",
   "source": "print(summary)",
   "id": "5e7fd0fc7f96cf02",
   "outputs": [
    {
     "name": "stdout",
     "output_type": "stream",
     "text": [
      "       P_bin  P_adsorption_mean  P_adsorption_sem      q_mean     q_sem      n\n",
      "0        Low         398.319767          2.357534  402.057837  2.345667  12990\n",
      "1     Medium         396.565218          2.344890  379.638174  2.265116  13000\n",
      "2       High         390.728511          2.305205  365.481697  2.267818  12970\n",
      "3  Very High         389.017150          2.289470  351.492604  2.246134  12985\n"
     ]
    }
   ],
   "execution_count": 40
  },
  {
   "metadata": {
    "ExecuteTime": {
     "end_time": "2025-07-10T09:57:37.189935Z",
     "start_time": "2025-07-10T09:57:37.158192Z"
    }
   },
   "cell_type": "code",
   "source": [
    "from scipy.stats import f_oneway\n",
    "\n",
    "# Filter the two groups\n",
    "low_group = df_final2[df_final2['P_bin'] == 'Low']['Langmuir'].dropna()\n",
    "very_high_group = df_final2[df_final2['P_bin'] == 'Very High']['Langmuir'].dropna()\n",
    "\n",
    "# Perform one-way ANOVA\n",
    "f_stat, p_value = f_oneway(low_group, very_high_group)\n",
    "\n",
    "print(f\"ANOVA results:\\nF-statistic = {f_stat:.3f}, p-value = {p_value:.5f}\")"
   ],
   "id": "620611ad29469549",
   "outputs": [
    {
     "name": "stdout",
     "output_type": "stream",
     "text": [
      "ANOVA results:\n",
      "F-statistic = 8.013, p-value = 0.00465\n"
     ]
    }
   ],
   "execution_count": 41
  },
  {
   "metadata": {
    "ExecuteTime": {
     "end_time": "2025-07-10T09:57:49.319753Z",
     "start_time": "2025-07-10T09:57:49.304093Z"
    }
   },
   "cell_type": "code",
   "source": [
    "from scipy.stats import ttest_ind\n",
    "\n",
    "t_stat, p_val = ttest_ind(low_group, very_high_group, equal_var=False)\n",
    "print(f\"Welch's t-test:\\nt = {t_stat:.3f}, p = {p_val:.5f}\")"
   ],
   "id": "2db47b5cef07acbd",
   "outputs": [
    {
     "name": "stdout",
     "output_type": "stream",
     "text": [
      "Welch's t-test:\n",
      "t = 2.831, p = 0.00465\n"
     ]
    }
   ],
   "execution_count": 42
  },
  {
   "metadata": {
    "ExecuteTime": {
     "end_time": "2025-07-10T09:57:59.265130Z",
     "start_time": "2025-07-10T09:57:59.249429Z"
    }
   },
   "cell_type": "code",
   "source": [
    "from scipy.stats import f_oneway\n",
    "\n",
    "# Filter the two groups\n",
    "low_group = df_final2[df_final2['P_bin'] == 'Low']['XGBoost'].dropna()\n",
    "very_high_group = df_final2[df_final2['P_bin'] == 'Very High']['XGBoost'].dropna()\n",
    "\n",
    "# Perform one-way ANOVA\n",
    "f_stat, p_value = f_oneway(low_group, very_high_group)\n",
    "\n",
    "print(f\"ANOVA results:\\nF-statistic = {f_stat:.3f}, p-value = {p_value:.5f}\")"
   ],
   "id": "72f530a4ac80e32",
   "outputs": [
    {
     "name": "stdout",
     "output_type": "stream",
     "text": [
      "ANOVA results:\n",
      "F-statistic = 242.413, p-value = 0.00000\n"
     ]
    }
   ],
   "execution_count": 43
  },
  {
   "metadata": {
    "ExecuteTime": {
     "end_time": "2025-07-10T09:58:56.168013Z",
     "start_time": "2025-07-10T09:58:56.027180Z"
    }
   },
   "cell_type": "code",
   "source": [
    "import numpy as np\n",
    "import matplotlib.pyplot as plt\n",
    "\n",
    "# --- Step 1: Bin Sand (S) into 4 quantile-based classes ---\n",
    "df_final2['S_bin'] = pd.qcut(df_final2['S'], q=4, labels=[\"Low\", \"Medium\", \"High\", \"Very High\"])\n",
    "\n",
    "# --- Step 2: Group and summarize ---\n",
    "summary = df_final2.groupby('S_bin').agg(\n",
    "    P_adsorption_mean=('Langmuir', 'mean'),\n",
    "    P_adsorption_sem=('Langmuir', lambda x: np.std(x, ddof=1) / np.sqrt(len(x))),\n",
    "    q_mean=('XGBoost', 'mean'),\n",
    "    q_sem=('XGBoost', lambda x: np.std(x, ddof=1) / np.sqrt(len(x))),\n",
    "    n=('XGBoost', 'count')\n",
    ").reset_index()\n",
    "\n",
    "# --- Step 3: Plot bar chart with error bars ---\n",
    "fig, ax = plt.subplots(figsize=(10, 6))\n",
    "fig.patch.set_facecolor(\"white\")\n",
    "ax.set_facecolor(\"white\")\n",
    "\n",
    "x = np.arange(len(summary))\n",
    "width = 0.35\n",
    "\n",
    "# Plot bars\n",
    "ax.bar(x - width/2, summary['P_adsorption_mean'], width,\n",
    "       yerr=summary['P_adsorption_sem'], capsize=4,\n",
    "       label='Langmuir', color='cornflowerblue', edgecolor='black')\n",
    "\n",
    "ax.bar(x + width/2, summary['q_mean'], width,\n",
    "       yerr=summary['q_sem'], capsize=4,\n",
    "       label='XGBoost', color='mediumseagreen', edgecolor='black')\n",
    "\n",
    "# Labels and styling\n",
    "ax.set_xticks(x)\n",
    "ax.set_xticklabels(summary['S_bin'], fontsize=14)\n",
    "ax.set_ylabel(\"Phosphorus Adsorbed (mg/kg)\", fontsize=16)\n",
    "ax.set_xlabel(\"Sand Content (S) Class\", fontsize=16)\n",
    "ax.set_title(\"Langmuir and XGBoost P adsorption by Binned Sand Content\", fontsize=16)\n",
    "ax.legend(fontsize=14)\n",
    "ax.grid(axis='y', linestyle='--', alpha=0.7)\n",
    "ax.set_ylim(320, 420)\n",
    "\n",
    "# Draw X and Y axis lines\n",
    "ax.axhline(y=320, color='black', linewidth=1.3)\n",
    "ax.axvline(x=-0.5, color='black', linewidth=1.3)  # start of x-axis\n",
    "\n",
    "# Annotate sample size\n",
    "for i, row in summary.iterrows():\n",
    "    ax.text(x[i] - width/2, row['P_adsorption_mean'] + row['P_adsorption_sem'] + 2,\n",
    "            f\"n={row['n']}\", ha='center', fontsize=12)\n",
    "\n",
    "plt.xticks(fontsize=14)\n",
    "plt.yticks(fontsize=14)\n",
    "plt.tight_layout()\n",
    "plt.show()\n"
   ],
   "id": "c21b56cc5a2d2e9",
   "outputs": [
    {
     "name": "stderr",
     "output_type": "stream",
     "text": [
      "C:\\Users\\miatr\\AppData\\Local\\Temp\\ipykernel_10948\\29444353.py:8: FutureWarning: The default of observed=False is deprecated and will be changed to True in a future version of pandas. Pass observed=False to retain current behavior or observed=True to adopt the future default and silence this warning.\n",
      "  summary = df_final2.groupby('S_bin').agg(\n"
     ]
    },
    {
     "data": {
      "text/plain": [
       "<Figure size 1000x600 with 1 Axes>"
      ],
      "image/png": "[encoded data removed]"
     },
     "metadata": {},
     "output_type": "display_data"
    }
   ],
   "execution_count": 45
  },
  {
   "metadata": {
    "ExecuteTime": {
     "end_time": "2025-07-10T09:59:12.628619Z",
     "start_time": "2025-07-10T09:59:12.612544Z"
    }
   },
   "cell_type": "code",
   "source": "print(summary)",
   "id": "406908e01ac9a444",
   "outputs": [
    {
     "name": "stdout",
     "output_type": "stream",
     "text": [
      "       S_bin  P_adsorption_mean  P_adsorption_sem      q_mean     q_sem      n\n",
      "0        Low         413.516183          2.330699  401.339446  2.287025  14485\n",
      "1     Medium         403.143164          2.348936  391.343193  2.345800  13530\n",
      "2       High         388.511794          2.365930  374.157747  2.382103  11930\n",
      "3  Very High         364.116955          2.175324  324.206620  1.993854  12000\n"
     ]
    }
   ],
   "execution_count": 46
  },
  {
   "metadata": {
    "ExecuteTime": {
     "end_time": "2025-07-10T10:02:06.447939Z",
     "start_time": "2025-07-10T10:02:06.403774Z"
    }
   },
   "cell_type": "code",
   "source": [
    "# Filter the two groups\n",
    "low_group = df_final2[df_final2['S_bin'] == 'Low']['Langmuir'].dropna()\n",
    "very_high_group = df_final2[df_final2['S_bin'] == 'Very High']['Langmuir'].dropna()\n",
    "\n",
    "# Perform one-way ANOVA\n",
    "f_stat, p_value = f_oneway(low_group, very_high_group)\n",
    "\n",
    "print(f\"ANOVA results:\\nF-statistic = {f_stat:.3f}, p-value = {p_value:.5f}\")"
   ],
   "id": "804f4749fb34df07",
   "outputs": [
    {
     "name": "stdout",
     "output_type": "stream",
     "text": [
      "ANOVA results:\n",
      "F-statistic = 232.912, p-value = 0.00000\n"
     ]
    }
   ],
   "execution_count": 48
  },
  {
   "metadata": {
    "ExecuteTime": {
     "end_time": "2025-07-10T10:02:17.135686Z",
     "start_time": "2025-07-10T10:02:17.115317Z"
    }
   },
   "cell_type": "code",
   "source": [
    "# Filter the two groups\n",
    "low_group = df_final2[df_final2['S_bin'] == 'Low']['XGBoost'].dropna()\n",
    "very_high_group = df_final2[df_final2['S_bin'] == 'Very High']['XGBoost'].dropna()\n",
    "\n",
    "# Perform one-way ANOVA\n",
    "f_stat, p_value = f_oneway(low_group, very_high_group)\n",
    "\n",
    "print(f\"ANOVA results:\\nF-statistic = {f_stat:.3f}, p-value = {p_value:.5f}\")"
   ],
   "id": "9314f4b40e77c970",
   "outputs": [
    {
     "name": "stdout",
     "output_type": "stream",
     "text": [
      "ANOVA results:\n",
      "F-statistic = 619.280, p-value = 0.00000\n"
     ]
    }
   ],
   "execution_count": 49
  },
  {
   "metadata": {
    "ExecuteTime": {
     "end_time": "2025-07-10T10:02:25.909882Z",
     "start_time": "2025-07-10T10:02:25.866074Z"
    }
   },
   "cell_type": "code",
   "source": [
    "# Extract the bin edges used by qcut\n",
    "bins = pd.qcut(df_final2['S'], q=4, retbins=True)[1]\n",
    "print(\"Sand content (S) bin edges:\", bins)"
   ],
   "id": "34fd16f4fad015b5",
   "outputs": [
    {
     "name": "stdout",
     "output_type": "stream",
     "text": [
      "Sand content (S) bin edges: [ 4. 30. 44. 56. 94.]\n"
     ]
    }
   ],
   "execution_count": 50
  },
  {
   "metadata": {
    "ExecuteTime": {
     "end_time": "2025-07-10T10:02:35.043276Z",
     "start_time": "2025-07-10T10:02:35.028431Z"
    }
   },
   "cell_type": "code",
   "source": [
    "# Get the bin edges used for P_bin\n",
    "_, p_bins = pd.qcut(df_final2['P'], q=4, retbins=True)\n",
    "print(\"P (Olsen phosphorus) bin edges:\", p_bins)"
   ],
   "id": "77571054f1ef892b",
   "outputs": [
    {
     "name": "stdout",
     "output_type": "stream",
     "text": [
      "P (Olsen phosphorus) bin edges: [  1.     6.83  12.89  25.77 360.44]\n"
     ]
    }
   ],
   "execution_count": 51
  },
  {
   "metadata": {
    "ExecuteTime": {
     "end_time": "2025-07-10T10:02:51.765810Z",
     "start_time": "2025-07-10T10:02:51.733724Z"
    }
   },
   "cell_type": "code",
   "source": [
    "# | Bin | Range (P values in mg/kg) | Label       |\n",
    "# | --- | ------------------------- | ----------- |\n",
    "# | 1   | 1.0 – 6.83                | \"Low\"       |\n",
    "# | 2   | >6.83 – 12.89             | \"Medium\"    |\n",
    "# | 3   | >12.89 – 25.77            | \"High\"      |\n",
    "# | 4   | >25.77 – 360.44           | \"Very High\" |"
   ],
   "id": "456b804a4dd2aac4",
   "outputs": [],
   "execution_count": 52
  },
  {
   "metadata": {
    "ExecuteTime": {
     "end_time": "2025-07-10T10:03:02.381769Z",
     "start_time": "2025-07-10T10:03:02.376948Z"
    }
   },
   "cell_type": "code",
   "source": [
    "max_p = df_final2['P'].max()\n",
    "print(\"Maximum P value:\", max_p)"
   ],
   "id": "ef8d7e783f4cbec5",
   "outputs": [
    {
     "name": "stdout",
     "output_type": "stream",
     "text": [
      "Maximum P value: 360.44\n"
     ]
    }
   ],
   "execution_count": 53
  },
  {
   "metadata": {
    "ExecuteTime": {
     "end_time": "2025-07-10T10:35:37.153587Z",
     "start_time": "2025-07-10T10:35:36.167156Z"
    }
   },
   "cell_type": "code",
   "source": [
    "url = \"https://zenodo.org/record/15854383/files/percentage_adsorption.xlsx\"\n",
    "df = pd.read_excel(url)\n",
    "\n",
    "df.head()"
   ],
   "id": "6de926c073221621",
   "outputs": [
    {
     "data": {
      "text/plain": [
       "   Α/Α Α.Μ.Δ.Ε.   C   Si    S    pH     EC     CaCO3  O.M.      P  \\\n",
       "0    1     2298   38   32  30  4.85  0.125       0.0  1.97  15.34   \n",
       "1    2    2299A   42   28  30  5.51  0.205       0.0  3.03  21.85   \n",
       "2    3    2299B   42   28  30  5.51  0.205       0.0  3.03  21.85   \n",
       "3    4     2334   48   24  28  5.67  0.239       0.0  1.86  10.60   \n",
       "4    5     1665   44   32  24  5.70  0.116       0.0  2.64  16.46   \n",
       "\n",
       "   ΑΡΧΙΚΟΣ OLSEN       PAU       PFU  Percentage adsorption    a/a  \\\n",
       "0           9.465  4.80900  4.809000                100.000   2298   \n",
       "1          14.001  4.67160  4.232983                 90.611  2299A   \n",
       "2          13.040  4.67160  4.390603                 93.985  2299B   \n",
       "3          16.687  4.67160  4.627173                 99.049   2334   \n",
       "4           8.762  4.56855  4.535565                 99.278   1665   \n",
       "\n",
       "  Soil texture Soil Classification  Ce  \n",
       "0           CL             Clayey    1  \n",
       "1            C             Clayey    1  \n",
       "2            C             Clayey    1  \n",
       "3            C             Clayey    1  \n",
       "4            C             Clayey    1  "
      ],
      "text/html": [
       "<div>\n",
       "<style scoped>\n",
       "    .dataframe tbody tr th:only-of-type {\n",
       "        vertical-align: middle;\n",
       "    }\n",
       "\n",
       "    .dataframe tbody tr th {\n",
       "        vertical-align: top;\n",
       "    }\n",
       "\n",
       "    .dataframe thead th {\n",
       "        text-align: right;\n",
       "    }\n",
       "</style>\n",
       "<table border=\"1\" class=\"dataframe\">\n",
       "  <thead>\n",
       "    <tr style=\"text-align: right;\">\n",
       "      <th></th>\n",
       "      <th>Α/Α</th>\n",
       "      <th>Α.Μ.Δ.Ε.</th>\n",
       "      <th>C</th>\n",
       "      <th>Si</th>\n",
       "      <th>S</th>\n",
       "      <th>pH</th>\n",
       "      <th>EC</th>\n",
       "      <th>CaCO3</th>\n",
       "      <th>O.M.</th>\n",
       "      <th>P</th>\n",
       "      <th>ΑΡΧΙΚΟΣ OLSEN</th>\n",
       "      <th>PAU</th>\n",
       "      <th>PFU</th>\n",
       "      <th>Percentage adsorption</th>\n",
       "      <th>a/a</th>\n",
       "      <th>Soil texture</th>\n",
       "      <th>Soil Classification</th>\n",
       "      <th>Ce</th>\n",
       "    </tr>\n",
       "  </thead>\n",
       "  <tbody>\n",
       "    <tr>\n",
       "      <th>0</th>\n",
       "      <td>1</td>\n",
       "      <td>2298</td>\n",
       "      <td>38</td>\n",
       "      <td>32</td>\n",
       "      <td>30</td>\n",
       "      <td>4.85</td>\n",
       "      <td>0.125</td>\n",
       "      <td>0.0</td>\n",
       "      <td>1.97</td>\n",
       "      <td>15.34</td>\n",
       "      <td>9.465</td>\n",
       "      <td>4.80900</td>\n",
       "      <td>4.809000</td>\n",
       "      <td>100.000</td>\n",
       "      <td>2298</td>\n",
       "      <td>CL</td>\n",
       "      <td>Clayey</td>\n",
       "      <td>1</td>\n",
       "    </tr>\n",
       "    <tr>\n",
       "      <th>1</th>\n",
       "      <td>2</td>\n",
       "      <td>2299A</td>\n",
       "      <td>42</td>\n",
       "      <td>28</td>\n",
       "      <td>30</td>\n",
       "      <td>5.51</td>\n",
       "      <td>0.205</td>\n",
       "      <td>0.0</td>\n",
       "      <td>3.03</td>\n",
       "      <td>21.85</td>\n",
       "      <td>14.001</td>\n",
       "      <td>4.67160</td>\n",
       "      <td>4.232983</td>\n",
       "      <td>90.611</td>\n",
       "      <td>2299A</td>\n",
       "      <td>C</td>\n",
       "      <td>Clayey</td>\n",
       "      <td>1</td>\n",
       "    </tr>\n",
       "    <tr>\n",
       "      <th>2</th>\n",
       "      <td>3</td>\n",
       "      <td>2299B</td>\n",
       "      <td>42</td>\n",
       "      <td>28</td>\n",
       "      <td>30</td>\n",
       "      <td>5.51</td>\n",
       "      <td>0.205</td>\n",
       "      <td>0.0</td>\n",
       "      <td>3.03</td>\n",
       "      <td>21.85</td>\n",
       "      <td>13.040</td>\n",
       "      <td>4.67160</td>\n",
       "      <td>4.390603</td>\n",
       "      <td>93.985</td>\n",
       "      <td>2299B</td>\n",
       "      <td>C</td>\n",
       "      <td>Clayey</td>\n",
       "      <td>1</td>\n",
       "    </tr>\n",
       "    <tr>\n",
       "      <th>3</th>\n",
       "      <td>4</td>\n",
       "      <td>2334</td>\n",
       "      <td>48</td>\n",
       "      <td>24</td>\n",
       "      <td>28</td>\n",
       "      <td>5.67</td>\n",
       "      <td>0.239</td>\n",
       "      <td>0.0</td>\n",
       "      <td>1.86</td>\n",
       "      <td>10.60</td>\n",
       "      <td>16.687</td>\n",
       "      <td>4.67160</td>\n",
       "      <td>4.627173</td>\n",
       "      <td>99.049</td>\n",
       "      <td>2334</td>\n",
       "      <td>C</td>\n",
       "      <td>Clayey</td>\n",
       "      <td>1</td>\n",
       "    </tr>\n",
       "    <tr>\n",
       "      <th>4</th>\n",
       "      <td>5</td>\n",
       "      <td>1665</td>\n",
       "      <td>44</td>\n",
       "      <td>32</td>\n",
       "      <td>24</td>\n",
       "      <td>5.70</td>\n",
       "      <td>0.116</td>\n",
       "      <td>0.0</td>\n",
       "      <td>2.64</td>\n",
       "      <td>16.46</td>\n",
       "      <td>8.762</td>\n",
       "      <td>4.56855</td>\n",
       "      <td>4.535565</td>\n",
       "      <td>99.278</td>\n",
       "      <td>1665</td>\n",
       "      <td>C</td>\n",
       "      <td>Clayey</td>\n",
       "      <td>1</td>\n",
       "    </tr>\n",
       "  </tbody>\n",
       "</table>\n",
       "</div>"
      ]
     },
     "execution_count": 55,
     "metadata": {},
     "output_type": "execute_result"
    }
   ],
   "execution_count": 55
  },
  {
   "metadata": {
    "ExecuteTime": {
     "end_time": "2025-07-10T10:35:38.565384Z",
     "start_time": "2025-07-10T10:35:38.549658Z"
    }
   },
   "cell_type": "code",
   "source": [
    "# # Calculate the mean percentage of phosphorus adsorption for each soil classification across Ce levels\n",
    "# Group by 'Soil classification' and 'Ce', then calculate the mean\n",
    "mean_adsorption = df.groupby(['Soil Classification', 'Ce'])['Percentage adsorption'].mean().reset_index()\n",
    "\n",
    "# Optionally, pivot the table to better view the results\n",
    "pivot_table = mean_adsorption.pivot(index='Soil Classification', columns='Ce', values='Percentage adsorption')\n",
    "\n",
    "print(pivot_table)\n"
   ],
   "id": "853a4246c0f03c7",
   "outputs": [
    {
     "name": "stdout",
     "output_type": "stream",
     "text": [
      "Ce                          1          2          4          6          10\n",
      "Soil Classification                                                       \n",
      "Clayey               97.095814  92.137651  91.353116  90.342337  87.726484\n",
      "Loamy                87.277226  91.103048  89.937331  90.376467  86.511856\n",
      "Sandy                73.679283  81.820446  81.146728  84.256667  77.780546\n"
     ]
    }
   ],
   "execution_count": 56
  },
  {
   "metadata": {
    "ExecuteTime": {
     "end_time": "2025-07-10T10:35:48.937934Z",
     "start_time": "2025-07-10T10:35:48.908214Z"
    }
   },
   "cell_type": "code",
   "source": [
    "# calculate std by soil classification\n",
    "pivot_std = df.groupby(['Soil Classification', 'Ce'])['Percentage adsorption'].std().reset_index()\n",
    "pivot_std = pivot_std.pivot(index='Soil Classification', columns='Ce', values='Percentage adsorption')\n",
    "print(pivot_std)"
   ],
   "id": "3553916d6e69bb50",
   "outputs": [
    {
     "name": "stdout",
     "output_type": "stream",
     "text": [
      "Ce                          1          2          4          6          10\n",
      "Soil Classification                                                       \n",
      "Clayey                6.071450  10.589844  10.395930   9.483822  10.252778\n",
      "Loamy                10.384047   6.547037   7.015029   7.163288   9.731785\n",
      "Sandy                23.811501  17.748809  19.083799  11.980880  12.767621\n"
     ]
    }
   ],
   "execution_count": 57
  },
  {
   "metadata": {
    "ExecuteTime": {
     "end_time": "2025-07-10T10:36:01.063264Z",
     "start_time": "2025-07-10T10:36:01.047575Z"
    }
   },
   "cell_type": "code",
   "source": [
    "# calculate mean percentage adsorption by soil texture\n",
    "# Group by 'Soil classification' and 'Ce', then calculate the mean\n",
    "mean_adsorption = df.groupby(['Soil texture', 'Ce'])['Percentage adsorption'].mean().reset_index()\n",
    "\n",
    "# Optionally, pivot the table to better view the results\n",
    "pivot_table = mean_adsorption.pivot(index='Soil texture', columns='Ce', values='Percentage adsorption')\n",
    "\n",
    "print(pivot_table)"
   ],
   "id": "dff7b6f3a886c89d",
   "outputs": [
    {
     "name": "stdout",
     "output_type": "stream",
     "text": [
      "Ce                   1          2          4          6          10\n",
      "Soil texture                                                       \n",
      "C             98.195143  93.566381  93.309310  92.376452  91.215286\n",
      "CL            92.284229  91.755657  90.664607  90.596814  87.518857\n",
      "L             81.841950  88.445875  86.588794  88.455206  83.613703\n",
      "LS            52.623500  68.249000  62.193875  63.350250  55.840600\n",
      "SCL           86.760923  90.141923  89.435923  87.702833  83.785438\n",
      "SL            75.684087  83.183783  81.737065  83.411007  75.123230\n",
      "SiC           98.457000  87.336500  86.435375  85.942500  80.968950\n",
      "SiCL          99.757500  91.771750  93.813875  91.459083  86.180450\n",
      "SiL           79.963769  83.083462  85.633365  90.367096  86.740377\n"
     ]
    }
   ],
   "execution_count": 58
  },
  {
   "metadata": {
    "ExecuteTime": {
     "end_time": "2025-07-10T10:36:09.016740Z",
     "start_time": "2025-07-10T10:36:09.000908Z"
    }
   },
   "cell_type": "code",
   "source": [
    "#calculate std by soil texture\n",
    "pivot_std = df.groupby(['Soil texture', 'Ce'])['Percentage adsorption'].std().reset_index()\n",
    "pivot_std = pivot_std.pivot(index='Soil texture', columns='Ce', values='Percentage adsorption')\n",
    "print(pivot_std)"
   ],
   "id": "308a7f5bbdd4ab54",
   "outputs": [
    {
     "name": "stdout",
     "output_type": "stream",
     "text": [
      "Ce                   1          2          4          6          10\n",
      "Soil texture                                                       \n",
      "C              3.484033  11.112007  10.149621   9.649184   7.565180\n",
      "CL             8.234434   7.964432   8.208744   7.596760   9.685624\n",
      "L             17.201578   9.283196  15.453272   7.883638   9.822059\n",
      "LS             9.911516  31.651514  23.179491  27.853290  27.889564\n",
      "SCL           11.075637   6.906065   6.660660   8.655595  10.983591\n",
      "SL            23.252040  17.285859  17.230574  12.007069  12.919017\n",
      "SiC            0.680237  13.946267  17.689160  17.938828  23.306169\n",
      "SiCL           0.342947   8.089655   4.213119   4.445698   6.307322\n",
      "SiL           24.869995  21.068028  12.527781   7.685734   7.424554\n"
     ]
    }
   ],
   "execution_count": 59
  },
  {
   "metadata": {
    "ExecuteTime": {
     "end_time": "2025-07-10T10:38:29.894337Z",
     "start_time": "2025-07-10T10:38:26.749020Z"
    }
   },
   "cell_type": "code",
   "source": [
    "import pandas as pd\n",
    "import statsmodels.api as sm\n",
    "from statsmodels.formula.api import ols\n",
    "from statsmodels.stats.multicomp import pairwise_tukeyhsd, MultiComparison\n",
    "from collections import defaultdict\n",
    "\n",
    "# Example: run this for each Ce level\n",
    "letters_dict = {}\n",
    "\n",
    "for ce_level in df['Ce'].unique():\n",
    "    sub_df = df[df['Ce'] == ce_level]\n",
    "\n",
    "    # ANOVA\n",
    "    model = ols('Q(\"Percentage adsorption\") ~ C(Q(\"Soil texture\"))', data=sub_df).fit()\n",
    "    anova_table = sm.stats.anova_lm(model, typ=2)\n",
    "\n",
    "    # Tukey HSD\n",
    "    mc = MultiComparison(sub_df['Percentage adsorption'], sub_df['Soil texture'])\n",
    "    tukey_result = mc.tukeyhsd()\n",
    "\n",
    "    # Extract group letters\n",
    "    summary_df = pd.DataFrame(data=tukey_result._results_table.data[1:], columns=tukey_result._results_table.data[0])\n",
    "    groups = mc.groupsunique\n",
    "    reject_dict = defaultdict(set)\n",
    "\n",
    "    for i, row in summary_df.iterrows():\n",
    "        if not row['reject']:\n",
    "            # Not significantly different -> share a group\n",
    "            reject_dict[row['group1']].add(row['group2'])\n",
    "            reject_dict[row['group2']].add(row['group1'])\n",
    "\n",
    "    # Assign letters (simplified greedy algorithm)\n",
    "    group_letters = {}\n",
    "    used_letters = []\n",
    "    for group in sorted(groups):\n",
    "        assigned = False\n",
    "        for letter in used_letters:\n",
    "            if all(g not in reject_dict[group] for g, l in group_letters.items() if l == letter):\n",
    "                group_letters[group] = letter\n",
    "                assigned = True\n",
    "                break\n",
    "        if not assigned:\n",
    "            new_letter = chr(97 + len(used_letters))  # 'a', 'b', 'c', ...\n",
    "            group_letters[group] = new_letter\n",
    "            used_letters.append(new_letter)\n",
    "\n",
    "    letters_dict[ce_level] = group_letters\n",
    "\n",
    "# Example output\n",
    "for ce, letter_map in letters_dict.items():\n",
    "    print(f\"Ce = {ce} mg/L\")\n",
    "    for soil_class, letter in letter_map.items():\n",
    "        print(f\"  {soil_class}: {letter}\")\n"
   ],
   "id": "4e9511aeadb3679f",
   "outputs": [
    {
     "name": "stdout",
     "output_type": "stream",
     "text": [
      "Ce = 1 mg/L\n",
      "  C: a\n",
      "  CL: b\n",
      "  L: a\n",
      "  LS: b\n",
      "  SCL: c\n",
      "  SL: d\n",
      "  SiC: e\n",
      "  SiCL: f\n",
      "  SiL: g\n",
      "Ce = 2 mg/L\n",
      "  C: a\n",
      "  CL: b\n",
      "  L: c\n",
      "  LS: d\n",
      "  SCL: e\n",
      "  SL: f\n",
      "  SiC: g\n",
      "  SiCL: h\n",
      "  SiL: i\n",
      "Ce = 4 mg/L\n",
      "  C: a\n",
      "  CL: b\n",
      "  L: c\n",
      "  LS: a\n",
      "  SCL: d\n",
      "  SL: e\n",
      "  SiC: f\n",
      "  SiCL: g\n",
      "  SiL: h\n",
      "Ce = 6 mg/L\n",
      "  C: a\n",
      "  CL: b\n",
      "  L: c\n",
      "  LS: a\n",
      "  SCL: d\n",
      "  SL: e\n",
      "  SiC: f\n",
      "  SiCL: g\n",
      "  SiL: h\n",
      "Ce = 10 mg/L\n",
      "  C: a\n",
      "  CL: b\n",
      "  L: c\n",
      "  LS: a\n",
      "  SCL: d\n",
      "  SL: b\n",
      "  SiC: e\n",
      "  SiCL: f\n",
      "  SiL: g\n"
     ]
    }
   ],
   "execution_count": 60
  },
  {
   "metadata": {
    "ExecuteTime": {
     "end_time": "2025-07-10T10:38:40.995134Z",
     "start_time": "2025-07-10T10:38:39.646883Z"
    }
   },
   "cell_type": "code",
   "source": [
    "import pandas as pd\n",
    "import statsmodels.api as sm\n",
    "from statsmodels.formula.api import ols\n",
    "from statsmodels.stats.multicomp import pairwise_tukeyhsd, MultiComparison\n",
    "from collections import defaultdict\n",
    "\n",
    "# Example: run this for each Ce level\n",
    "letters_dict = {}\n",
    "\n",
    "for ce_level in df['Ce'].unique():\n",
    "    sub_df = df[df['Ce'] == ce_level]\n",
    "\n",
    "    # ANOVA\n",
    "    model = ols('Q(\"Percentage adsorption\") ~ C(Q(\"Soil Classification\"))', data=sub_df).fit()\n",
    "    anova_table = sm.stats.anova_lm(model, typ=2)\n",
    "\n",
    "    # Tukey HSD\n",
    "    mc = MultiComparison(sub_df['Percentage adsorption'], sub_df['Soil Classification'])\n",
    "    tukey_result = mc.tukeyhsd()\n",
    "\n",
    "    # Extract group letters\n",
    "    summary_df = pd.DataFrame(data=tukey_result._results_table.data[1:], columns=tukey_result._results_table.data[0])\n",
    "    groups = mc.groupsunique\n",
    "    reject_dict = defaultdict(set)\n",
    "\n",
    "    for i, row in summary_df.iterrows():\n",
    "        if not row['reject']:\n",
    "            # Not significantly different -> share a group\n",
    "            reject_dict[row['group1']].add(row['group2'])\n",
    "            reject_dict[row['group2']].add(row['group1'])\n",
    "\n",
    "    # Assign letters (simplified greedy algorithm)\n",
    "    group_letters = {}\n",
    "    used_letters = []\n",
    "    for group in sorted(groups):\n",
    "        assigned = False\n",
    "        for letter in used_letters:\n",
    "            if all(g not in reject_dict[group] for g, l in group_letters.items() if l == letter):\n",
    "                group_letters[group] = letter\n",
    "                assigned = True\n",
    "                break\n",
    "        if not assigned:\n",
    "            new_letter = chr(97 + len(used_letters))  # 'a', 'b', 'c', ...\n",
    "            group_letters[group] = new_letter\n",
    "            used_letters.append(new_letter)\n",
    "\n",
    "    letters_dict[ce_level] = group_letters\n",
    "\n",
    "# Example output\n",
    "for ce, letter_map in letters_dict.items():\n",
    "    print(f\"Ce = {ce} mg/L\")\n",
    "    for soil_class, letter in letter_map.items():\n",
    "        print(f\"  {soil_class}: {letter}\")\n"
   ],
   "id": "fb0d23f103b8324f",
   "outputs": [
    {
     "name": "stdout",
     "output_type": "stream",
     "text": [
      "Ce = 1 mg/L\n",
      "  Clayey : a\n",
      "  Loamy: a\n",
      "  Sandy: a\n",
      "Ce = 2 mg/L\n",
      "  Clayey : a\n",
      "  Loamy: b\n",
      "  Sandy: a\n",
      "Ce = 4 mg/L\n",
      "  Clayey : a\n",
      "  Loamy: b\n",
      "  Sandy: a\n",
      "Ce = 6 mg/L\n",
      "  Clayey : a\n",
      "  Loamy: b\n",
      "  Sandy: a\n",
      "Ce = 10 mg/L\n",
      "  Clayey : a\n",
      "  Loamy: b\n",
      "  Sandy: a\n"
     ]
    }
   ],
   "execution_count": 61
  },
  {
   "metadata": {
    "ExecuteTime": {
     "end_time": "2025-07-10T10:44:43.594313Z",
     "start_time": "2025-07-10T10:44:43.567330Z"
    }
   },
   "cell_type": "code",
   "source": "df_expanded = df_cleaned.copy()",
   "id": "171dd4289bb5d522",
   "outputs": [],
   "execution_count": 64
  },
  {
   "metadata": {
    "ExecuteTime": {
     "end_time": "2025-07-10T10:45:05.980065Z",
     "start_time": "2025-07-10T10:45:05.975200Z"
    }
   },
   "cell_type": "code",
   "source": "df_expanded.rename(columns={'O.O.': 'Organic matter', 'Ec': 'EC'}, inplace=True)",
   "id": "df88466482f2d4f6",
   "outputs": [],
   "execution_count": 65
  },
  {
   "metadata": {
    "ExecuteTime": {
     "end_time": "2025-07-10T10:45:11.955663Z",
     "start_time": "2025-07-10T10:45:11.939636Z"
    }
   },
   "cell_type": "code",
   "source": "X_input = df_expanded[['S', 'C', 'pH', 'EC', 'Organic matter', 'P', 'Mg', 'Mn', 'Cu']]",
   "id": "fc8d4fc715b8cd99",
   "outputs": [],
   "execution_count": 66
  },
  {
   "metadata": {
    "ExecuteTime": {
     "end_time": "2025-07-10T10:45:19.718162Z",
     "start_time": "2025-07-10T10:45:19.705524Z"
    }
   },
   "cell_type": "code",
   "source": "df_expanded.shape",
   "id": "ee385e7c9da2fe20",
   "outputs": [
    {
     "data": {
      "text/plain": [
       "(10392, 23)"
      ]
     },
     "execution_count": 67,
     "metadata": {},
     "output_type": "execute_result"
    }
   ],
   "execution_count": 67
  },
  {
   "metadata": {
    "ExecuteTime": {
     "end_time": "2025-07-10T10:45:26.362136Z",
     "start_time": "2025-07-10T10:45:26.346351Z"
    }
   },
   "cell_type": "code",
   "source": [
    "nan_counts = df_expanded.isna().sum()\n",
    "print(\"NaN count per column:\")\n",
    "print(nan_counts[nan_counts > 0])  # show only columns with NaNs"
   ],
   "id": "24b8339ab6d30647",
   "outputs": [
    {
     "name": "stdout",
     "output_type": "stream",
     "text": [
      "NaN count per column:\n",
      "Series([], dtype: int64)\n"
     ]
    }
   ],
   "execution_count": 68
  },
  {
   "metadata": {
    "ExecuteTime": {
     "end_time": "2025-07-10T10:45:32.997675Z",
     "start_time": "2025-07-10T10:45:32.965954Z"
    }
   },
   "cell_type": "code",
   "source": "y_pred = model_multi.predict(X_input)",
   "id": "77e9b8a5bad113da",
   "outputs": [],
   "execution_count": 69
  },
  {
   "metadata": {
    "ExecuteTime": {
     "end_time": "2025-07-10T10:45:40.079113Z",
     "start_time": "2025-07-10T10:45:40.073514Z"
    }
   },
   "cell_type": "code",
   "source": [
    "# 1. Convert predictions to DataFrame\n",
    "y_pred_df = pd.DataFrame(y_pred, columns=['XGBoost_1ppm_adsorbed', 'XGBoost_2ppm_adsorbed', 'XGBoost_4ppm_adsorbed', 'XGBoost_6ppm_adsorbed', 'XGBoost_10ppm_adsorbed'])"
   ],
   "id": "9acd1673d9a78c84",
   "outputs": [],
   "execution_count": 70
  },
  {
   "metadata": {
    "ExecuteTime": {
     "end_time": "2025-07-10T10:45:47.078679Z",
     "start_time": "2025-07-10T10:45:47.060473Z"
    }
   },
   "cell_type": "code",
   "source": [
    "# 2. Reset index (optional, if needed for alignment)\n",
    "y_pred_df.reset_index(drop=True, inplace=True)\n",
    "df_expanded.reset_index(drop=True, inplace=True)\n",
    "\n",
    "# 3. Concatenate to df_final\n",
    "df_expanded = pd.concat([df_expanded, y_pred_df], axis=1)"
   ],
   "id": "72d4cb6624f93877",
   "outputs": [],
   "execution_count": 71
  },
  {
   "metadata": {
    "ExecuteTime": {
     "end_time": "2025-07-10T10:45:53.876789Z",
     "start_time": "2025-07-10T10:45:53.861140Z"
    }
   },
   "cell_type": "code",
   "source": "df_expanded = df_expanded[~df_expanded['Α.Μ.Δ'].isin(['212785', '192470', '193250'])]",
   "id": "2e3a93faa5df7efc",
   "outputs": [],
   "execution_count": 72
  },
  {
   "metadata": {
    "ExecuteTime": {
     "end_time": "2025-07-10T10:46:09.167879Z",
     "start_time": "2025-07-10T10:46:09.152050Z"
    }
   },
   "cell_type": "code",
   "source": "print(df_expanded.shape)",
   "id": "9995291894fe5b0d",
   "outputs": [
    {
     "name": "stdout",
     "output_type": "stream",
     "text": [
      "(10389, 28)\n"
     ]
    }
   ],
   "execution_count": 73
  },
  {
   "metadata": {
    "ExecuteTime": {
     "end_time": "2025-07-10T10:46:17.639440Z",
     "start_time": "2025-07-10T10:46:17.623574Z"
    }
   },
   "cell_type": "code",
   "source": [
    "# Calculate part A based on given formula\n",
    "partA = 0.278 * (df_expanded['S'] / 100) + 0.034 * (df_expanded['C'] / 100) + 0.022 * df_expanded['Organic matter'] - 0.018 * (\n",
    "        (df_expanded['S'] / 100) * df_expanded['Organic matter']) - 0.027 * ((df_expanded['C'] / 100) * df_expanded['Organic matter']) - 0.584 * (\n",
    "                (df_expanded['S'] / 100) * (df_expanded['C'] / 100)) + 0.078\n",
    "\n",
    "# Calculate part B, enhancing part A with additional operations\n",
    "partB = partA + 0.636 * partA - 0.107\n",
    "\n",
    "# Calculate part C with a difZnrent set of operations and factors\n",
    "partC = -0.251 * (df_expanded['S'] / 100) + 0.195 * (df_expanded['C'] / 100) + 0.011 * df_expanded['Organic matter'] + 0.006 * (\n",
    "        (df_expanded['S'] / 100) * df_expanded['Organic matter']) - 0.027 * ((df_expanded['C'] / 100) * df_expanded['Organic matter']) + 0.452 * (\n",
    "                (df_expanded['S'] / 100) * (df_expanded['C'] / 100)) + 0.299\n",
    "\n",
    "# Enhance part C with additional operations to calculate part D\n",
    "partD = partC + 1.283 * partC * partC - 0.374 * partC - 0.015\n",
    "\n",
    "# Combine parts D and B and adjust with additional operations to calculate part E\n",
    "partE = partD + partB - 0.097 * (df_expanded['S'] / 100) + 0.043\n",
    "\n",
    "# Final calculation for FEB, scaling the result of (1 - partE) by 2\n",
    "df_expanded['FEB'] = (1 - partE) * 2.65"
   ],
   "id": "4a0a3ca0c8ae86fa",
   "outputs": [],
   "execution_count": 74
  },
  {
   "metadata": {
    "ExecuteTime": {
     "end_time": "2025-07-10T10:50:01.029802Z",
     "start_time": "2025-07-10T10:50:01.014113Z"
    }
   },
   "cell_type": "code",
   "source": [
    "# create columns with Phosphorus applied in kg/stremma for equilibrium concentrations 1, 2, 4, 6, and 10 mg/L\n",
    "df_expanded['1ppm_applied'] = 30*(1/1000)*(1000/3)*2.29*(1000*0.15*df_expanded['FEB']*1000/1000000)\n",
    "df_expanded['2ppm_applied'] = 30*(2/1000)*(1000/3)*2.29*(1000*0.15*df_expanded['FEB']*1000/1000000)\n",
    "df_expanded['4ppm_applied'] = 30*(4/1000)*(1000/3)*2.29*(1000*0.15*df_expanded['FEB']*1000/1000000)\n",
    "df_expanded['6ppm_applied'] = 30*(6/1000)*(1000/3)*2.29*(1000*0.15*df_expanded['FEB']*1000/1000000)\n",
    "df_expanded['10ppm_applied'] = 30*(10/1000)*(1000/3)*2.29*(1000*0.15*df_expanded['FEB']*1000/1000000)"
   ],
   "id": "a4d4eb5549e07ef4",
   "outputs": [],
   "execution_count": 75
  },
  {
   "metadata": {
    "ExecuteTime": {
     "end_time": "2025-07-10T10:50:08.964036Z",
     "start_time": "2025-07-10T10:50:08.948441Z"
    }
   },
   "cell_type": "code",
   "source": [
    "# convert applied P to mg/kg of soil\n",
    "df_expanded['1ppm_applied'] = (df_expanded['1ppm_applied']*0.4364*1000000)/(df_expanded['FEB']*15*10000)\n",
    "df_expanded['2ppm_applied'] = (df_expanded['2ppm_applied']*0.4364*1000000)/(df_expanded['FEB']*15*10000)\n",
    "df_expanded['4ppm_applied'] = (df_expanded['4ppm_applied']*0.4364*1000000)/(df_expanded['FEB']*15*10000)\n",
    "df_expanded['6ppm_applied'] = (df_expanded['6ppm_applied']*0.4364*1000000)/(df_expanded['FEB']*15*10000)\n",
    "df_expanded['10ppm_applied'] = (df_expanded['10ppm_applied']*0.4364*1000000)/(df_expanded['FEB']*15*10000)"
   ],
   "id": "9d6b793758dcadbf",
   "outputs": [],
   "execution_count": 76
  },
  {
   "metadata": {
    "ExecuteTime": {
     "end_time": "2025-07-10T10:50:34.436269Z",
     "start_time": "2025-07-10T10:50:34.423392Z"
    }
   },
   "cell_type": "code",
   "source": [
    "# convert from stremma to ha\n",
    "df_expanded['1ppm_applied'] = 10 * df_expanded['1ppm_applied']\n",
    "df_expanded['2ppm_applied'] = 10 * df_expanded['2ppm_applied']\n",
    "df_expanded['4ppm_applied'] = 10 * df_expanded['4ppm_applied']\n",
    "df_expanded['6ppm_applied'] = 10 * df_expanded['6ppm_applied']\n",
    "df_expanded['10ppm_applied'] = 10 * df_expanded['10ppm_applied']"
   ],
   "id": "c22d33dce9b55fad",
   "outputs": [],
   "execution_count": 77
  },
  {
   "metadata": {
    "ExecuteTime": {
     "end_time": "2025-07-10T10:51:01.385296Z",
     "start_time": "2025-07-10T10:51:01.369472Z"
    }
   },
   "cell_type": "code",
   "source": [
    "# calculate percentage adsorption\n",
    "df_expanded['PFP1'] = round(df_expanded['XGBoost_1ppm_adsorbed']*100/df_expanded['1ppm_applied'],1)\n",
    "df_expanded['PFP2'] = round(df_expanded['XGBoost_2ppm_adsorbed']*100/df_expanded['2ppm_applied'],1)\n",
    "df_expanded['PFP4'] = round(df_expanded['XGBoost_4ppm_adsorbed']*100/df_expanded['4ppm_applied'],1)\n",
    "df_expanded['PFP6'] = round(df_expanded['XGBoost_6ppm_adsorbed']*100/df_expanded['6ppm_applied'],1)\n",
    "df_expanded['PFP10'] = round(df_expanded['XGBoost_10ppm_adsorbed']*100/df_expanded['10ppm_applied'],1)"
   ],
   "id": "3fdb53f65c233549",
   "outputs": [],
   "execution_count": 78
  },
  {
   "metadata": {
    "ExecuteTime": {
     "end_time": "2025-07-10T10:51:56.796888Z",
     "start_time": "2025-07-10T10:51:11.473726Z"
    }
   },
   "cell_type": "code",
   "source": [
    "# Langmuir parameters\n",
    "texture_params = {\n",
    "    \"C\":    (16366.058934, 0.005949),\n",
    "    \"CL\":   (14959.937394, 0.006133),\n",
    "    \"L\":    (12055.405405, 0.007546),\n",
    "    \"LS\":   (2803.550024, 0.025078),\n",
    "    \"SCL\":  (8517.247429, 0.010916),\n",
    "    \"SL\":   (4998.743467, 0.017967),\n",
    "    \"SiC\":  (6686.859738, 0.013785),\n",
    "    \"SiCL\": (6840.715595, 0.014428),\n",
    "    \"SiL\":  (104509.787289, 0.000841)\n",
    "}\n",
    "\n",
    "classification_params = {\n",
    "    \"Clayey\": (11822.862819, 0.007950),\n",
    "    \"Loamy\":  (12899.800247, 0.007242),\n",
    "    \"Sandy\":  (8231.606950, 0.010547)\n",
    "}\n",
    "\n",
    "# Langmuir function\n",
    "def langmuir(Ce, Qm, K):\n",
    "    return (Qm * K * Ce) / (1 + K * Ce)\n",
    "\n",
    "# Ce values\n",
    "Ce_values = [1, 2, 4, 6, 10]\n",
    "\n",
    "# Mapping Ce to XGBoost column\n",
    "ce_to_xgb_col = {\n",
    "    1: 'PFP1',\n",
    "    2: 'PFP2',\n",
    "    4: 'PFP4',\n",
    "    6: 'PFP6',\n",
    "    10: 'PFP10'\n",
    "}\n",
    "\n",
    "# Collect new rows\n",
    "expanded_predictions = []\n",
    "\n",
    "for _, row in df_expanded.iterrows():\n",
    "    texture = row['Soil texture']\n",
    "    classification = row['Soil Classification']\n",
    "\n",
    "    if texture in texture_params:\n",
    "        Qm, K = texture_params[texture]\n",
    "        used = 'Texture'\n",
    "        used_texture_param = True\n",
    "    elif classification in classification_params:\n",
    "        Qm, K = classification_params[classification]\n",
    "        used = 'Classification'\n",
    "        used_texture_param = False\n",
    "    else:\n",
    "        Qm, K = np.nan, np.nan\n",
    "        used = 'None'\n",
    "        used_texture_param = np.nan\n",
    "\n",
    "    for Ce in Ce_values:\n",
    "        if not np.isnan(Qm):\n",
    "            q = langmuir(Ce, Qm, K)\n",
    "        else:\n",
    "            q = np.nan\n",
    "\n",
    "        # Get corresponding XGBoost prediction\n",
    "        xgb_col = ce_to_xgb_col[Ce]\n",
    "        xgb_pred = row.get(xgb_col, np.nan)\n",
    "\n",
    "        # Copy row and add values\n",
    "        new_row = row.copy()\n",
    "        new_row['Ce'] = Ce\n",
    "        new_row['P_adsorption'] = q\n",
    "        new_row['PFP'] = xgb_pred\n",
    "        new_row['Used Params From'] = used\n",
    "        new_row['Used Texture Params'] = used_texture_param\n",
    "\n",
    "        expanded_predictions.append(new_row)\n",
    "\n",
    "# Final expanded dataframe\n",
    "df_expanded_10 = pd.DataFrame(expanded_predictions)\n"
   ],
   "id": "8065074601888bcb",
   "outputs": [],
   "execution_count": 79
  },
  {
   "metadata": {
    "ExecuteTime": {
     "end_time": "2025-07-10T10:52:03.061919Z",
     "start_time": "2025-07-10T10:52:03.046264Z"
    }
   },
   "cell_type": "code",
   "source": "df = df_expanded_10.copy()",
   "id": "b05aa020ca19d6ac",
   "outputs": [],
   "execution_count": 80
  },
  {
   "metadata": {
    "ExecuteTime": {
     "end_time": "2025-07-10T10:52:12.491313Z",
     "start_time": "2025-07-10T10:52:12.475475Z"
    }
   },
   "cell_type": "code",
   "source": [
    "# calculate percentage adsorption by soil texture for the extended dataset\n",
    "# Group by 'Soil classification' and 'Ce', then calculate the mean\n",
    "mean_adsorption = df.groupby(['Soil texture', 'Ce'])['PFP'].mean().reset_index()\n",
    "\n",
    "# Optionally, pivot the table to better view the results\n",
    "pivot_table = mean_adsorption.pivot(index='Soil texture', columns='Ce', values='PFP')\n",
    "\n",
    "print(pivot_table)"
   ],
   "id": "848374b81403260a",
   "outputs": [
    {
     "name": "stdout",
     "output_type": "stream",
     "text": [
      "Ce                   1          2          4          6          10\n",
      "Soil texture                                                       \n",
      "C             91.129203  89.693934  88.758232  88.495407  85.118371\n",
      "CL            83.628734  87.032248  86.808734  87.730129  84.671421\n",
      "L             76.861095  84.287623  83.072189  85.590878  82.204142\n",
      "LS            76.352571  76.874857  65.749143  69.815429  61.624571\n",
      "S             76.596774  76.916129  65.435484  69.751613  61.151613\n",
      "SC            81.545000  85.440000  84.345000  85.755000  82.295000\n",
      "SCL           77.697975  83.952981  82.573791  83.555681  79.430709\n",
      "SL            74.433787  78.690681  73.797068  76.346003  70.198499\n",
      "SiC           93.567630  89.712717  89.216185  88.634682  84.746821\n",
      "SiCL          93.113382  90.706083  90.380535  90.105596  86.380535\n",
      "SiL           84.609322  87.916102  87.238983  88.965113  85.368644\n"
     ]
    }
   ],
   "execution_count": 81
  },
  {
   "metadata": {
    "ExecuteTime": {
     "end_time": "2025-07-10T10:52:58.471673Z",
     "start_time": "2025-07-10T10:52:58.459280Z"
    }
   },
   "cell_type": "code",
   "source": [
    "# calculate std by soil texture for the extended dataset\n",
    "pivot_std = df.groupby(['Soil texture', 'Ce'])['PFP'].std().reset_index()\n",
    "pivot_std = pivot_std.pivot(index='Soil texture', columns='Ce', values='PFP')\n",
    "print(pivot_std)"
   ],
   "id": "fdf2f140f326b79",
   "outputs": [
    {
     "name": "stdout",
     "output_type": "stream",
     "text": [
      "Ce                   1          2          4         6          10\n",
      "Soil texture                                                      \n",
      "C             12.867078   8.450598   8.173876  7.570804   7.380424\n",
      "CL            14.649420   8.886777   7.940832  6.499603   6.314507\n",
      "L             14.397276   8.774223   8.634004  6.882619   7.027112\n",
      "LS            10.900226   9.501945   7.350017  7.582704   7.316264\n",
      "S             11.113730  10.177593   5.087340  7.632600   6.590745\n",
      "SC            10.079812   6.347764   6.346858  3.257134   3.266976\n",
      "SCL           12.688274   7.967966   8.211009  6.466159   6.774589\n",
      "SL            12.842221   9.838483  10.365182  9.829733  10.697628\n",
      "SiC           10.028424   7.007443   7.674450  7.315996   7.195376\n",
      "SiCL           9.507622   5.705666   5.841250  5.412731   5.526642\n",
      "SiL           13.914402   7.225804   6.719273  5.045399   5.320469\n"
     ]
    }
   ],
   "execution_count": 82
  },
  {
   "metadata": {
    "ExecuteTime": {
     "end_time": "2025-07-10T10:54:01.120606Z",
     "start_time": "2025-07-10T10:54:01.105444Z"
    }
   },
   "cell_type": "code",
   "source": "df = df.rename(columns={'Soil texture': 'Soil_texture'})",
   "id": "cef31c0428e9b0e8",
   "outputs": [],
   "execution_count": 83
  },
  {
   "metadata": {
    "ExecuteTime": {
     "end_time": "2025-07-10T10:54:06.939141Z",
     "start_time": "2025-07-10T10:54:06.923310Z"
    }
   },
   "cell_type": "code",
   "source": "df = df.rename(columns={'Organic matter': 'Organic_matter'})",
   "id": "5f45a182f93cf9b9",
   "outputs": [],
   "execution_count": 84
  },
  {
   "metadata": {
    "ExecuteTime": {
     "end_time": "2025-07-10T10:54:12.361603Z",
     "start_time": "2025-07-10T10:54:12.345517Z"
    }
   },
   "cell_type": "code",
   "source": "df = df.rename(columns={'C': 'Clay'})",
   "id": "945b53debdd8c53b",
   "outputs": [],
   "execution_count": 85
  },
  {
   "metadata": {
    "ExecuteTime": {
     "end_time": "2025-07-10T10:54:28.462760Z",
     "start_time": "2025-07-10T10:54:22.563370Z"
    }
   },
   "cell_type": "code",
   "source": [
    "import pandas as pd\n",
    "import statsmodels.api as sm\n",
    "from statsmodels.formula.api import ols\n",
    "from statsmodels.stats.multicomp import pairwise_tukeyhsd, MultiComparison\n",
    "from collections import defaultdict\n",
    "\n",
    "# Example: run this for each Ce level\n",
    "letters_dict = {}\n",
    "\n",
    "for ce_level in df['Ce'].unique():\n",
    "    sub_df = df[df['Ce'] == ce_level]\n",
    "\n",
    "    # ANOVA\n",
    "    model = ols('PFP ~ C(Soil_texture)', data=sub_df).fit()\n",
    "    anova_table = sm.stats.anova_lm(model, typ=2)\n",
    "\n",
    "    # Tukey HSD\n",
    "    mc = MultiComparison(sub_df['PFP'], sub_df['Soil_texture'])\n",
    "    tukey_result = mc.tukeyhsd()\n",
    "\n",
    "    # Extract group letters\n",
    "    summary_df = pd.DataFrame(data=tukey_result._results_table.data[1:], columns=tukey_result._results_table.data[0])\n",
    "    groups = mc.groupsunique\n",
    "    reject_dict = defaultdict(set)\n",
    "\n",
    "    for i, row in summary_df.iterrows():\n",
    "        if not row['reject']:\n",
    "            # Not significantly different -> share a group\n",
    "            reject_dict[row['group1']].add(row['group2'])\n",
    "            reject_dict[row['group2']].add(row['group1'])\n",
    "\n",
    "    # Assign letters (simplified greedy algorithm)\n",
    "    group_letters = {}\n",
    "    used_letters = []\n",
    "    for group in sorted(groups):\n",
    "        assigned = False\n",
    "        for letter in used_letters:\n",
    "            if all(g not in reject_dict[group] for g, l in group_letters.items() if l == letter):\n",
    "                group_letters[group] = letter\n",
    "                assigned = True\n",
    "                break\n",
    "        if not assigned:\n",
    "            new_letter = chr(97 + len(used_letters))  # 'a', 'b', 'c', ...\n",
    "            group_letters[group] = new_letter\n",
    "            used_letters.append(new_letter)\n",
    "\n",
    "    letters_dict[ce_level] = group_letters\n",
    "\n",
    "# Example output\n",
    "for ce, letter_map in letters_dict.items():\n",
    "    print(f\"Ce = {ce} mg/L\")\n",
    "    for soil_class, letter in letter_map.items():\n",
    "        print(f\"  {soil_class}: {letter}\")\n"
   ],
   "id": "9164b390892b7d08",
   "outputs": [
    {
     "name": "stderr",
     "output_type": "stream",
     "text": [
      "C:\\Users\\miatr\\Documents\\fastai\\venv\\lib\\site-packages\\scipy\\integrate\\_quadpack_py.py:1233: IntegrationWarning: The integral is probably divergent, or slowly convergent.\n",
      "  quad_r = quad(f, low, high, args=args, full_output=self.full_output,\n"
     ]
    },
    {
     "name": "stdout",
     "output_type": "stream",
     "text": [
      "Ce = 1 mg/L\n",
      "  C: a\n",
      "  CL: a\n",
      "  L: a\n",
      "  LS: b\n",
      "  S: c\n",
      "  SC: d\n",
      "  SCL: e\n",
      "  SL: a\n",
      "  SiC: b\n",
      "  SiCL: c\n",
      "  SiL: b\n",
      "Ce = 2 mg/L\n",
      "  C: a\n",
      "  CL: a\n",
      "  L: a\n",
      "  LS: a\n",
      "  S: b\n",
      "  SC: b\n",
      "  SCL: c\n",
      "  SL: c\n",
      "  SiC: c\n",
      "  SiCL: d\n",
      "  SiL: d\n",
      "Ce = 4 mg/L\n",
      "  C: a\n",
      "  CL: a\n",
      "  L: a\n",
      "  LS: a\n",
      "  S: b\n",
      "  SC: b\n",
      "  SCL: c\n",
      "  SL: a\n",
      "  SiC: c\n",
      "  SiCL: a\n",
      "  SiL: d\n",
      "Ce = 6 mg/L\n",
      "  C: a\n",
      "  CL: b\n",
      "  L: a\n",
      "  LS: a\n",
      "  S: b\n",
      "  SC: c\n",
      "  SCL: a\n",
      "  SL: a\n",
      "  SiC: d\n",
      "  SiCL: a\n",
      "  SiL: b\n",
      "Ce = 10 mg/L\n",
      "  C: a\n",
      "  CL: b\n",
      "  L: a\n",
      "  LS: a\n",
      "  S: b\n",
      "  SC: c\n",
      "  SCL: a\n",
      "  SL: a\n",
      "  SiC: d\n",
      "  SiCL: b\n",
      "  SiL: e\n"
     ]
    }
   ],
   "execution_count": 86
  },
  {
   "metadata": {},
   "cell_type": "code",
   "outputs": [],
   "execution_count": null,
   "source": "",
   "id": "6126774d2ee75da6"
  }
 ],
 "metadata": {
  "kernelspec": {
   "display_name": "Python 3",
   "language": "python",
   "name": "python3"
  },
  "language_info": {
   "codemirror_mode": {
    "name": "ipython",
    "version": 2
   },
   "file_extension": ".py",
   "mimetype": "text/x-python",
   "name": "python",
   "nbconvert_exporter": "python",
   "pygments_lexer": "ipython2",
   "version": "2.7.6"
  }
 },
 "nbformat": 4,
 "nbformat_minor": 5
}
